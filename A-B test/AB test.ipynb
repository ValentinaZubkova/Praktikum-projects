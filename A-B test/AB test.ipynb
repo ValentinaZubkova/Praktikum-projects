
  {
   "cell_type": "markdown",
   "metadata": {},
   "source": [
    "# Самостоятельный проект. Принятие решений в бизнесе на основе данных"
   ]
  },
  {
   "cell_type": "markdown",
   "metadata": {},
   "source": [
    "В этом проекте я работаю аналитиком в интернет-магазине. Вместе с отделом маркетинга был подготовлен ряд гипотез и проведен A/B тест.\n",
    "\n",
    "В рамках подготовки проекта нужно будет сделать следующее:\n",
    "1. Изучить и предобработать данные;\n",
    "2. Изучить предоставленные гипотезы и приоритизировать их по фреймворкам ICE и RICE;\n",
    "3. Изучить кумулятивные графики средней выручки, чека и конверсии по группам A/B теста;\n",
    "4. Изучить графики относительного изменения среднего чека и  конверсии;\n",
    "5. Выявить аномальные значения по сумме чека и количеству заказов;\n",
    "6. Посчитать статистическую значимость различий конверсии и среднего чека по группам А и В на сырых и очищенных данных;\n",
    "7. Сделать вывод о дальнейших действиях по A/B тесту."
   ]
  },
  {
   "cell_type": "markdown",
   "metadata": {},
   "source": [
    "<a class=\"anchor\" id=\"chapter1\"></a>\n",
    "\n",
    "\n",
    "## Шаг 1. Загрузка и обработка данных"
   ]
  },
  {
   "cell_type": "code",
   "execution_count": 1,
   "metadata": {},
   "outputs": [],
   "source": [
    "#импортируем необходимые библиотеки\n",
    "import pandas as pd\n",
    "import matplotlib.pyplot as plt\n",
    "import numpy as np\n",
    "from scipy import stats as st\n",
    "import seaborn as sns\n",
    "from matplotlib import pyplot as plt\n",
    "import scipy.stats as stats"
   ]
  },
  {
   "cell_type": "code",
   "execution_count": 2,
   "metadata": {},
   "outputs": [
    {
     "name": "stdout",
     "output_type": "stream",
     "text": [
      "<class 'pandas.core.frame.DataFrame'>\n",
      "RangeIndex: 9 entries, 0 to 8\n",
      "Data columns (total 5 columns):\n",
      "Hypothesis    9 non-null object\n",
      "Reach         9 non-null int64\n",
      "Impact        9 non-null int64\n",
      "Confidence    9 non-null int64\n",
      "Efforts       9 non-null int64\n",
      "dtypes: int64(4), object(1)\n",
      "memory usage: 488.0+ bytes\n",
      "                                          Hypothesis  Reach  Impact  \\\n",
      "0  Добавить два новых канала привлечения трафика,...      3      10   \n",
      "1  Запустить собственную службу доставки, что сок...      2       5   \n",
      "2  Добавить блоки рекомендаций товаров на сайт ин...      8       3   \n",
      "3  Изменить структура категорий, что увеличит кон...      8       3   \n",
      "4  Изменить цвет фона главной страницы, чтобы уве...      3       1   \n",
      "5  Добавить страницу отзывов клиентов о магазине,...      3       2   \n",
      "6  Показать на главной странице баннеры с актуаль...      5       3   \n",
      "7  Добавить форму подписки на все основные страни...     10       7   \n",
      "8  Запустить акцию, дающую скидку на товар в день...      1       9   \n",
      "\n",
      "   Confidence  Efforts  \n",
      "0           8        6  \n",
      "1           4       10  \n",
      "2           7        3  \n",
      "3           3        8  \n",
      "4           1        1  \n",
      "5           2        3  \n",
      "6           8        3  \n",
      "7           8        5  \n",
      "8           9        5  \n"
     ]
    }
   ],
   "source": [
    "hypothesis = pd.read_csv('/datasets/hypothesis.csv')\n",
    "hypothesis.info()\n",
    "print(hypothesis)"
   ]
  },
  {
   "cell_type": "markdown",
   "metadata": {},
   "source": [
    "В файле hypothesis 9 строк с различными гипотезами, есть столбцы с описанием гипотез и показателями Reach, Impact, Confidence и Efforts в целочисленном формате, пропусков в данных нет. На мой взгляд, изменений вносить не нужно."
   ]
  },
  {
   "cell_type": "code",
   "execution_count": 3,
   "metadata": {},
   "outputs": [
    {
     "name": "stdout",
     "output_type": "stream",
     "text": [
      "<class 'pandas.core.frame.DataFrame'>\n",
      "RangeIndex: 1197 entries, 0 to 1196\n",
      "Data columns (total 5 columns):\n",
      "transactionId    1197 non-null int64\n",
      "visitorId        1197 non-null int64\n",
      "date             1197 non-null object\n",
      "revenue          1197 non-null int64\n",
      "group            1197 non-null object\n",
      "dtypes: int64(3), object(2)\n",
      "memory usage: 46.9+ KB\n"
     ]
    }
   ],
   "source": [
    "orders = pd.read_csv('/datasets/orders.csv')\n",
    "orders.info()"
   ]
  },
  {
   "cell_type": "code",
   "execution_count": 4,
   "metadata": {},
   "outputs": [
    {
     "name": "stdout",
     "output_type": "stream",
     "text": [
      "   transactionId   visitorId       date  revenue group\n",
      "0     3667963787  3312258926 2019-08-15     1650     B\n",
      "1     2804400009  3642806036 2019-08-15      730     B\n",
      "2     2961555356  4069496402 2019-08-15      400     A\n",
      "3     3797467345  1196621759 2019-08-15     9759     B\n",
      "4     2282983706  2322279887 2019-08-15     2308     B\n"
     ]
    }
   ],
   "source": [
    "orders['date'] = pd.to_datetime(orders['date'])\n",
    "print(orders.head(5))"
   ]
  },
  {
   "cell_type": "markdown",
   "metadata": {},
   "source": [
    "В таблице orders представлены данные о заказах, в таблице 1197 строк, 5 столбцов, пропусков нет. Столбец с датой был приведен к формату даты."
   ]
  },
  {
   "cell_type": "code",
   "execution_count": 5,
   "metadata": {},
   "outputs": [
    {
     "name": "stdout",
     "output_type": "stream",
     "text": [
      "<class 'pandas.core.frame.DataFrame'>\n",
      "RangeIndex: 62 entries, 0 to 61\n",
      "Data columns (total 3 columns):\n",
      "date        62 non-null object\n",
      "group       62 non-null object\n",
      "visitors    62 non-null int64\n",
      "dtypes: int64(1), object(2)\n",
      "memory usage: 1.6+ KB\n"
     ]
    }
   ],
   "source": [
    "visitors = pd.read_csv('/datasets/visitors.csv')\n",
    "visitors.info()"
   ]
  },
  {
   "cell_type": "code",
   "execution_count": 6,
   "metadata": {},
   "outputs": [
    {
     "name": "stdout",
     "output_type": "stream",
     "text": [
      "        date group  visitors\n",
      "0 2019-08-01     A       719\n",
      "1 2019-08-02     A       619\n",
      "2 2019-08-03     A       507\n",
      "3 2019-08-04     A       717\n",
      "4 2019-08-05     A       756\n"
     ]
    }
   ],
   "source": [
    "visitors['date'] = pd.to_datetime(visitors['date'])\n",
    "print(visitors.head(5))"
   ]
  },
  {
   "cell_type": "markdown",
   "metadata": {},
   "source": [
    "В таблице visitors 62 строки, 3 столбца, пропусков нет. Столбец с данными был приведен к формату даты."
   ]
  },
  {
   "cell_type": "code",
   "execution_count": 7,
   "metadata": {},
   "outputs": [
    {
     "name": "stdout",
     "output_type": "stream",
     "text": [
      "Количество дубликатов таблицы visitors: 0\n",
      "Количество дубликатов таблицы orders: 0\n"
     ]
    }
   ],
   "source": [
    "print(\"Количество дубликатов таблицы visitors:\",visitors.duplicated().sum())\n",
    "print(\"Количество дубликатов таблицы orders:\",orders.duplicated().sum())"
   ]
  },

  {
   "cell_type": "markdown",
   "metadata": {},
   "source": [
    "## Шаг 2. Приоритизация гипотез."
   ]
  },
  {
   "cell_type": "code",
   "execution_count": 8,
   "metadata": {},
   "outputs": [],
   "source": [
    "hypothesis['ICE'] = hypothesis['Impact'] * hypothesis['Confidence']/ hypothesis['Efforts']\n",
    "hypothesis['RICE'] = hypothesis['Reach'] * hypothesis['Impact'] * hypothesis['Confidence'] / hypothesis ['Efforts']"
   ]
  },
  {
   "cell_type": "code",
   "execution_count": 9,
   "metadata": {},
   "outputs": [
    {
     "name": "stdout",
     "output_type": "stream",
     "text": [
      "['Добавить два новых канала привлечения трафика, что позволит привлекать на 30% больше пользователей'\n",
      " 'Запустить собственную службу доставки, что сократит срок доставки заказов'\n",
      " 'Добавить блоки рекомендаций товаров на сайт интернет магазина, чтобы повысить конверсию и средний чек заказа'\n",
      " 'Изменить структура категорий, что увеличит конверсию, т.к. пользователи быстрее найдут нужный товар'\n",
      " 'Изменить цвет фона главной страницы, чтобы увеличить вовлеченность пользователей'\n",
      " 'Добавить страницу отзывов клиентов о магазине, что позволит увеличить количество заказов'\n",
      " 'Показать на главной странице баннеры с актуальными акциями и распродажами, чтобы увеличить конверсию'\n",
      " 'Добавить форму подписки на все основные страницы, чтобы собрать базу клиентов для email-рассылок'\n",
      " 'Запустить акцию, дающую скидку на товар в день рождения']\n"
     ]
    }
   ],
   "source": [
    "print(hypothesis['Hypothesis'].unique())"
   ]
  },
  {
   "cell_type": "code",
   "execution_count": 10,
   "metadata": {},
   "outputs": [
    {
     "name": "stdout",
     "output_type": "stream",
     "text": [
      "         ICE\n",
      "8  16.200000\n",
      "0  13.333333\n",
      "7  11.200000\n",
      "6   8.000000\n",
      "2   7.000000\n",
      "1   2.000000\n",
      "5   1.333333\n",
      "3   1.125000\n",
      "4   1.000000\n"
     ]
    }
   ],
   "source": [
    "print(hypothesis[[ 'ICE']].sort_values(by ='ICE', ascending = False))"
   ]
  },
  {
   "cell_type": "code",
   "execution_count": 11,
   "metadata": {},
   "outputs": [
    {
     "name": "stdout",
     "output_type": "stream",
     "text": [
      "    RICE\n",
      "7  112.0\n",
      "2   56.0\n",
      "0   40.0\n",
      "6   40.0\n",
      "8   16.2\n",
      "3    9.0\n",
      "1    4.0\n",
      "5    4.0\n",
      "4    3.0\n"
     ]
    }
   ],
   "source": [
    "print(hypothesis[[ 'RICE']].sort_values(by ='RICE', ascending = False))"
   ]
  },
 
  
  {
   "cell_type": "code",
   "execution_count": 12,
   "metadata": {},
   "outputs": [
    {
     "data": {
      "text/html": [
       "<div>\n",
       "<style scoped>\n",
       "    .dataframe tbody tr th:only-of-type {\n",
       "        vertical-align: middle;\n",
       "    }\n",
       "\n",
       "    .dataframe tbody tr th {\n",
       "        vertical-align: top;\n",
       "    }\n",
       "\n",
       "    .dataframe thead th {\n",
       "        text-align: right;\n",
       "    }\n",
       "</style>\n",
       "<table border=\"1\" class=\"dataframe\">\n",
       "  <thead>\n",
       "    <tr style=\"text-align: right;\">\n",
       "      <th></th>\n",
       "      <th>Hypothesis</th>\n",
       "      <th>Reach</th>\n",
       "      <th>Impact</th>\n",
       "      <th>Confidence</th>\n",
       "      <th>Efforts</th>\n",
       "      <th>ICE</th>\n",
       "      <th>RICE</th>\n",
       "    </tr>\n",
       "  </thead>\n",
       "  <tbody>\n",
       "    <tr>\n",
       "      <td>0</td>\n",
       "      <td>Добавить два новых канала привлечения трафика,...</td>\n",
       "      <td>3</td>\n",
       "      <td>10</td>\n",
       "      <td>8</td>\n",
       "      <td>6</td>\n",
       "      <td>13.333333</td>\n",
       "      <td>40.0</td>\n",
       "    </tr>\n",
       "    <tr>\n",
       "      <td>1</td>\n",
       "      <td>Запустить собственную службу доставки, что сок...</td>\n",
       "      <td>2</td>\n",
       "      <td>5</td>\n",
       "      <td>4</td>\n",
       "      <td>10</td>\n",
       "      <td>2.000000</td>\n",
       "      <td>4.0</td>\n",
       "    </tr>\n",
       "    <tr>\n",
       "      <td>2</td>\n",
       "      <td>Добавить блоки рекомендаций товаров на сайт ин...</td>\n",
       "      <td>8</td>\n",
       "      <td>3</td>\n",
       "      <td>7</td>\n",
       "      <td>3</td>\n",
       "      <td>7.000000</td>\n",
       "      <td>56.0</td>\n",
       "    </tr>\n",
       "    <tr>\n",
       "      <td>3</td>\n",
       "      <td>Изменить структура категорий, что увеличит кон...</td>\n",
       "      <td>8</td>\n",
       "      <td>3</td>\n",
       "      <td>3</td>\n",
       "      <td>8</td>\n",
       "      <td>1.125000</td>\n",
       "      <td>9.0</td>\n",
       "    </tr>\n",
       "    <tr>\n",
       "      <td>4</td>\n",
       "      <td>Изменить цвет фона главной страницы, чтобы уве...</td>\n",
       "      <td>3</td>\n",
       "      <td>1</td>\n",
       "      <td>1</td>\n",
       "      <td>1</td>\n",
       "      <td>1.000000</td>\n",
       "      <td>3.0</td>\n",
       "    </tr>\n",
       "    <tr>\n",
       "      <td>5</td>\n",
       "      <td>Добавить страницу отзывов клиентов о магазине,...</td>\n",
       "      <td>3</td>\n",
       "      <td>2</td>\n",
       "      <td>2</td>\n",
       "      <td>3</td>\n",
       "      <td>1.333333</td>\n",
       "      <td>4.0</td>\n",
       "    </tr>\n",
       "    <tr>\n",
       "      <td>6</td>\n",
       "      <td>Показать на главной странице баннеры с актуаль...</td>\n",
       "      <td>5</td>\n",
       "      <td>3</td>\n",
       "      <td>8</td>\n",
       "      <td>3</td>\n",
       "      <td>8.000000</td>\n",
       "      <td>40.0</td>\n",
       "    </tr>\n",
       "    <tr>\n",
       "      <td>7</td>\n",
       "      <td>Добавить форму подписки на все основные страни...</td>\n",
       "      <td>10</td>\n",
       "      <td>7</td>\n",
       "      <td>8</td>\n",
       "      <td>5</td>\n",
       "      <td>11.200000</td>\n",
       "      <td>112.0</td>\n",
       "    </tr>\n",
       "    <tr>\n",
       "      <td>8</td>\n",
       "      <td>Запустить акцию, дающую скидку на товар в день...</td>\n",
       "      <td>1</td>\n",
       "      <td>9</td>\n",
       "      <td>9</td>\n",
       "      <td>5</td>\n",
       "      <td>16.200000</td>\n",
       "      <td>16.2</td>\n",
       "    </tr>\n",
       "  </tbody>\n",
       "</table>\n",
       "</div>"
      ],
      "text/plain": [
       "                                          Hypothesis  Reach  Impact  \\\n",
       "0  Добавить два новых канала привлечения трафика,...      3      10   \n",
       "1  Запустить собственную службу доставки, что сок...      2       5   \n",
       "2  Добавить блоки рекомендаций товаров на сайт ин...      8       3   \n",
       "3  Изменить структура категорий, что увеличит кон...      8       3   \n",
       "4  Изменить цвет фона главной страницы, чтобы уве...      3       1   \n",
       "5  Добавить страницу отзывов клиентов о магазине,...      3       2   \n",
       "6  Показать на главной странице баннеры с актуаль...      5       3   \n",
       "7  Добавить форму подписки на все основные страни...     10       7   \n",
       "8  Запустить акцию, дающую скидку на товар в день...      1       9   \n",
       "\n",
       "   Confidence  Efforts        ICE   RICE  \n",
       "0           8        6  13.333333   40.0  \n",
       "1           4       10   2.000000    4.0  \n",
       "2           7        3   7.000000   56.0  \n",
       "3           3        8   1.125000    9.0  \n",
       "4           1        1   1.000000    3.0  \n",
       "5           2        3   1.333333    4.0  \n",
       "6           8        3   8.000000   40.0  \n",
       "7           8        5  11.200000  112.0  \n",
       "8           9        5  16.200000   16.2  "
      ]
     },
     "execution_count": 12,
     "metadata": {},
     "output_type": "execute_result"
    }
   ],
   "source": [
    "hypothesis"
   ]
  },
  {
   "cell_type": "markdown",
   "metadata": {},
   "source": [
    "При использовании фреймворка ICE топ-3 гипотез был следующий:\n",
    "'Запустить акцию, дающую скидку на товар в день рождения';\n",
    "'Добавить два новых канала привлечения трафика, что позволит привлекать на 30% больше пользователей';\n",
    "'Добавить форму подписки на все основные страницы, чтобы собрать базу клиентов для email-рассылок'.\n",
    "\n",
    "При использовании фреймворка RICE топ-3 был следующий:\n",
    "'Добавить форму подписки на все основные страницы, чтобы собрать базу клиентов для email-рассылок';\n",
    "'Добавить блоки рекомендаций товаров на сайт интернет магазина, чтобы повысить конверсию и средний чек заказа';\n",
    "'Добавить два новых канала привлечения трафика, что позволит привлекать на 30% больше пользователей';\n",
    "'Показать на главной странице баннеры с актуальными акциями и распродажами, чтобы увеличить конверсию'.\n",
    "\n",
    "2 гипотезы попали в обе выборки, но по некоторым есть расхождения за счет показателя Reach - какой охват пользователей затронет это изменение, поэтому гипотеза об акции в день рождения переместилась по приоритетам на 5-е место из-за того, что для пользователя она актуальна только раз в году и введя эту акцию, таким образом внедрение этой гипотезы не даст сильного долгосрочного эффекта по предварительным оценкам несмотря на то, что мы уверены в том, что введение этой акции простимулирует сделать заказ."
   ]
  },

  {
   "cell_type": "markdown",
   "metadata": {},
   "source": [
    "## Шаг 3. Анализ A/B теста"
   ]
  },
  {
   "cell_type": "code",
   "execution_count": 13,
   "metadata": {},
   "outputs": [
    {
     "name": "stdout",
     "output_type": "stream",
     "text": [
      "        date group  orders  buyers  revenue  visitors\n",
      "0 2019-08-01     A      24      20   148579       719\n",
      "1 2019-08-01     B      21      20   101217       713\n",
      "2 2019-08-02     A      44      38   242401      1338\n",
      "3 2019-08-02     B      45      43   266748      1294\n",
      "4 2019-08-03     A      68      62   354874      1845\n"
     ]
    }
   ],
   "source": [
    "#соберем датасет с данными по дате,посетителям и накопительной выручке\n",
    "datesGroups = orders[['date','group']].drop_duplicates()\n",
    "ordersAggregated = datesGroups.apply(\n",
    "    lambda x: orders[np.logical_and(orders['date'] <= x['date'], orders['group'] == x['group'])].agg({\n",
    "'date' : 'max',\n",
    "'group' : 'max',\n",
    "'transactionId' : pd.Series.nunique,\n",
    "'visitorId' : pd.Series.nunique,\n",
    "'revenue' : 'sum'}), axis=1).sort_values(by=['date','group'])\n",
    "\n",
    "visitorsAggregated = datesGroups.apply(lambda x: \n",
    "                                       visitors[np.logical_and(visitors['date'] <= x['date'], \n",
    "                                                               visitors['group'] == x['group'])].agg({\n",
    "                                                                                               'date' : 'max', \n",
    "                                                                                               'group' : 'max', \n",
    "                                                                                               'visitors' : 'sum'\n",
    "                                                                                                    }), \n",
    "                                       axis=1).sort_values(by=['date','group'])\n",
    "\n",
    "cumulativeData = ordersAggregated.merge(visitorsAggregated, left_on=['date', 'group'], right_on=['date', 'group'])\n",
    "cumulativeData.columns = ['date', 'group', 'orders', 'buyers', 'revenue', 'visitors']\n",
    "print(cumulativeData.head(5))"
   ]
  },
 
  {
   "cell_type": "markdown",
   "metadata": {},
   "source": [
    "### 3.1 Анализ выручки и средних чеков по группам"
   ]
  },
  {
   "cell_type": "code",
   "execution_count": 14,
   "metadata": {},
   "outputs": [],
   "source": [
    "# датафрейм с кумулятивным количеством заказов и кумулятивной выручкой по дням в группе А и B\n",
    "cumulativeRevenueA = cumulativeData[cumulativeData['group']=='A'][['date','revenue', 'orders']]\n",
    "cumulativeRevenueB = cumulativeData[cumulativeData['group']=='B'][['date','revenue', 'orders']]"
   ]
  },
  {
   "cell_type": "code",
   "execution_count": 15,
   "metadata": {},
   "outputs": [
    {
     "name": "stderr",
     "output_type": "stream",
     "text": [
      "/opt/conda/lib/python3.7/site-packages/pandas/plotting/_matplotlib/converter.py:103: FutureWarning: Using an implicitly registered datetime converter for a matplotlib plotting method. The converter was registered by pandas on import. Future versions of pandas will require you to explicitly register matplotlib converters.\n",
      "\n",
      "To register the converters:\n",
      "\t>>> from pandas.plotting import register_matplotlib_converters\n",
      "\t>>> register_matplotlib_converters()\n",
      "  warnings.warn(msg, FutureWarning)\n"
     ]
    },
    {
     "data": {
      "image/png": "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\n",
      "text/plain": [
       "<Figure size 864x360 with 1 Axes>"
      ]
     },
     "metadata": {
      "needs_background": "light"
     },
     "output_type": "display_data"
    }
   ],
   "source": [
    "#Построим графики по накопительной выручке по группам\n",
    "plt.figure(figsize=(12, 5))\n",
    "plt.title(\"Накопительная выручка по группам\");\n",
    "plt.xlabel('Дата');\n",
    "plt.ylabel('Накопительная выручка');\n",
    "plt.plot(cumulativeRevenueA['date'], cumulativeRevenueA['revenue'], label='A')\n",
    "plt.plot(cumulativeRevenueB['date'], cumulativeRevenueB['revenue'], label='B')\n",
    "plt.show()\n"
   ]
  },

  {
   "cell_type": "markdown",
   "metadata": {},
   "source": [
    "На графике мы видим, что в первую половину месяца динамика по накопительной выручке по группам была примерно одинаковой. В начале второй половины произошел резкий скачок в группе В, но при этом угол графика остался примерно таким же как и группы А. Возможно в группу В попал аномально крупный заказ, спровоцировавший этот скачок."
   ]
  },
 
  {
   "cell_type": "code",
   "execution_count": 16,
   "metadata": {},
   "outputs": [
    {
     "data": {
      "image/png": "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\n",
      "text/plain": [
       "<Figure size 864x360 with 1 Axes>"
      ]
     },
     "metadata": {
      "needs_background": "light"
     },
     "output_type": "display_data"
    }
   ],
   "source": [
    "#Построим графики по накопительному среднему чеку по группам\n",
    "plt.figure(figsize=(12, 5))\n",
    "plt.title(\"Накопительный средний чек группам\");\n",
    "plt.xlabel('Дата');\n",
    "plt.ylabel('Накопительный средний чек');\n",
    "plt.plot(cumulativeRevenueA['date'], cumulativeRevenueA['revenue']/cumulativeRevenueA['orders'], label='A')\n",
    "plt.plot(cumulativeRevenueB['date'], cumulativeRevenueB['revenue']/cumulativeRevenueB['orders'], label='B')\n",
    "plt.show()"
   ]
  },
  {
   "cell_type": "markdown",
   "metadata": {},
   "source": [
    "На графике по накопительному среднему чеку мы видим картину схожую с предыдущим графиком: аномальный всплеск во второй половине месяца в группе В, который скорее всего был вызван одним аномально большим заказом."
   ]
  },

  {
   "cell_type": "code",
   "execution_count": 17,
   "metadata": {},
   "outputs": [
    {
     "data": {
      "image/png": "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\n",
      "text/plain": [
       "<Figure size 864x360 with 1 Axes>"
      ]
     },
     "metadata": {
      "needs_background": "light"
     },
     "output_type": "display_data"
    }
   ],
   "source": [
    "#Построим график относительного кумулятивного изменения чеков\n",
    "plt.figure(figsize=(12, 5))\n",
    "plt.title(\"Относительное кумулятивное изменение средних чеков\");\n",
    "plt.xlabel('Дата');\n",
    "plt.ylabel('Отклонение');\n",
    "mergedCumulativeRevenue = cumulativeRevenueA.merge(cumulativeRevenueB, left_on='date', right_on='date', how='left', suffixes=['A', 'B'])\n",
    "plt.plot(mergedCumulativeRevenue['date'], (mergedCumulativeRevenue['revenueB']/mergedCumulativeRevenue['ordersB'])/(mergedCumulativeRevenue['revenueA']/mergedCumulativeRevenue['ordersA'])-1)\n",
    "plt.axhline(y=0, color='black', linestyle='--')\n",
    "plt.show()"
   ]
  },
  {
   "cell_type": "markdown",
   "metadata": {},
   "source": [
    "В целом, группа В показывает положительную динамику кумулятивного изменения чека по отношению к группе В, так как большая часть графика находится выше 0. Сильный скачок 17.08.19 аналогичный графикам накопительной выручки и средних чеков может натолкнуть на мысль, что  но возможно, если мы уберем аномальные заказы, то соотношение выравняется."
   ]
  },
 
  {
   "cell_type": "markdown",
   "metadata": {},
   "source": [
    "### 3.2. Анализ конверсии по группам"
   ]
  },
  {
   "cell_type": "code",
   "execution_count": 18,
   "metadata": {},
   "outputs": [],
   "source": [
    "# датафрейм с кумулятивным количеством посетителей и покупателей по дням в группе А и B\n",
    "cumulativeBuyersA = cumulativeData[cumulativeData['group']=='A'][['date','buyers', 'visitors']]\n",
    "cumulativeBuyersB = cumulativeData[cumulativeData['group']=='B'][['date','buyers', 'visitors']]"
   ]
  },
  {
   "cell_type": "code",
   "execution_count": 19,
   "metadata": {},
   "outputs": [
    {
     "data": {
      "image/png": "iVBORw0KGgoAAAANSUhEUgAAAoIAAAFNCAYAAACUpg7pAAAABHNCSVQICAgIfAhkiAAAAAlwSFlzAAALEgAACxIB0t1+/AAAADh0RVh0U29mdHdhcmUAbWF0cGxvdGxpYiB2ZXJzaW9uMy4xLjAsIGh0dHA6Ly9tYXRwbG90bGliLm9yZy+17YcXAAAgAElEQVR4nOzdeXiU1fXA8e/JThISyMK+JCyyCCKIuO+oLCqC4r60brXWVmtba/trrdVWpVprW63Vqq2iiIgbsohWQa2KiuwQdpA9C1smCdnv74/7ThhCIJOZeWcmyfk8T54k77zLnaDhcO8954gxBqWUUkop1frERHoASimllFIqMjQQVEoppZRqpTQQVEoppZRqpTQQVEoppZRqpTQQVEoppZRqpTQQVEoppZRqpTQQVEoppZRqpTQQVKoVE5HNIjLS5/uuIrJRRP4UyXEppZQKDw0ElVIAiEg28F9gjjHm3kiPRymllPs0EFRKISLtgA+Ar4E7nWOdRKRMRDJ9zhsmIoUiEi8i3xMRIyI/9Xl9jHPsD873K0TkYp/X40WkSESG+hwzIlIqIiUiUuVzbYyI/MN5XomIlIvIfOe1pc6xAyJS63xdIiK/9rlnH+frHs55rzjf5zive69ZISJn1xtPH5/v/yAi//H5/g0R2SUi+0XkUxE51ue1TiLygYjs83k/DxzhZ/6Az5iSROQTEZnk8/olIrLSudd8ERng81r9mdxbvD+bBn6mG0Rkos9rXUTkTefnuklEflJvTNNF5HUR8YjIIhEZ4vN6dxF5y7l2t4g85Rz/noj8z+e8e50xjHS+T3F+bnucMVX6/kyVUpGjgaBSKhWYA8QBNxmn76QxZhcwH7jC59zrganGmCrn+/XAjT6v3wLk+Xz/MnCdz/djgJ3GmMVggz3n+HHGmFTgVZ9zLwDG+7x2p/cFY8wQ59hoYIcxJtX5eLiB9/cQsLuB4+2AtsA04PEGXj+SOUBfoAOwqN6Y7wZqgM7O+F5v7GYiEueMYa0x5pfOsWOA15z7ZQOzgfdEJKEJ4/T+jB4EnnHuGwO8BywFugLnAXeLyIU+140D3gAygCnAO04AHwvMBL4DcpzrpzbwfjKAnwD7fA5fj/2Z5Tpj0q0HSkUJDQSVUs8AJUA34LR6r72EE8g5gcDVwGSf1/OBzSJyioh0BHpiZxW9XgHGiEia8/319a73BjaVRxibALFNeje+F4scB5zivI+j3b+hQLFBxpgXjTEeY0wF8AAwRETSfU6Jwf/frQK8iA3Gb/c5fiUwyxjzoRN0Pw60AU71d5w+4jj4/k4Eso0xDxpjKo0xG4F/AVf5nP+tMWa689wngCTgZGAE0AX4hTGm1BhTboz5H4f7tfOe9tc7HkMQf5ZKKXfERXoASqmIWw1cjA3SnheRIcaYA85r7wL/FJFcoB+w3xjzdb3rn8fOBK7BzgDWLfsaY3aIyOfAZSLyNnYG7y6fazOcz3sbGNcH2KBxnYhUYX9f1X92YyYBvwUGNPBaETYQrcLOPPpaJCK1ztdJODNfTjD8R2AidqbOe04WNvD5M/Ac4BGRYiAZaGiW0ms8sBLo4dxvl3O8C3bmDQBjTK2IbMXOwnm9IyLVztcJHP6zWeTMAMYBNzvHegJdRMR3ti4W+Mzn+631nrvNGY8BvjPGVHMEItITO4N8LHCDz0svY4PQQhEpARJpYDZRKRV+OiOolPqjM7vzL2wQ8JD3BWNMOXbZ8joOn83zmoOdSbzxCK97ZxUnAl8aY7b7vHYMdqm4pP5Fxpha59mFQHfscmNTnAtkOvdoSJYxJhm7FPqmiLTxeW2YMaadMaYdhy4bX+OcPxJIxy6Rgp3ZwxhTiA2q5jjXHunZXhuBc4AXgH/4HN+BDdrszUUE+zPw/dld6jPGhn42w5xl2KHAP0SkB/bPd5P3OuejrTFmjM913X2eG4OdKd7hXNvDWco+koeAPxljPL4HjTFlwCxgOfbPpClL8UopF2kgqJTydStwm4iM8Dn2MvA94BIaCPSMMTXYmbdXjDF7GrjnO8Aw7Ezgy96DIpIF3Oe8fhgn4Hge+Kkxpv4yoz8eAO717nk8ihpsUOfP/ru2QAV2qfWw2T4RyQF+Cdzh5xiXOEHw74H+InKlc3waMFZEzhOReOBnznO/8PO+vmqAeOyeyK+xs5W/FJE2IhIrIoNE5ESf808QkQnOz/9u57kLnGt3Ao86yR9JIuK7laAPcBLwbP0BOEvnfwVuPdqMolIq/DQQVErVcfaM3Q/825uYYIz5HLsEusgY890Rrvu3MeaRI7x2AHgTyAXe8nlpKnaP4X1HGM69wGZjzJuBvBdgsTFm/lFe3+csU74M/MDPYPNl7JLtdmAVNkDy9Szw6JF+Tkfi7Df8PvCkiGQZY9ZgZ1H/jl3Cvhi42BhzpL2UDVnqvL/5wCPGmGVO0H4RcDywybn389hA2Otd7B7FvdhZ4AnGmCrn2ouxAd8WYJtznldH4Dc+iUS+HgPeMsZ804TxK6XCQBr/x7JSqrUTkY+BKcaY5wO8/n7gGGPMdY2erCLGKXXTR/+clGo9NFlEKXVUzrLhMOzeuECuz8AmK1wfynEppZQKni4NK6WOSERewnYbubt+AoCf19+KTTKYY4z5NNTjU0opFRxdGlZKKaWUaqV0RlAppZRSqpXSQFAppZRSqpVqFckiWVlZJicnJ9LDUEoppZRq1LfffltkjMkOx7NaRSCYk5PDwoULIz0MpZRSSqlGiUiTapEGQ5eGlVJKKaVaKQ0ElVJKKaVaKQ0ElVJKKaVaKQ0ElVJKKaVaKQ0ElVJKKaVaKQ0ElVJKKaVaKQ0ElVJKKaVaKQ0ElVJKKaVaKQ0ElVJKKaVaKQ0ElYp2pUWwcX6kR6GUUqoF0kBQqWj30YPw8qXgyY/0SJRSSrUwGggqFc1qqmH1TMDA2vcjPRqllFItjAaCSkWzLV9A2W5AYM3sSI9GKaVUC6OBoFLRbNUMiGsDQ6+z+wQrSyM9IqWUUi2IBoJKRavaWsh7D/qcB4MnQnU5bJgX6VEppZRqQVwNBEVklIisEZH1InJfA68nisjrzutfiUiOc3yEiCxxPpaKyPh618WKyGIRmenm+JWKqG3fQMkuGDgOep4KSem6PKyUUiqkXAsERSQWeBoYDQwErhaRgfVOuxnYa4zpA/wFmOQcXwEMN8YcD4wCnhWROJ/r7gLy3Bq7UlEhbwbExMMxF0JsPPS9wCaM1NZEemRKKaVaCDdnBEcA640xG40xlcBUYFy9c8YBLzlfTwfOExExxpQZY6qd40mA8V4gIt2AscDzLo5dqcgyxu4P7H2OnQkE6DfGJo5s/TqyY1NKKdViuBkIdgW2+ny/zTnW4DlO4LcfyAQQkZNEZCWwHLjdJzB8ErgXqHVv6EpF2M4lsH8LDLjk4LE+I+0M4ZpZkRuXUkqpFiVqk0WMMV8ZY44FTgR+JSJJInIRUGCM+bax60XkNhFZKCILCwsLXR+vUiG1agZILPQfe/BYUhrkngmrZ9sZQ6WUUipIbgaC24HuPt93c441eI6zBzAd2O17gjEmDygBBgGnAZeIyGbsUvO5IvJKQw83xjxnjBlujBmenZ0d/LtRKlyMsfsDc8+A5IxDX+s3GvZsgKK1kRmbUkqpFsXNQPAboK+I5IpIAnAVMKPeOTOAG52vLwc+NsYY55o4ABHpCfQHNhtjfmWM6WaMyXHu97Ex5joX34NS4VeQB7vXH7os7NVvjP2s2cNKKaVCwLVA0NnTdycwF5vhO80Ys1JEHhQR799wLwCZIrIeuAfwlpg5HVgqIkuAt4E7jDFFbo1VqaiSNwMQ6H/R4a+ld4XOx9vlYaWUUipIcY2fEjhjzGxgdr1j9/t8XQ5MbOC6ycDkRu49H5gfinEqFVVWzYAep0Dbjg2/3n8szHsYSgogtUN4x6aUUqpFidpkEaVapaL1ULASBjawLOzVbzRgYM2csA1LKaVUy6SBoFLRJO9d+3nAxUc+p+MgSO+hgaBSSqmgaSCoVDRZNQO6ngDp3Y58jgj0HwMb50FlafjGppRSqsXRQFCpaLH3O1tIuqFs4fr6jYHqctgwz/1xKaWUarE0EFQqWuS9Zz8fbX+gV89Tbes5LSOjlFIqCBoIKhUt8mZAx8GQ0avxc2Pjoe8FsPZ9qK1xf2xKKaVaJA0EW5CqmlpqarX1WLNUvBO2fuXfbKBXvzFQthu2fu3euJRSSrVoGgi2IFc8+yWT3l8d6WGoQKyeaT/7sz/Qq89IiImHNbPcGZNSSqkWTwPBFsIYQ97OYhZ9tzfSQ1GBWPUuZB0DHfr7f01Smu1HvHq27U+swqe2Br55Hhb+G3Yug5rqSI9IKaUC4mpnERU+nopqyqtq2bxby4k0O6VF8N3ncPo9Tb+23xiY/XMoWgfZx4R+bOpwtbUw48ew5NWDx+LaQOchtvRP12H2o32uLfWjlFJRTAPBFqKguAKAopJKisurSEuKj/CIlN9WzwJT27T9gV7eQHDNLA0Ew8EY+/Ne8iqcdR8MuRK2L4Lt39rPC1+ABU/bc9u0dwJD56PLMEjNjuz4lVKqHg0EW4iC4vK6rzcXlXJct3YRHI1qkrwZ0K4ndDqu6demd4XOx9vl4dN/GvqxqYOMgQ9+Y4O90+6Cs++zM34ZvWDw5facmiooyHMCw29hx2L49DEb6IPtCNN12MHgsPMQSEyN3HtSSrV6Ggi2EAWeirqvN2kg2Hwc2AcbP4GTfxj4MmK/MTD/ESgpgNQOoR2fOmj+I/DlUzDiNhj5+4b/vGLjofNx9mP49+2xylLYufTgrOH2b2HVO875iXD925BzWvjeh1JK+dBAsIUo8PjOCJZFcCSqSda+D7VVMHBc4PfoPwbmP2zvNeyG0I1NHfTZE/DJJBh6PYya1LSgPSHFFgDveerBY6VFNih853abdKKBoFIqQjRruIXIL66gTXwsXdKTNGGkOVk1A9K62v1jgeo4yC45rtYuI65Y8E/46PcweCJc/FeICcGvzZQsOOYCGHipDeC1Z7RSKkI0EGwhCjwVdEhLJCcrhU1F+pdKs1BRAhs+ggEXBxdciNhZwY3zNKAItW9fgvd/Cf0vgkufgZjY0N5/8OVQVQZr5oT2vkop5ScNBFuIguJyOrZNIicrRWcEm4t1H0B1edOKSB9Jv9H2XhvmBX8vZS2bBu/dBX3Oh8tftPv/Qq37ydC2C6x4M/T3VkopP2gg2EIUeirITkskNzOFfWVV7CurjPSQVGNWvQsp2dDj5ODv1fM0SErXmaVQWfUuvH075JwOV06GuER3nhMTA4MmwLoP4YAWg1dKhZ8Ggi1EfnE5HdrapWFAl4ejXdUB+5d//4tCs9wYGw99L3CST2qCv19rtnYuTL/Zlne5eirEt3H3eYMm2ISh1doqUCkVfhoIRotPH4MPfmu7FjRRaUU1pZU1dExLIjcrGUCXh6Pd+o+gqjSwItJH0m8MlBXB1q9Dd8/WZuN8eP166HgsXDc9PDX+ujhdSJZPd/9ZSilVjwaC0WLZNPjib/Dej5scDHprCHZom0j3jGRiBDZpCZnoljcDktpBzhmhu2efkRATb7uMqKbbsgBeuxoye9vafknp4XmuCAy6DDZ9AiWF4XmmUko5NBCMFp5dkNoJFr8C7/6oSct7+U5XkQ5tk0iMi6VLuzZs1qXh6FVdCWveh/5jQ5uAkJQGuWfoPsFAbP8WXrkc0rrADe9CckZ4nz/oMtt9xFtoWimlwkQDwWhQWQYVxXDSD+DsX8PSKfDOD/0OButmBNPshvZczRyObps+gYr9ockWrq/fGNi9HgrXhv7eLdWuFTB5gg3+bpgRme4sHQdCh4GaPayUCjsNBKNByS77uW0nOPuXcO5vYNnr8NZtUFPd6OXePsMd2yYBkJNpawkaY1wbsgrCqnchoS30Pif09+43xn7W5WH/FK6FyZdCfDLcOMP2bo6UQRNgy5ewf1vkxqCUanVcDQRFZJSIrBGR9SJyXwOvJ4rI687rX4lIjnN8hIgscT6Wish453iSiHztHFspIr93c/xh4/EJBAHO/AWc9ztYMR3eusU2sj+KQk8FCXExpLWxHQNzslLwlFezp1RLyESdmmqbHXrMhe6UJEnvCp2HaJcRf+zZCC87s7I3zoD2OREdDsdOsJ9Xvh3ZcSilWhXXAkERiQWeBkYDA4GrRWRgvdNuBvYaY/oAfwEmOcdXAMONMccDo4BnRSQOqADONcYMAY4HRolICIqwRZg3EEztdPDYGffA+Q/ZvxSm33TUYNBbOkac/qe9tIRM9PrucziwJ7TZwvX1GwvbvoGSAvee0dzt3wYvjbNFuG94F7L6RnpENkmly1DNHlZKhZWbM4IjgPXGmI3GmEpgKjCu3jnjgJecr6cD54mIGGPKjDHeNdEkwAAYq8Q5Hu98NP/1z/ozgl6n/QQufNhmmL7xPZtk0IACTwUd05LqvtdaglEsbwbEtbEZvm7pPwYwtqagOlxtDbxyGZTvs9nBHY+N9IgOGnQ57FwCuzdEeiRKqVbCzUCwK7DV5/ttzrEGz3ECv/1AJoCInCQiK4HlwO3ewFBEYkVkCVAAfGiM+crF9xAeJbsgNhHatD/8tVN+BKMmweqZMO0GqK447JQCTwUd2h5cZuzWvg2xMaIJI9GmthbyZkLfkZCQ4t5zOg6C9B66PHwkG+ZB4Wq46C92Bi6aHDvefl7xVmTHoZRqNaI2WcQY85Ux5ljgROBXIpLkHK9xloy7ASNEZFBD14vIbSKyUEQWFhZGeW0uTz6kdrT1xBpy8u0w5nFYO8cWu60qP+Rl79KwV3xsDN3bt2Gz1hKMLtu+tkH/gPoT4yEmYnsPb5wHlfqPgcMsfhnaZMCAiyM9ksOld4Uep2r2sFIqbNwMBLcD3X2+7+Yca/AcZw9gOrDb9wRjTB5QAgyqd3wfMA+7h/AwxpjnjDHDjTHDs7Ozg3gbYeDZefiycH0jbrUzGOvmwuvX1gWD5VU1eMqr6eCzNAx2eViXhqPMqhkQm2ATRdzWf4zd/7ZxvvvPak5Ki+xM6ZCr3OsfHKzBl0FhHuSvjPRIlFKtgJuB4DdAXxHJFZEE4CpgRr1zZgA3Ol9fDnxsjDHONXEAItIT6A9sFpFsEWnnHG8DnA+sdvE9hEdJPrTt2Ph5w2+Ci/9m25O9dhVUHaCg+GBXEV85mbaWoJaQiRLGQN570PtcW/jZbT1Pg8T00C0PG2OLYK9p5vsOl71u+/oOvT7SIzmyAeNAYnVWUCkVFq4Fgs6evjuBuUAeMM0Ys1JEHhQRb8rkC0CmiKwH7gG8JWZOB5Y6ewHfBu4wxhQBnYF5IrIMG2h+aIyZ6dZ7CBvPTmjb2b9zT7gRxj1lZ3qmXEHh3r0Ah80I5malUFZZQ6Hn8D2FKgJ2LIb9W9wpIt2Q2Hjoe75NGGlCl5oGFa2DVybAa1fC1KvtHrvmyBhYNBm6nmALOEer1GzodZYNBPUfckopl8W5eXNjzGxgdr1j9/t8XQ5MbOC6ycDkBo4vA6Jsd3eQqg5A+X67R9BfQ6+zMwbv/JAcz/dow+2Hzwj6ZA7XDxJVBOTNgJg4u3cvXPqPsbUot34NPU9p+vUVJfDpY/Dl0xDfBi74Iyx5FaZ/H26dBxm5oR+zm7Z/a5dcL3oy0iNp3KDLbKvJ7Yug2wmRHo1SqgWL2mSRVuNIpWMac/zVMOE52hct5D8Jf6Jj0qEdSHIzbSComcNRwBjbTSTnjPD2sO1zPsTEw5omLg8bY2ejnjoRPn8SBk+EH38Lp94JV71qX596jQ0Um5NFL9sOIoMui/RIGtf/IrufVJeHlVIu00Aw0kry7eemBoIAx13BzD6/5wRZS/u3roYKT91LXdolER8rbNLM4cjLX2m7WLhZRLohSWmQe0bTAsGCPHjpYlvEPCULbvoAxj9zsP9uRi+Y+G9bfuWdHzafpcvKUluSZeCl4dmjGaw27Wwgv/ItW3ZIKaVcooFgpDXUVaQJ5iecye/i70G2fQOTJ9hlZiAuNobuGcls1szhyMubAYid5Qm3fmNg93rbU/doyovh/V/DM6fBruUw9s9w23zocdLh5/Y+F85/0L6vzx53Y9Sht/IdqPTAsChOEqlv0AS7f3jLF5EeiVKqBdNAMNLqlob9TBapp9BTwYr258LE/8CORfDRQ3Wv5TqZwyrCVs2AnqcenFULJ++exDWzGn7dGFg6Ff5+Aiz4h91/+uNFcOItEBN75PuecicMvgI+/mPzyCRePBky+0CPAPZKRkq/0XYpW5eHlVIu0kAw0kp22X1cAe4dKyiuoGPbRLvs2P1k2LWs7rWcLBsI1tY2k+W7lqhonU1QCFe2cH3p3aDzEFgz5/DXdi6DF0fB2z+Adt3h1o/gkr9BSmbj9xWx53Y+Dt66tfEZx0gqWgdbvnSSrI5QtD0aJaTYYHDVu0ftNa6UUsHQQDDSPLuO3lWkEfmecjqkORnDmb0O6VGak5VCeVUt+Z7yI1ytXFW4xnaCiYmPbBeLfmNt5nBJgf3+wF6Y9XN47izYvQ4u+Tvc/F9bVqUp4tvAla/apIap19RtS4g6iyfbLPsh10R6JE036DIo2w2bPon0SJRSLZQGgpHm2RVYoghQUV3DvrIqOrR1ysNk9IKyorq/kHv5lJBRYbbsDXjuHCgthGvfsK3DIqXfaMDYpJFFL9tl4IUvwPCb4c6FMOwGiAnwV0G77nDlZNi7Cd68NfiahaFWUwVLXrPdXPwp2h5t+oy0hcGX6/KwUsodGghGWkl+wIGgt1h0R++MYEZv+3nPRuDQWoIqTKrKYeZP4a1b7LLp7Z9B73MiO6ZOgyG9h50FnPFjyOwLt30CYx8PTTmbnqfC6Em2/eG8h4O/Xyit+wBKC6K7k8jRxCXa2eTVMw/rMa6UUqGggWCk+dNn+AgKPN72cs6MYKYTCDrLw53TkkiMi9HM4XDZswlevAAWvgin3QU3zoS0LpEeld12MPQ6m6wy/lm46X0bpIbS8JvtzOJnj9sM3WixaLLdetH3gkiPJHCDJkBFMaz/b6RHopRqgVztLKIaUV1h92sFWDqmoNjOEGR7u4q0dzo9ODOCMTFCz8xkrSUYDqtnwds/BAGues129YgmZ//SfrhFBMY8DgVOfcHMPtBpkHvP84dnl50RPPXHENuMf9XlngXJWbZLzIAIlCBSSrVoOiMYSXWlYwLbu1RQtzTszAgmJENa10MTRrSEjLtqqmDu/9lkicxe8INPoy8IDJe4RLtfMCnd/jzK9kR2PEumgKlpvsvCXrFxcOyltkxPc+vmopSKehoIRlJdV5HAaggWFFcQGyNkpiQcPJjRq25GECA3K4Utu8uo0RIyoVe8A/5zEXz5lK27d9NcaJ8T6VFFVttONpPYsxPe+B7UVDd6iSuMgcWvQI9TIatPZMYQSoMug+oDsLYZ1GxUSjUrGghGUl1XkcBmBPOLy8lKTSAmxqf0TEYv2HNoCZnKmlp27DsQzEhVfRs+hn+eDvkr4LIXbCeOuMRIjyo6dDsBLnrSljz58P7IjOG7L+z/B82pk8jRdD8Z2naB5dMjPRKlVAvTjDfOtABBdhUp8FQcTBTxyuxt644d2Adt2pGTaTOHN+8upXtGcjCjVWDLo3zyJ/hkEnQYAFe8DFl9Iz2q6DP0WlvcfMHTNmv5+KvD+/zFkyGhLQwcF97nuiUmxiaNfPWs3Vfcpn3kxnJgn111qP9RW2NLJYUiE10pFTYaCEZSyS6IiYNkPzo5NKDAU0HXdvUCwboSMhug6wnkOiVkNheVckbf7GBGq0oKbVmYjfNtceKxf7b7MlXDLvgD5K+E9+6C7H7QdVh4nlu+32YuD7nSdudoKQZdZrch5M10f6azbI/Ngt+z4dBgb/cGOFBv72daV5uotv1beP9XMOFZd8emlAopDQQjydtVJMBivoWeco7v3u7Qg3UlZDZC1xPomJZIm/hYzRwO1ndfwvTv29mYS55qOUuOboqNh4kvwXNnw+vXwW3zw9NvecWbdj/d0Bvcf1Y4dRlqA64Vb4b2v7+SQlvyaPc6G+jt2Qjl+3xOENuqMCPXzrBm9LIfmb3tntj4Nva0j/8In/4JBk+EviNDNz6llKs0EIwkbyAYgKqaWopKKunQtt6+tPa5gNTtExSxJWQ0czhAxsAXf4P//h7a97RLX50GR3pUzUdKJlz1KrxwgW23d+N7EJfQ+HXBWDQZOgwM3wxkuIjYWcH/PWHbBYYiqN70Kbx5i71fu+42wBs0wa4seAO+9jkQn9TorTjz57Yv8sy74Y4FkJga/PiUUq7TZJFICqKrSFFJvdIxXvFJdqmmXuawFpUOQEWJLYPy4f22ftttn2gQGIjOx8GlT8PWBTDnXneflb8SdiyyJWMC7N8d1QZfDqbWBlzBqK2xXWBeugQS02wHnLuXww3vwkV/gVPvtGWQOvT3LwgEmyx1yd9h/zb4+KHgxqeUChsNBCMpmK4ixd6uIg1kqmb2OrSWYFYKW/aUUV1TG9CzWq2Pfm/LdYyaZJc4k9IiPaLma9BlcPpP4dt/wzfPu/ecRZMhJh6Ou9K9Z0RShwF2tnNFEL2Hi3fYAPCTSTDkartkH6p/4PQ4CUbcapNatn4dmnsqpVylgWCkVFfa7N4Au4rkO11FOqQ1EAhm9D6khExuZgrVtYbtWkLGfzsW24DlxFvg5Ntb5uxSuJ37W+h7Icz+BeS9F/r7V1fAsqnQf6xdkm6pBk2ALV/Cvq1Nv3btB7bs0Y7FcOk/YfwzoV/CPe9+uyrx7p32z0QpFdU0EIyUumLSIeoz7Cuzt01qcDo75GbbzMlNujzsn9oamPlTSMmGc38T6dG0HDGxMPHf0PUEmH6z3Z8WSqtn2f/uW3oiz7ET7OeVb/t/TU0VfPAbmDLRlqu6bb57JX0S28LFT0LRGvjsz+48QykVMhoIRkoIAkERyEptYON9XQkZu0/QW0tQA0E/LXzRzphc+LBtl6ZCJyEFrplmkxBeu8b+nENl0cuQ1g16nRO6e0ajzN7QZZj/y8N7v4MXR8EXf4fhN8Mt/4XsY9wdY9/zYfAV8NkTkL/K3WcppYKigWCkeHbazwFmDRcUl5OZkkhcbAN/hBm97GcnEMxKTaEO5BwAACAASURBVCA1MU4TRvzhyYePHoJeZ9t9bSr0kjPg+rdsUeRXLoei9cHfc98WW99x6LV25rGlG3QZ7FxyyF7gBq16F/55BhSthYn/gYueOFjuxW2jHrX7amf82M6yK6WikgaCkRKSriJHaGnWPgeQur8kRIScrGQ27dZago364De2Bt2YP+u+QDeldYEb3rFfT74U9m8P7n6LX7Wfj782uPs0F8eOB+TIs4JV5TDrZzDtBjuD+INPnWvCKCXTJlptX2iTR5RSUcnVQFBERonIGhFZLyL3NfB6ooi87rz+lYjkOMdHiMgS52OpiIx3jncXkXkiskpEVorIXW6O31Ul+SAxkJIV0OUFnnI6NpQoArbcQ3r3Q3sOZ2oJmUZt/ASWT7PZrVl9Ij2ali+zt50ZPLAPXplQt6e1yWprYMmr0OssW+uxNUjvCj1Ptb2HjTn0taL18PxIm+x0yp1w01xbDDoSBl9uE4Q+fgj2bo7MGJRSR+VaICgiscDTwGhgIHC1iAysd9rNwF5jTB/gL8Ak5/gKYLgx5nhgFPCsiMQB1cDPjDEDgZOBHzVwz+bBs9PpKhLYMlZBcQN9hn3VKyGTm5XCtr1lVFZrCZkGVVfYGZT2uXD6PZEeTevReQhc/ZptZ/bqRFu7sak2zof9W2FYC+sk0phBE2xCRoHPHrylr8OzZ0LxdrsX88I/ul/A+2hE7HK0xNpWg/WDVqVUxLk5IzgCWG+M2WiMqQSmAvU7wI8DXnK+ng6cJyJijCkzxlQ7x5MAA2CM2WmMWeR87QHygK4uvgf3ePID3h9YU2soKqlouHSMl7eEjPOLNyczhVoDW/fq8nCDPv+bbbE19nH/C+iq0Mg9Ay5/0RaCnna9La3UFIsn2/2G/S9yZ3zRauClNsBaPh0qS+GdH8Hbt9ng+vb/wTEXRnqEVno3GPk7G7AvmRLp0Sil6nEzEOwK+Ba62sbhQVvdOU7gtx/IBBCRk0RkJbAcuN0nMMR5PQcYCnzV0MNF5DYRWSgiCwsLC4N+MyHn2RVwxvDukgpqDXSo31XEV2ZvKN9ft9yWk2Uzh3V5uAF7NsFnj9u/WPtoj9SIGHCR7Uqx4WN4+wf+JxeU7bFlY4670na2aE1SsmxS07LX4blz7PL4mffaNn7pUfbv4+E3Q49TYO6vbTs7pVTUiNpkEWPMV8aYY4ETgV+JSF3UIyKpwJvA3caY4iNc/5wxZrgxZnh2dnZ4Bt0UJYEHggdrCB5tRvDQzOHcLC0h0yBjbIHjmDgY9UikR9O6Db0Ozn8QVr5lW9H5s4y47HWoqbQt5VqjQZfZZeDyfTb55tz/g9gobCEfEwMX/w2qyuz/b0qpqOHmb4ztQHef77s5xxo6Z5uzBzAd2O17gjEmT0RKgEHAQhGJxwaBrxpj3nJr8K6qqYLSouC7ihw1EPTWEtwA3U+kfXI8aUlxbN6tgeAh8mbA+g/hwkdsJquKrNPush13Pv8rJGfCOb8+8rnG2JZyXYZCp0HhG2M0GTzRBlcDx0Fqh0iP5uiyj4Gz7oWP/2BncfuPjfSIlFK4OyP4DdBXRHJFJAG4CphR75wZwI3O15cDHxtjjHNNHICI9AT6A5tFRIAXgDxjzBMujt1dJQWACX5G8GhLw+1zbFayTwmZ3KwUNhfpHsE6FR6Yc5/tszritkiPRnmN/L2dHfxkEiz455HP27EICla23tlAsIkgI26N/iDQ67S7oeMgm5h1YF+kR6OUwsVA0NnTdycwF5vUMc0Ys1JEHhSRS5zTXgAyRWQ9cA/gLTFzOrBURJYAbwN3GGOKgNOA64FzfcrLjHHrPbimxFtDMMBAsNgGgtmpR5kRjEs4vIRMVoouDfua/6jN3h77l+hcTmutROCiv9rkj/d/CcumNXzeoskQ18aWKFHNQ2y83Qtakg8f3h/p0SilcHdpGGPMbGB2vWP3+3xdDkxs4LrJwOQGjv8PaP5Vfr3FpAPtKuIpJyMlgYS4RuL4zN6HlJDJyUxhxtIdlFfVkBTfCrovHM2uFbDgGTjhRuh+YqRHo+qLjYPLXoBXL4d3fghJ7eCYCw6+XllmiykPHKdtAJubrsPg5Dvgy6fs0nbuGZEekVKtWtQmi7RoQXYVyS8+SlcRXxm9bEass+k+NysFY2Drnla+PFxbCzN/akuOnPe7SI9GHUl8Elw1BToeaztkbFlw8LVV70JFMQxrxcvCzdk5/2e3r7z3E6g6EOnRKNWqaSAYCSX5gEBKYNnMhZ7yo+8P9MroDRX77eZ7DpaQafXLw4snw7av4YKHbN9bFb2S0uDaN20iz5QrIH+lPb54sv2HTs/TIjs+FZiEZJtFvGcjzNdsfaUiSQPBSPDstJu7A9yXdtQ+w74yncxhZ3k4N1MDQUp3w39/ZwOIIVdHejTKH6nZtjRKfDJMngDrP4LvPrcJJdoPuvnqdZZN9PniKdixJNKjUarV0kAwEoLoKlJbayj0NxD0LSEDpCfHk5GS0LpLyHx4v80WHvtnDSKak3Y94Pq3obrc7huUGBhyTaRHpYJ1wUO2MPaMO21ZLaVU2GkgGAmenQHvD9xTVkl1rfEvEGzf07agOiRhJLn1zgh+9yUseQVO/TF0GBDp0aim6jAArp0OcUnQbwykBfb/kIoibdrDmMdh13L44m+RHo1SrZIGgpFQkg9tA8wYdkrHdPRnj2BsvJ1JqVdCplXWEqypgln3QHoP24ZLNU/dT4Qffwvjj1JfUDUvAy+BARfD/ElQtC7So1Gq1dHiaeFWUw2lhYF3FfE4XUXS/OyrmtGrrs0c2H2Cby3azoHKGtoktKISMgv+AQWr4OqpdqO6ar60A0zLM+Zx2DQCpl5r+ycnZ0JKpv1c95Flk7ti4yM9WqVaFA0Ew620EExtwMWkC4u9fYb9mBEEmzCy9WtbQkakLnN48+5SBnROC2gMzc6+LbZ4dL+x0G90pEejlKqvbScY9zR8+DtYOtVWOziSxHQbEKZk+QSJGU6gmGnLDXUdFr6xK9XMaSAYbsF2FXFmBLP92SMINmGk0uPMQnYg1xsIFrWiQHCO07Bm9KTIjkMpdWQDLrYfANWVcGCPLX3l+1Fa7/viHbY4fFmRTSTyOnY8nP8QtOve8LOUUnU0EAw3T7CBYAXpbeL97wziW0ImtcPBWoKtJXN4zRxYM8v2r9W/FJRqHuIS7O9If39PGgNVZVBaZGcU//cErHkfzrgHTv2JLU6ulGqQJouEW117uQD3CBaX+5cx7JXRy352EkZSE+PISk1kc2vIHK4shdn3QvYAOOVHkR6NUsotIpCQYislnP1LuPMbOOZCmPdHeHoE5M2s67CklDqUBoLh5tkFiC0oHYACT4V/GcNe7XocVkImNyu5dWQOf/oY7N8CFz2hG8yVak3a9YArXoIb37MB4uvXwuTxULgm0iNTKupoIBhuJbvsJucAA5MCf/sMe8XG238l+2QO52SmtNylYWNscszsX8AXf4fjr4Wep0Z6VEqpSMg9E37wGYx+DHYsgmdOhfd/DeVHSUYJVnUFbJgHhWvde4ZSIaR7BMPNkx/wsrAxtqtItr+lY7wyeh9WS7Dw222UVFSTmthC/hPIXwXL34AV022WcFwSDLgELvhDpEemlIqk2Dg46TYYNAE+/oMtJbV8Gpz3O/sPxZgQzIcU74B1H8DaD2DjfKgqtcWyb/344PYcpaJUC4kCmhHPzoATRfaVVVFZU+t/6RivzN7w3Rd1JWR8M4cHdU0PaCxRYe93sOJNWD4dClbaJfBeZ8PZv4b+YyGplWRFK6Ual5IFFz8JJ3wP5txr29otfBFG/8kWKm+K2hrYvgjWvg/r5trOKADp3WHIVdDjZPuMKVfBLR9CUjP+PataPA0Ew60kHzoNCujSAo+3q0gAM4JVpU5Hk07kZB6sJdjsAsHSIlj5tg3+ti6wx7qNsEs/x14a8N5LpVQr0eV4uGmuXUH44Lfwwkjbt3rkA0fv+HRgH2z4yM76rf/Qlq+RWOh+kr2274W2DaK3h3nbTnZf4vSb4ZrXIaYVFfBXzYoGguFUW2ODsQCXhr01BJs+I+gsTezeYAPBLNtZY1NhM9knWOGB1bPsL+4N88DU2Ezg8+6HQZdB+5xIj1Ap1ZyIwHFX2ALzn/0Zvnwa8t6Ds+6Fk2635WuMgcLVsHauXfbdssD+7mmTAX3Ph74XQJ/z7BJwQ3LPhDGPwcyf2oBz1MPhfY9K+UkDwXAqLQqqq0h+XVeRps4IekvIbISc00hOiKNTWlJ0J4xUV8D6/9rgb80cWyw2vQec9hMYPNF2D1BKqWAktrWzeUOvh7m/hg9/C4teskHc+v/a/cYAHQfD6XfDMaOg6wn+z+4NvwkKVsOCpyG7H5xwo1vvRKmAaSAYTiHqKuJ3n2Gv9B4QE1cvYSQ5emsJlhTAs2fa/ZTJmfaX9ODL7RJwKDZ2K6WUr8zedvl27Qcw91e2KHWvs+H0e+zMX3rXwO994cOwex3Musc+J+f0UI1aqZDwKxAUkWqgDBAgCSgHjDFGd+M3RV1Xkc4BXV5QXEHbxDiSE5oYv8fG2eXTQ2oJpjB3ZX5A43Dd0qk2CLziZeg3RmsAKqXC45gL7LJvbY39vRkKsXFw+b/h+ZHw+vVOJnFuaO6tVAj4O72y3BiTZoxpC6wwxrTVIDAAdV1FjrIh+SgKPOVNLx3jldH7sFqCe0or2X+gKrD7ucUYWDLFzv4NHKdBoFIqvERCFwR6tWlnZxxNLbx2FZQXh/b+SgXB30AwEUBEEoBeIvKAayNqyYINBJtaTNpXphMIOm2WcnxKyESVnUugMA+OvzrSI1FKqdDJ7G1XOXavh+k32VlHFT5F6+DD+23iYXVFpEcTVfwNBD8VkaXAEuBJoFhE5rg3rBaqZJfd8xaXENDlTW4v5yujl23K7tkJcLCWYLQljCyZArGJcOyESI9EKaVCq9dZtm7h+g9tJrEKj42fwPPnwed/hanXwGN94Z0fwYaPoaY60qOLOL/mv40xt4vIIKDGGJMHICILXB1ZSxRkV5H84vLAZwR9M4fTutAjIxkR2BRNM4LVlbY+YP+xdilFKaVamhNvtj2PFzwNHfrDsBsiPaKW7duXnESdvnDrPNi7CZa/CXkzYMkrkJINAy9t1QmJfr9jY8wKbxDofP9FY9eIyCgRWSMi60XkvgZeTxSR153XvxKRHOf4CBFZ4nwsFZHxPte8KCIFIrLC37FHjSC6ihSXV1NRHUBXEa/M3vazkzCSFB9Ll/Q20bU0vG4uHNgDx18T6ZEopZR7LnwYep8LM++BzZ9HejQtU22tnXV97yeQexbcPNf+PdhnJIx/Bn6+Dq58BXqeBosnw4sXwl+Ps8vHO5fWbaNqDfwKBEXEIyLFzofH+30j18QCTwOjgYHA1SIysN5pNwN7jTF9gL8Ak5zjK4DhxpjjgVHAsyLinb38j3Os+XE6ewSiMNDSMV7p3SE24bASMpt2lwV2PzcsmWL3T/Y6J9IjUUop93gzidvnwOvXwZ5NkR5Ry1JZCtOuhy/+BifeAtdMO7zNX3wSDLgYrngJfrEexj9nO8N8+bQtX/bUiTD/Ubu3sIXzd0bwr9jg7GonY9ifrOERwHpjzEZjTCUwFRhX75xxwEvO19OB80REjDFlxhjvwn0SUBeaG2M+Bfb4Oe7oUVsbVCBYUFdMOsAZwZjYw0rI5GSmRM+MYGmRrd5/3JWhz9hTSqlo42YmsTF2pvG9u21nlNakeCf8ezSsmQ2jJsGYxxv/OyWxLQy5Eq59w84UXvSk/bt6/qPw1HD45xl2f+G+reF5D2HmVyBojPkNNmi7UEQ+EpHT/LisK+D7U9vmHGvwHCfw2w9kAojISSKyElgO3O4TGPpFRG4TkYUisrCwsLApl7qjbDfUVge8RzA/2BlBOKyETG5WCvsPVLG3tDLwe4bK8jfsz0eXhZVSrYVvJvGbNwefSVxSYAOWp4bDf8bAt/+2yREr3wnNeKPdzqXwr3PthMfVU+Hk2w/2fvZXcgYM/z58bybckwcXPmLLmH14Pzw5CF64sMUFhP4uDQ8DumOXZf8B/ENEZro4LowxXxljjgVOBH4lIk2aCjPGPGeMGW6MGZ6dne3OIJvCydY9alPzo/DOCAacNQw2YWTPJjs7iZ0RBKKj1dySV6HLUDs1r5RSrYU3k3jdBzbYaKraGlj3oV1ifmKAvUdKNlz6DPxsLXQdbsvVLJ8e+rFHkzVz4MXRNvC76X045sLg75nWGU65wxYB/8liOPe39v4BloCLVv6uwf253vd7gJRGrtmODR69ujnHGjpnm7MHMB3Y7XuCMSZPREqAQcBCP8cbfUqcLh6BdhXxVJCcEEtqYhDLppm9oPqADUrTux5SS3BYjyM0Tg+HXcvtx+jHIjcGpZSKlBNvhsLV8OVTtiexP5nEe7+z/4Be/AoUb4fkLDj5hzD0Bsg+5uB5170JU66Et261QeOQK917H5FgDCz4B8z9P+hyvJ0JDHAL1lFl9IIzf24/Whh/y8cEsnv/G6CviORiA76rgPrrfjOAG4EvgcuBj40xxrlmqzGmWkR6Av2BzQGMIXoEWUw6qNIxXhlO5vCeDZDelR4ZycRIFBSVXvIaxMTb9H2llGqNLnzEJibMvMf+rs5pYAdWdYXd+7boZdgwzx7rcx6MegSOGd1wjdrEVLh2mt2H+PYPoLYKhl7n7nsJl5oqmP0LuwQ+4BIY/ywkJEd6VM2Ov0vDD4tIO5/v24vIH452jbOn705gLpAHTDPGrBSRB0XkEue0F4BMEVkP3AN4S8ycDiwVkSXA28Adxpgi59mvYQPHfiKyTURu9vfNRlRdn+EAk0U8FYEninjVKyGTEBdDt/bJbIxkIFhTBcunQb9Rdm+GUkq1RrFxMPEImcSFa+yM1xMD4I3vQeFaOPs+uHu5nfEbOO7ojQoSUmzmbO9z4N0fwcJ/u/1u3HdgH7w60QaBp/8UJr6kQWCA/F1nHG2M+bX3G2PMXhEZA/zmaBcZY2YDs+sdu9/n63JgYgPXTQYmH+GezbP3WMkuaNMe4gKb1Sv0VHBslyDbO6d1s107DikhkxLZ7iLrP4LSQhiiSSJKqVauTXubSfyvc+0M3ik/gsWvwtYFEBNni+0Pu8GW2IqJbdq949vAVa/BtBtg5t02OW/Ere68D7ft3QyvXmGTH8c93XJmOCPE3/IxsSJSF8GISBuc/sPKT55dAWcMAxQUlwc/IxgT45SQ8ckczkxmc1EZJlLFM5e8ave29D0/Ms9XSqlo4s0kLloHM35sK06c/xDcs9oe7zOy6UGgV3wSXDkZ+o2F2T+HBc+EduzhsOUr+Nd5dt/99W9rEBgC/s4Ivgp8JCLe+eTvc7D+n/KHZ1fAy8IlFdWUVtYEVzrGK/PQEjI5WSmUVFRTVFJJdrB7EJuqbA+sfd8W/IyND++zlVIqWvU6y5YvQaDHyU0vgXI0cYkw8T/w5k3w/n12e85pPwnd/d20fDq8cwekd4Vr3oCsPpEeUYvgb7LIJBFZCozEFnd+yBjTyqpUBqkkH7L6BnRpQbGtIdgxFIFgRi/baLu2FmJiDmYO7y4NfyC44k2oqYQhzXO1XymlXNPzVPfuHZdgO5u8dSt8+FubQHLGz9x7XrA8u2Dhi/DJJNsS7spXdE95CDWlFskS7HJwLbDUneG0UMYENSNY4Amyq4ivzN5QXW7LDbTrTq63lmBRKSfmhPl/rCVToONg6HxceJ+rlFKtXWw8THje7j386EGoqYazfxnZMdXWwt5NsGsZ7Fx28HNpgX19yDVw8V+PnhijmsyvQFBEbgHuBz4GBPi7iDxojHnRzcG1GGV77L+4Au0q4swIBl0+Bg4tIdOuO93atyEuRsJfQqZgNexYZJuvK6WUCr/YOFtyJSYe5j9s/5465/9CuxR9JNWVtnbirmW2juxO53Olx74eEwfZ/e2eyE6Doesw6H5SeMbWyvg7I/gLYKgxZjeAiGQCXwAaCPojyK4ihaGcEczoZT/v3gC9ziYuNobuGcnhzxxeOgUkFgYfljSulFIqXGJibeZtbBx8+pjdMzjygdAGXBUlkL/CCfaW2s+Fq+3WIID4ZOg4yBa77nScXSXKHmCTW5Tr/A0EdwMen+891OsAoo6ixFtDMPCuIolxMaS1CaKriFdaV4hLOjRhJDOZTUVlwd/bX7U1sGwa9L0AUjuE77lKKaUOFxMDF/3Vzgx+/qQtLXPBHwIPBvdvgy0L7MfWBZC/EoxtbUpypg32Tv6h/dzpOLtlKdBMaBU0fyOL9cBXIvIuNllkHLBMRO4BMMY84dL4WgaP014umK4iaYlIKP6FFhMD7XMPyxz+atMejDGheUZjNs6zs6SjJ7n/LKWUUo2LiYGxf7ZLsl8+ZYPBUY82HgzW1kDBKp/A7yvYv9W+Fp8C3YbDmb+wveQ7HQdpXXR5N8r4GwhucD683nU+tw3tcFqouqXhAJNFikPQVcRXZm9bo8qRm5VCWWUNBZ4KOqaFYSp+yRRIagfHjHL/WUoppfwjYv+BHhtvg8GaKhjzuA0SvSpLYfu3tp7fli9h2zdQUWxfS+1ky92ccif0OMkmA8aGYCVLucrf8jG/BxCRZGNMGNcQW4iSfEhKt5XdA1DgKadfpxDG3Bm9YN0H9l9yMbHk+GQOux4Ilu+H1bNg6PUBd1lRSinlEhG7LBwTZ5eJayptwX9v4LdrmZ0tBOgwEAZdBj1OsYFfu54629cM+Zs1fAq2L3Aq0ENEhgA/MMbc4ebgWgzPzuC6ingqOKNvdujGk9nb/s+9fxu070mut5ZgUSkn98oM3XMasvJtW77meK0dqJRSUUnEJozExtsEksWT7d7yrifAqT+xgV/3E21LPNXs+Ttn+yRwITADwBizVETOdG1ULY0nP+Bl4QOVNXjKq0Nb7NmbObxnA7TvSZd2bUiIjWFTODKHl0yxJQG6DHP/WUoppQIjAuf+BnLPskFg5yFav6+F8rfXMMaYrfUO1YR4LC1XSTDFpENYQ9CrrpagTRiJjRF6ZCazqdDlQHD3BruReMjVunyglFLNQe4ZdvZPg8AWy98Zwa0icipgRCQeuAvIc29YLUiIuoqEdO9e284Q1wZ2+5aQSXG/luDS10Bi4Lgr3X2OUkoppfzi74zg7cCPgK7AduB453vVmAN77X68YLuKhKLPsFdMjF0e3nMwETw3K5nvdpdRW2tC9xxftbWwdCr0PhfSAqunqJRSSqnQ8jdruAi41uWxtEwebzHpwGoIFhSHsKuIr8xets2bIycrhYrqWnYWl9O1XWDZzUe1+TNbW2rkA6G/t1JKKaUC4teMoIicLSKPi8ixIjJXRBaKyPluD65FCEFXkfhYoX1yfAgHhZ0R3LvZNhoHcjMPZg67YskUSEyH/mPdub9SSimlmszfpeF/ALuAecCfgDuAP7s1qBbFOyMYYFeRAk85Hdomhb7jR0Zv22C8eBtgZwTB1hIMuQoP5M2AQeMDrqWolFJKqdDzNxCsNMY8DhQaYz4yxnwNVLs4rpajbmk48K4iIS0d45XpZA7vtvsEO6UlkRgX486M4KoZUFUGQ64J/b2VUkopFTB/s4aznL7C6c5nAUJY4bgFK8mHxDRISAno8gJPeV3B55A6pITMecTEiHuZw0um2Od1HxH6eyullFIqYP7OCP4L21fY+zkVeN6tQbUonp0BzwaC3SMY8kQRsGOKT6mbEQTIyUoO/dLw3s3w3f9sJxGtHaiUUkpFlSb1GlYB8OQHvD+wvKqGfWVVoS0m7SVyWAmZnKwU5q0upKbWEBsTWNBmjGFPaSUZKQl2X+PS1wGB464K0cCVUkopFSr+9hqeBxxWYM4Yc27IR9TSeHYGvCRa6BSTDmkNQV8ZuZC/su7b3MwUKmtq2bHvAN0zko96aU2tYfveA6wr8LCuoIR1+SWsL/CwvqCE0soaHhx3LDec3BOWToHcM6Fdd3feg1JKKaUC5u8ewZ9j9wW+QhPqCYrIKOCvQCzwvDHm0XqvJwIvAycAu4ErjTGbRWQE8Jz3NOABY8zb/twzqhhj9wgG2VWkQyi7ivjK7A1rZtsSMrFxh2QOewPB6ppavttTVhfoeYO+DYUlVFTX1t2qQ9tE+nZM5fITuvHpuiLeXLSdG7rssEvDZ//KnfErpZRSKij+Lg1/CyAiB7xfN0ZEYoGngfOBbcA3IjLDGLPK57Sbgb3GmD4ichUwCbgSWAEMN8ZUi0hnYKmIvIedlWzsntGjfD9UlwfcVaSg2IU+w74yekNtNezfAhm96pJSXvx8E69/s5V1BR42FZVSVXNwMrhruzb06ZDKqb0z6dMhlb4dU+mT3ZZ0nzqH//xkA4/OWU3JV++RmpAKAy52Z/xKKaWUCoq/M4JeTek/NgJYb4zZCCAiU4FxgG/QNg54wPl6OvCUiIgxpsznnCSf5/pzz+gRbOkYj0tdRbzqSshshIxedGibSKe0JD5ZW0iPjGT6dkjl3P4dbcDXIZXeHVJJTWz8P5mxgzvz5JylJKyZAYPHB5wxrZRSSil3+btH0IMNxpJFpBi7XGuMMWlHuawrsNXn+23ASUc6x5n92w9kAkUichLwItATuN553Z97Ro+SYAPBcmJjhMyUhBAOykddCZkNwEhEhI9/fhYxIiTFxwZ82+4ZydyWtZKEklKbLayUUkqpqOTv0nBbtwfSwDO/Ao4VkQHASyIypynXi8htwG0APXr0cGGEfqjrKhJEMenURGICzOBtVGoHSEg9pIRMckJTJ4kbdkX8Z2ypzYbU44nQT18ppZRSjfC3jiAiconTb/hxEbnIj0u2A76pot2cYw2eIyJxQDo2aaSOMSYPKAEG+XlP73XPGWOGG2OGZ2dHqPZ13dJwYOVj8j0V7mUMg1NCJtcpKh1C+7fRde/XvFV7BrNW5If23koppZQKGb8CQRF5FLgLuxdvFXCXiDzSyGXfAH1FJFdESkkClQAAIABJREFUEoCrgBn1zpkB3Oh8fTnwsTHGONfEOc/uCfQHNvt5z+hRkm9n3BIDm1AtKC53L1HEK6P3IbUEQ2LZ6wiGvA5jmbV8R2jvrZRSSqmQ8XdGcAxwvjHmRWPMi8AoYOzRLjDGVAN3AnOBPGCaMWaliDwoIpc4p70AZIrIeuAe4D7n+OnYTOElwNvAHcaYoiPd0983G3ZBdhUp9FS4VzrGK7M37P0OaqpCc7/aWttSrudpDD9+GCu2F/OdG23rlFJKKRW0pmwIawfscb5O9+cCY8xsYHa9Y/f7fF0OTGzgusnAZH/vGbU8+QHvD6ysrmV3aWV4ZgRNDezbcjCLOBhfPQO718PZv2J0t078cXYes5bv5I6z+wR/b6WUUkqFlL8zgo8Ai0XkPyLyEvAt8LB7w2ohPDsD3h9YVOJy6RivuhIyIVgezl8J/30A+o2BQZfRrX0yQ3u0Y9ayncHfWymllFIh51cgaIx5DTgZeAt4EzjFGDPVzYE1e3VdRToHdLm3hmBHN5NFwPYbhuD3CVaVw5u3QFI7uOTvNhEFW1Nw5Y5iNhXp8rBSSikVbY4aCIpI3T5AY8xOY8wMY8wMoFRE/u766JqzimKoKoPUwGYED3YVcXlGMCUbEtoGnzn80YNQsAou/QekZNUdHjPYBsKzl+usoFJKKRVtGpsRfFJEbvI9ICLXAMuAAtdG1RJ4nLIpAc4I5tf1GXZ5RlAEMnsFtzS8YR4seBpOvBX6nn/IS13ateGEnu2ZqcvDSimlVNRpLBA8E7hTRO4XkWNE5L/A9cBIY8xD7g+vGSsJroZgYXE5MYJ7XUV8BVNCpmwPvPNDyOoH5z/Y4CljB3cmb2cxGwpLghikUkoppULtqIGgMWYncBZwBnYW8HljzGhjTIgLz7VAwXYV8VSQmZpIXKzfNb8Dl9nbZg1XVzbtOmPgvbugtAgu+xckJDd4Wt3ysM4KKqWUUlGl0SjDGOMBRgPTgGtFxOVNay2EJ7g+w/nhKCbtldELTC3s+65p1y2ZAnkz4NzfQOchRzytU3oSJ+a0Z5buE1RKKaWiSmPJIh4RKcbWDxyPLSK9x+e4OhLPLohPDryriKcijIFgACVk9myCOfdCz9Ph1B83evrYwZ1ZvcvD+gJPgINUSimlVKg1tjTc1hiT5ny0NcbEGGOSvcfDNchmqWSXnQ10yqg0VYGngo5udxXx8tYS9DdzuKYa3roNJBbG/xNiYhu9ZPTgzojArGW7ghioUkoppUIpDBvQWqkguopU19SyuySMM4LJmZCY7n/CyP+egG1fw0VPQLvufl3SMS2JE3MytPewUkopFUU0EHRLEH2Gd5dWUmsgO1wzgk0pIbNtIcx/FAZfAYMvb9JjLjquM2vzS1ibr8vDSimlVDTQQNAtJfkBB4IFxU5XkXDNCIJNGGlsRrCiBN66FdK6wJjHmvyIUYM6OcvDmjSilFJKRQMNBN1Q4YHKksC7inicriLhmhEEmzCyfxtUVxz5nLm/skki45+FNu2a/IgObZM4KTeDWct3YowJYrBKKaWUCgUNBN0QbFcRZ0YwbHsEwSaMmFrY+//t3Xd4VMX6wPHvpCeQBAgtkECoEnoJHaQqCgpIE1CaIChib+j1+lOvXhtcK4r0oiIIoiBgofcSWiihBQKEVAKk98zvj91AwARStoTd9/M8ebLZPXNmzrBs3syceaeQFDKhv8OBRdDlBQjoXOJq+jWvwZnYZE7FSHJpIYQQwtokEDSHUu4qkjciWLm8JaeG81YOFzA9nBQNq5415Ars/mapqnmgSXUcFJJTUAghhCgDJBA0h+vJpEs2IhiblIFPORdcnCz4z+NTSC5BreHXyZCVBoPmgFPptryr4ulKh7o+rAmJlOlhIYQQwsokEDSH69vLlXBEMDGdKpacFgbwqARuFf45Irh3FoRtgD7vQ5WGJqmqX3NfwuJSOCmrh4UQQgirkkDQHJKiwMkN3LxLVDw2KcOyC0XyVLolhUxsKPz9NjToA0HjTVbN9elhWT0shBBCWJUEguaQlzqmpLuKJGZYNnVMHp96N3YXyc6AFU+CS3kY8HWJr6XAasq70rGeD2tCZPWwEEIIYU0SCJpDUnSJdxXJzdXEJWdQ1csKgWBeCpmsdNj4PsQcgQEzoHxVk1fVr1kNzl5OITRKpoeFEEIIa5FA0BySoku1q0hOrqaqpxWmhn3qARoOLoadX0HQE3DPA2apqk+Tajg6KNlyTgghhLAiCQTNoTS7ihhTx1Sz1oggwLrXDUHh/e+brSqf8q50kulhIYQQwqokEDS1zBTISCzFriKGZNJVrDEiWKmO4btSMGg2uJQza3X9mvkSHp/KschEs9YjhBBCiIJJIGhqpc0hmGjcXs4ai0U8KkG9ntDnv1Cztdmr69OkunF6WFYPCyGEENZg1kBQKfWAUuqkUuqMUmpqAa+7KqWWGl/fo5QKMD5/n1Jqv1LqiPF7z3xlHlVKhSiljimlPjZn+0skqZS7iiTmjQhaIRAEGLUS2k+ySFUVy7nQuX5lmR4WQgghrMRsgaBSyhGYATwINAZGKKUa33LYeOCq1ro+8BmQF9hdBh7WWjcDxgCLjef0AT4FemmtmwDVlVK9zHUNJZJc+l1FKng44+bsaMJGlV0PNfPlwpVUjl6S6WEhhBDC0sw5ItgOOKO1Pqu1zgR+AgbccswAYKHx8XKgl1JKaa0Paq3zlpMeA9yVUq5AXeC01jrO+Np6YLAZr6H4kmIM30t8j2C6daaFreT+JtVwclD8LquHhRBCCIszZyBYE7iY7+cI43MFHqO1zgYSAJ9bjhkMHNBaZwBngHuUUgFKKSdgIOBvhraXXFIUOLqCe8USFY9JzLBO6hgrqeDhQpcGMj0shBBCWEOZXiyilGqCYbp4EoDW+irwNLAU2AaEAzmFlJ2olApWSgXHxcUVdIh5JMcY7g8s4U4ccUlWSiZtRf2a+RJxNY2QiARrN0UIIYSwK+YMBC9x82idn/G5Ao8xjvB5A/HGn/2AlcBorfX1DXC11qu11u211h2Bk8CpgirXWs/SWgdprYOqVKlioksqgqSoEu8qorU2Tg3bz4ggwP2Nq+PsKKuHhRBCCEszZyC4D2iglKqjlHIBhgOrbjlmFYbFIABDgI1aa62UqgCsAaZqrXfkL6CUqmr8XhGYDMwx4zUUX1LJk0lfTc0iK0fb1T2CAN4eznRtUEWmh4UQQggLM1sgaLznbwrwJxAKLNNaH1NKvaeU6m88bC7go5Q6A7wE5KWYmQLUB95WSh0yfuVtePuFUuo4sAP4SGtd4Iig1SSXfHu5vF1F7G1qGAzTw5eupXFYpoeFEEIIi3Ey58m11muBtbc893a+x+nA0ALKvQ8UuL+Z1nqEiZtpOllpkJ5Q8hXDxhyC1bzsa2oYoHfjarg4OrAmJJKW/hWs3RwhhBDCLpTpxSJ3nVLuKhJjzV1FrMzb3Zl7G8rqYSGEEMKSJBA0pdLuKmLcZ9jeFovk6dfcl8iEdA5evGbtpgghhBB2QQJBUyrlriJxSRl4ujnh7mIfu4rcqndgNVycHFgTIquHhRBCCEuQQNCUru8qUvLFIvY4LZzH082Zbg2rsPZIFLm5Mj0shBBCmJsEgqaUFAUOzuBRqUTF7W1XkYI81NyXqIR0Dl68au2mCCGEEDZPAkFTSjbmECzhriKxSelUs8PUMfn1Mk4P/y7Tw0IIIYTZSSBoSklRJU4do7UmNjGDqnaYOia/8q5OdJfpYSGEEMIiJBA0pVLsKpKYlk1Gdq5d3yOYp19zX2ISM/hhz3lJJSOEEEKYkQSCppQUVepdRapIIMj9javTulYF/v3bMR6dtZsT0YnWbpIQQghhkyQQNJWsdEi/VopA0H53FbmVu4sjy5/qxIeDmnE6Jol+X27n3dXHSEzPsnbThBBCCJsigaCpJJc+dQzY564iBXFwUIxoV4uNL3dneFt/FuwMp+e0LazYHyHTxUIIIYSJSCBoKtd3FSlZIBhj3GfY3heL3KpiORc+eKQZq57pgl9Fd17++TBDZ+7ieKRMFwshhBClJYGgqSSXLhCMTcygnIsj5V2dTNgo29HMz5tfnu7EJ4Obc/ZyCg99tY3/++0oCWkyXSyEEEKUlASCppI3IliaXUVkNPC2HBwUw9r6s+nl7jzeoTaLd5+n57TNLAu+KKlmhBBCiBKQQNBUkqLBwQk8fIpdNCM7h9CoRLk/sIi8PZx5b0BTVk3pQm0fD15bHsKQmTs5einB2k0TQggh7ioSCJpKcowhmbRD8bo0N1fz8rLDhMWlMKZTgHnaZqOa1vRm+VOd+HRIc87Hp9L/6+38+9ejJKTKdLEQQghRFBIImkoJdxX5+I8T/B4SxRsPNqJvM18zNMy2OTgohgb5s/GV7ozuGMAPe87TY/pmlu67INPFQgghxB1IIGgqSTHgWbxAbuHOcL7bepbRHWsz8d66ZmqYffB2d+ad/k34/dmu1KtSjtdXHGHQtzs5H59i7aYJIYQQZZYEgqaSFAWeRR8R/PNYNO+sPsZ9javxfw83QSllxsbZj8Y1vFg2qSP/G9aC8PgUBs7YwZ6z8dZulhBCCFEmSSBoCtmZkHalyCOC+89f5bklB2nhV4Evh7fC0UGCQFNSSjGotR+/Tu5MxXIuPD53D8uCL1q7WUIIIUSZI4GgKVzfVeTOI4LnLqcwYeE+fL3dmDsmCHcXRzM3zn4FVC7Hyqc7076OD68tD+HDtaHkyH2DQgghxHUSCJpCEXcVuZycwdj5e1FKsWBcO3zKS7oYc/P2cGb+uLaM6lCb77aeZdLi/aRkZFu7WUIIIUSZIIGgKRRhV5G0zBzGLwwmJjGdOWOCCKhczkKNE86ODvxnYFPe7d+EjSdiGDJzF5HX0qzdLCGEEMLqJBA0hTvsKpKTq3l2yUFCIq7xxfBWtK5V0YKNE3nGdApg3ti2RFxJZcCMHRy6eM3aTRJCCCGsyqyBoFLqAaXUSaXUGaXU1AJed1VKLTW+vkcpFWB8/j6l1H6l1BHj9575yowwPh+ilPpDKVXZnNdQJEnRoByh3D+borXmnVXHWB8aw7v9m9CnScm2oBOm0f2eqvwyuRNuzg48+t0uVh2OtHaThBBCCKsxWyColHIEZgAPAo2BEUqpxrccNh64qrWuD3wGfGx8/jLwsNa6GTAGWGw8pxPwBdBDa90cCAGmmOsaiiw5GspXBYd/Lvz4butZFu8+z6R76zK6Y4Dl2yb+oUE1T36d3Jnmft48t+Qgn68/hdayiEQIIYT9MeeIYDvgjNb6rNY6E/gJGHDLMQOAhcbHy4FeSimltT6otc4bqjkGuCulXAFl/CqnDIn3vADrD+kkxRR4f+Bvhy7x0boTPNyiBq8/0MgKDROF8SnvyvcT2jO4tR+frz/Ncz8dIj0rx9rNEkIIISzKyYznrgnkT94WAbQv7BitdbZSKgHwwTAimGcwcEBrnQGglHoaOAKkAKeBZ8zS+uIYuRQykm56aldYPK/8fJh2dSoxbWhzHCRXYJnj6uTItKHNqV+1PJ/8eYKLV1KZNboNVT3drN00IYQQwiLK9GIRpVQTDNPFk4w/OwNPA62AGhimht8opOxEpVSwUio4Li7OvA11cAT3Ctd/PBWTxMTFwdT2KcfsUUG4OkmuwLJKKcXT3esx8/E2nIxOYuDXOzgemWjtZv2DTF0LIYQwB3MGgpcA/3w/+xmfK/AY4/1/3kC88Wc/YCUwWmsdZjy+JYDWOkwbfjMuAzoVVLnWepbWOkhrHVSlShXTXFERxCSmM3beXtycHVkwri3eHs4Wq1uUXJ8m1fn5qY7kahgycyd/H4+xdpOum7U1jD6fbyU1U/IfClHWaa3ZciqOw5KVQNwlzBkI7gMaKKXqKKVcgOHAqluOWYVhMQjAEGCj1lorpSoAa4CpWusd+Y6/BDRWSuVFdvcBoWa7gmJKSs9i7Px9JKRlMX9sW/wqeli7SaIYmtb05rcpnalftTwTFwfz3ZYwq4/EnYhO5JM/TnIqJpkVB279O0oIUZaERFxj+KzdjJm3l0dn7WL/+SvWbpIQd2S2QFBrnY1hRe+fGIK1ZVrrY0qp95RS/Y2HzQV8lFJngJeAvBQzU4D6wNtKqUPGr6rGBSTvAluVUiEYRgj/a65rKI6snFwm/3CAUzFJfPN4G5rW9LZ2k0QJVPNyY+nEjvRt5suH607w+ooQq21Ll5OreX15CN7uzjSq7sm87efIlS3yhChzIq6m8vxPB+n/9Q7OxCbzVr9AfL3dGTd/Hyejk+58AiGsSFl7xMMSgoKCdHBwsNnOr7Xm1eUhLN8fwSeDmzOsrf+dC4kyLTdX89n6U3y18Qwv3deQ53o1sHgb5mw7y/trQvlyRCsU8OySg8wZHUTvxnfe01oIYX4JaVl8s/kM83eEo4AJXevwVLd6eLo5c/FKKkNm7kRrWPF0J/wryQyRKDql1H6tdZAl6irTi0XuFp+vP83y/RE836uBBIE2wsFB8fL99zCwZQ2+2HCa/eevWrT+8/EpTPvrJL0Dq/Jwc18ebFqdmhXcmbv9nEXbIYT4p8zsXBbsOEf3Tzcxa+tZHm5eg02vdOfVPo3wdDPcF+5fyYPF49uTkZ3LqLl7iEvKsHKrhSiYBIImMrSNHy/0tvyokTCv9wY2pUYFN57/6SCJ6VkWqVNrzRu/HMHZwbBHslIKJ0cHxnYKYNfZeI5eSrBIO4QQN9Na88fRaPp8vpV3Vh8n0NeL1VO6MH1YC2pUcP/H8Q2reTJvbFtiEjMYM2+vxT5DhCgOCQRN4MX7GvLJkOYYclwLW+Ll5sznj7YiKiGdt389apE6lwVfZGdYPFP7NsLX+8Yvl0fb+VPOxZF5MioohMUdvHCVoTN38dT3+3FyUMwf25YfJrS/4/3gbWpXZOaoNpyOTWLCwmBJXC/KHAkETUSCQNvVpnZFnu/VgF8PRbLyYIRZ64pJTOf9NaG0r1OJEW1r3fSal5szw9r6s+pwJNEJ6WZtR0E2hMawLPjinQ8UwoZcvJLKlB8P8Mg3OwmPT+W/jzRj3fNd6dGoapE/97s1rML0YS3ZF36FKT8eJDsn18ytFqLoJBAUogie6VGfdgGV+Pevxzgfn2KWOrTW/PvXo2Rm5/LR4IJ3oxnXqQ65WrNoV7hZ2lCYy8kZPP/TIaauCOFUjKyCFLYvITWLD9Ycp9f0LawPjeG5nvXZ/Gp3RravhZNj8X919m9Rg/f6N2F9aAyvrzgiGQBEmSGBoBBF4Oig+Gx4S5SC5386RJYZ/qJfdzSav47H8OJ9DalTuVyBx9Ty8aBPk+r8sOeCRRNMf7H+NGlZOXi4OPHRuhMWq1cIS8vIzmHOtrPc++km5mw/x8BWNdj8Sg9euv8eyruWblfWUR0DeKF3A1YciODDdaFWz1MqBEggKESR1azgzoeDmnHo4jW+3HDapOe+lprJ278do2lNLyZ0qXPbYyd0rUNCWhYr9pt3mjpPWFwyP+69wIh2/jzXqz4bT8Sy48zlOxcU4i6jtebp7w/w/ppQmvt5s+bZrnwypAXVvU23//jzvRowpmNtZm87x8wtZ012XiFKSgJBIYrhoeY1GNrGj683nWH32XiTnff9NaFcTc3k48HN7zjt1LpWRVr6V2CuhRJMf7zuBG5ODjzfqyGjOwZQs4I7/10bKlNbwuasDoli44lY3niwEYvHt6dxDS+T16GU4v8ebkL/FjX4+I8TLNl7weR12CIZPTUfCQSFKKZ3+jchwKccLy49REJq6dNBbDsdx/L9ETzVrS5Natx5RxqlFBO61iE8PpUNJ2JLXf/t7D13hb+Ox/B093pU8XTFzdmR1x64h2ORifx6yH63vMvOyWX6Xyc5JPvJ2oyE1CzeW32c5n7eTOha16x1OTgopg1tQbeGVfjXyiP8cTTKrPXdzQ5cuMrERcHUe3MtExcFcyRC0meZmgSCQhRTOVcnvhjekrikDN5YGVKqv1RTMrJ545cj1K1Sjmd7Fj0P5QNNDAmm52wz39SS1poP1oZS3cuN8V1u/GJ8uHkNmvt5M+3Pk3abCmPhrvN8tfEMj83eTXC47CdrCz7+8wRXUzP57yPNcCxgoZapuTg58O3jrWnpX4Hnlhxip9xucZ3Wmi2n4hg+axeDvtnJnnNXeKSVH7vPxvPw19sZO3+vxZP82zIJBIUogeZ+FXj5/ntYeySan4NLfq/etL9OEnE1jY8HN8fN2bHI5ZwcHRjXOYA9566YLcH07yFRHL54jZfub4i7y422OTgo3uwbSGRCOvN22F9Ow6iENP7310k61vWhqpcbY+btZd9dHAyuPx7DA59vZe+5u/caSis4/Ao/7rnAE50DLLpPvIeLE/PGtqVO5XI8uSiYkAj7HmHOzsll1eFI+n25nTHz9hJ+OZW3+gWyc2pPpg9rwY6pPXm1zz2ERCQw+NudjJy9m11h8TJtXEoSCApRQpPurUunej7836pjhMUlF7v8gQtXWbAznNEda9M2oFKxyw9ra0gwbY5t5zKyc/jkzxM0qu7J4NZ+/3i9Q10fegdW45tNYcQn29fWWe+uOk6O1nwypDk/TexAtbs4GNwVFs/kHw9wMiaJUXP3sPFEjLWbZHGZ2bm8ufIINSu480Lvhhavv4KHC4vGt6NiORfGzt/Hmdjif5bc7dKzcvh+93l6Tt/Cc0sOkp6dwydDmrP1tR5M6FqXcsbV2p5uzjzToz7bX+/BW/0COR2bzIjZuxn23S62noqTgLCEJBAUooQcHBT/G9YSV2cHnv/pIJnZRU8pk5Gdw+vLQ/D1cuO1BxqVqH4vN2cebVuL1WZIML1413kuXknjjb6BhU6TTX2wEWlZOXxh4hXUZdmG0Bj+OBbNc70a4F/Jg2pebiyZ2IHqd2EweCQigScXBVOrkgd/v9iNBtXKM3HRfn6zs3s/Z287y6mYZN4b0OR6wGFp1bzcWDy+PQ4KRs/dQ+S1NKu0w9IS07P4ZvMZuny8ibd+PUrFci7MfLwN61/sxrAgf1ycCg5RPFycmNC1Ltte68G7/ZsQcTWN0fP2MvCbnaw/HiMBYTFJIChEKVT3duPjwc05eimR6X+dLHK5GZvCOB2bzAeDmpUqN9m4zgHkas3CXeElPsetElKz+GrjGbo2qEy3hlUKPa5+1fKMbFeLH/dcKNGI6N0mNTObt387RoOq5ZmQ757Jal5u/DSxA9W9DcHg3TDFGhaXzJj5e/F2d2bx+HbUr1qeJU92oE3tiryw9BCLd4Vbu4kWcT4+hS83nObBptXpFVjNqm2pU7kcC8a1Iyk9m1Fz93AlJdOq7QHDrirvrj7GB2uO8+OeC+wKiycmMb3UgVZsYjofrTtB5w838skfJ2lcw4sfn2zPr5M78UDT6gUm0y+Im7MjYzoFsOXVHnw4qBlXUjKYsCiYvl9uZ+2RKMlsUETKHiLnoKAgHRwcbO1mCBv25soj/LjnAt+Pb0+XBpVve+yJ6EQe/mo7DzWvwWePtix13ZN/2M/205fZ9UYvk4xofLDmOHO2n2Ptc10J9L19+ozLyRl0/3Qzner5MGt0UKnrLss+WneCmVvCWDapI+3q/HMqPzYxnRGzdxOVkM78sW1pX9fHCq28s8hraQz5dicZ2bn8/FRH6lYpf/219Kwcpvx4gPWhsbx8X0Om9Kxvs9tnaq0ZPW8vBy9cY/1L3UyaK7A0dp+NZ/S8vQT6evHjhPZWGaVMTM9ixqYzzN8eDgoUkJFvxsPDxZEAn3LUqVKOOj7lqFP5xuOK5VwKPW/45RS+23qWFfsjyM7NpW8zX57qVs9k92Vm5eSy6lAkMzad4ezlFBpULc+UnvXp18y3RLvBWJNSar/W2iIfqhIICmECaZk5PPTVNpLSs/njhXupVMiHYU6uZtC3O7l4JZX1L3Ur9Lji2H/+KoO/3cl7A5owumNAqc518UoqvaZvoX/LGkwb2qJIZWZsOsOnf54sNECyBSejk+j35TYGta7JJ0MK75eyHgxeSclk6MydxCZmsGRihwJ/AWfl5PL68hB+OXiJJzrX4a1+gUUeobmb/HboEs//dIh3+zdhTKcAazfnJn8fj+Gp7/fj6+3GpHvrMjTIv1iLyUoqKyeXJXsv8Pn601xNzWRQKz9e6dOQap5uRCWmcy4uhXOXkzl7OYXwyymcu5zCxatp5OQbeavg4WwIDPMFiN7uzvy07yLrjkTh5ODAkCA/JnatS0AhOyiVVk6uZu2RKL7eeIaTMUkE+HgwuUd9HmlVE+e7JCCUQNDEJBAUlnAsMoFHZuzk3oZVmD26TYEjKXO2neX9NaF8OaIV/VvUMFndj3yzg6spmWx4uXupUl88t+Qgfx2PZtMr3fH1di9SmbTMHHpM20w1L1dWTu5sc0FDbq5m2He7CItLZsPL3e8YvMcmpTNi1m4ir6Uzf1xbOpSRYDA5I5uRs3dzMjqJhU+0u227cnM17/1+nAU7wxnc2o+PBze760ZUbichNYte/9tMzYoe/PJ0J4ukiymu7acvM/3vkxy8cA2fci6M6xzAqA4BeHs4m7wurTUbT8TywdpQzsal0KFuJd7q17hII3WZ2blcvJp6PTA8ezmFc3EphMenEJXv3mVPVyce61CbJzoHUNXLMqOvubmav47H8NXG0xyLTMS/kjuzRgXdcaajLJBA0MQkEBSWMnf7Of7z+3H+M7ApozrUvum1C/Gp3P/5FrrUr8zs0UEmnXJbExLFMz8eYNaoNtzfpHqJznH44jUGzNjBlB71eaXPPcUqu3x/BK/8fNjkAW5ZsHTfBV5fcYRPhzRnaJB/kcrEJqUzcvYeLl1NY97YtnSsZ91gMCM7h3Hz97Hn3BW+e7wNvRvf+X44rTVfbjjDZ+tPcV/janw1opVFRqUs4Y1fQlgWHMGqKZ2LlMTdWrTW7D13hZlbwth0Mo5yLo6MbF+L8V3qmmwq+1hkAh+sCWXDcY52AAAaP0lEQVRnWDx1K5fjjb6B9A6sapLPp9TMbMIvpxKVkEbbOpXwcjN9EFsUWms2nYzlXyuPkpKRzcIn2tGqVkWrtKWoJBA0MQkEhaXk5mrGLtjHnrPxrH62Cw2reQKGD6LH5uwhJCKBv1+6t8ijbUWVnZNLt083U7OiO8smdSx2ea01j87aTVhsMptf7Y5nMT+wc3I1D321naT0LDa83A1XJ/MEDJnZuXz65wkaVPVkWNuiBWWlEZ+cQa//baFhNU+WTuxQrF+OcUkZjJi92+rBYHZOLlN+PMgfx6KZPrQFg9v8Mx3Q7SzcGc7/rTpGx7o+zB4TVKrFTWXBvvArDJ25i4n31uXNvoHWbk6RhUYl8t2WMFaHROGg4JFWNZl4bz3qVy1/58IFiE5IZ9pfJ1lxIIIK7s680LshI9vXumumTkvi4pVUHp+7h7ikDOaMCaJTvdvfz21NlgwEbfdfXAgrMGwd1Zzyrk6GfFjGnTd+Do5gZ1g8b/RtZPIgEG4kmN577kqJtmBaHxrL3nNXeKF3g2IHgQCODop/9Q0k4moai3aeL3b5okjNzGbComBmbzvHaytC+H63eerJ779rT5CSkc0HA5sWe4SkiqcrS57sgF9Fd8Yt2MvOMMvvHKG15l8rj/LHsWj+/VDjYgeBAGM6BfD5oy3ZG36FkbN3m2U1a3RCOjM2neH934+TmF76bRsLk5mdy5u/5OUMLPpOPmVBoK8Xnw9vxeZXujOyXS1+OxTJfZ9tYdLi4GJtdZiamc1nf5+ix7TNrDoUyZNd67L51R6M6RRg00EggH8lD36e1BG/iu6Mnb/PLvNmFsS2/9WFsIKqnm5MG9qCE9FJfPzHCWIS0/nPmuO0r1OJEW1rma3eYW39Ke/qxNztxdt2Ljsnl4/WhVK3cjmGtyt5+7oY0818tfE011JNGywkpGbx+Jw9bD8dx38GNqV3YFXe+vUoy/ZdNGk9+e0Ki2fFgQgm3luXBsaR3eKq4unKj092wL+iB08s2GfxbcQ++uMES4Mv8mzP+ozvUqfE5xnYqiazRrXhZHQSQ2fuNEmeu4zsHNYeiWLs/L10+mgDn/55knk7zjHw6x1mS6o8e9tZTscacgZ6uNydI5v+lTx4d0BTdkztyZQe9dl99goDZ+xgxKzdbLlNUuWcXM2yfRfp/ulmvthwmp6BVdnwcjfe7BuIt7t1pmytoaqXG0sndqRRdU8mLtrP6sOR1m6S1cnUsBBm8s6qYyzYGU6j6p6cu5zCHy/cSx0zrZLL85/fj7NwZzjbXu9R5JHH73ef561fj/LdqDb0KeH9hXlORifx4BdbGde5Dv9+qHGpzpUnNjGdUXP3cu5yCl8Mb8mDzXzJyM7hyUX72XY6js+GtWRgq5omqStPRnYOD36xjaycXP56odtNW+yVxOXkDEbO3s2FK6nMHdOWzvXNPyU1c0sYH607wagOtXlvQBOT3PO152w8ExYG42XMP5g/9UxRnYhOZNm+CFYejOBqaha+3m4MaePHkDZ+xCRmMPmH/aRn5fL5oy2LdC9jUYVfTqHP51vpFViVbx5rY7LzWltyRjY/7b3AnG3niE5Mp7GvF091r0ffptWvL/DZfvoyH6wNJTQqkVa1KvBWv0Da1LbNFf5FlZSexfiFwewLv8JHg5rxqBn/SC8JuUfQxCQQFNaQnpXDgK93cDImiakPNuKpbvXMXufFK6l0+3QTE++tx9QH77xjSXJGNt0/3UTdyuVZOql498AVZuqKEFYciGDDS92p5eNRqnOdj0/h8bl7iE/OZNaooJtyNKZn5S2AiOerEa3p19y3tE2/7uuNp5n21ykWjGtL93uqmuSclgwGf9p7gam/HOHhFjX44tGWJl3JffRSAmPm7QVg4RPtirSyNCEti1WHI/k5+CIhEQk4Oyrub1ydoUF+dG1Q5aZVu5HX0pi0eD9HIxN4qXdDnulRv9Ttz58zcMPL3ahmoVWrlpSZncuvhy7x3ZYwwuJSqFXJg9Eda7MzLJ6NJ2Lxq+jO6w804qHmvjabG7K40jJzeOr7/Ww5Fce/H2pcqlFzU5NA0MQkEBTWcj4+hbVHonmyax2Lpd945ocDbDsdV6QE09P/OslXG8/w6zOdaelfwST1xyam0+3TzfQMrMqMka1LfJ7QqERGz9tLVk4uC8a1K7B9qZnZjDH+gv/msdYlXjGd3/n4FO7/bCu9A6sx47GSt78gl5MzeGz2HsLjU5g31jzB4LojhhXkXRtUYfbooEK36SqNs3HJjJq7l8S0LOaMCSowX2JurmbX2XiWBV/kj6PRZGTn0qi6J4+29WdAy5q3TcOTnpXDG78cYeXBSzzQpDrTh7UoVWLlvJyBpsi1Wdbl5mr+Do3h281hHLp4DU9XJ6b0rM+YTgE2s+rblDKzc3n+p4OsOxrNi70b8lyvspFE3WYCQaXUA8AXgCMwR2v90S2vuwKLgDZAPPCo1jpcKXUf8BHgAmQCr2qtNyqlPIFt+U7hB3yvtX7hdu2QQFDYkwMXrjLom513TJQbnZBO92mb6B1Yja9LEbAV5LO/T/HFhtP8MrkTrUuQpiE4/ArjFuyjnIsTi8e3u+09eknpWYyau5djkQnMGhVEj0YlH8GzxMhRfHIGI43B4Nwxbe+4E01xbD99mScW7KOZnzeLx7cz631wkdfSGDV3DxFX0/j28db0bGSYxo24msry/RH8HBzBpWtpeLk5MbBVTYYF+dOkhleRf8lqrZm7/Rz/XRtKg6qezBrdhto+xb+14lpqJr3/twW/ih6sKKM5A81Ba82J6CSqe7nddrcPYbhPeuovR1i+P4Inu9bhzb6BVg8GbSIQVEo5AqeA+4AIYB8wQmt9PN8xk4HmWuunlFLDgUe01o8qpVoBMVrrSKVUU+BPrfU/bgJSSu0HXtRab71dWyQQFPZm0Dc7iE/JZONtEky/tvwwKw9eMskU7q1SMrLpPm0ztSt58PNTHYv1obrpZCxPf78fX293Fo9vh1/FO7ctIS2Lx+bs5lRMMvNKEVytPhzJs0sO8s7DjRnb2XzTRPHJGTw2Zw/nLqdwX+NqNK7hRWNfLxrX8KKqZ8mCz0MXrzFy9m78K3qwbFJHsyQevtWVlEzGzt/LschEJnevx6GL19huXBDTpX5lhgb5c3/jaqUaidp++jLP/HgAgK9HtqJrg8L3vy7I1BUh/Lw/gtVTutC4RtlPJCysI38S9RHt/Hl/YDOr/tFgK4FgR+AdrXUf489vAGitP8x3zJ/GY3YppZyAaKCKztcoZfgNEg/4aq0z8j3fENgA1NJ3uAgJBIW9WXskisk/HCh0AUhoVCJ9v9zG+M51eMtEizputWTvBd745QgzH2/NA02Ldv/eb4cu8fKyw9xT3ZOFT7SjcnnXItd3NSWTEbN3Ex6fwoJxt985oyCJ6Vn0mr6F6l5u/PpMZ7P/EohPzuDd1cc5cOEqEVdvrMKtXN71emDYpIYhOAzwKXfb9pyOSWLod7vwdHNixVOdLLZzAxjuM31yYTC7zsbjV9GdoW38GdymZpEC+KK6EJ/Kk4uCOR2bxBsPBjKha50i/XGx99wVhn23i0n31uWNuyhnoLAOrTXT/zrF15vO0L9FDaYPa2G1lDqWDATNuX6+JpA/t0ME0L6wY7TW2UqpBMAHyJ9jYTBwIH8QaDQcWHqnIFAIe3R/42rUrODO3G3nCgwEP1x34vq9Q+YytI0f87af46N1J+jZqNod71VbvCuct1cdo21AJeaMCSr2LgQVy7nw/YT2jJi1mycW7GPx+HbFWhk5/c+TxCdnMG9MW4uMBPiUd+XLEa0AQ3qc0OhEjkcmciwykeNRicw5c5Zs4x6u7s6ONPL1vD5q2NjXi0bVvXB3cSTiaiqj5u7F2dGB78e3t2gQCFDe1YmFT7TjZHQSTWp4mWWLwVo+HvwyuROv/HyYD9aGcjwqkQ8HNbvtSGNmdi5vrjTkDHz+LssZKKxDKcUrfe6hnKsTH/9xgtTMbL4e2drm760s04mUlFJNgI+B+wt4eTgw6jZlJwITAWrVKlvLwoUwt7wE0++vCeXwxWu0yLfQYtvpOLaeiuNffQOp4GG+e4ecHB14s28g4xbs48c95wudas2/lVnvwKql+uCtXN6VHya059FZuxk7bx/fT2h/07UX5vDFayzafZ4xHQNo5mf5Lce8PZzpUNfnplHMjOwczsQmc9wYGB6PTGTV4Uh+2HMBAAcFdauUJzk9m9TMbJZO6liie+hMwcXJwez9Vs7ViW8ea82MTWeY/vcpTscm8d2oIGpWKDhN0qytYZyJTWb+2LZ3bc5AYR1Pd69HeVdH/v3bMZ5YsI/Zo4NKtViprCuzU8NKKT9gIzBOa73jlnO3AH7WWjcsSltkaljYo6T0LDp+uJGejapeH3my1FZwefK21guNSmTzqz3+kbg2/305g1rV5OMhzU0yFROVkMaw73aRkJrFkokdbrufbHZOLgNm7CAuKYMNL3cr0c4qlqK1JuJq2vXA8HhUIpeTM/hX30CCAuwnL9z64zG8sPQQrk4OfPNY63+sWg6/nML9n2/lPjOs/Bb245cDEby6PITmft4sGNvOIvfd5rGVLeb2AQ2UUnWUUi4YRvBW3XLMKmCM8fEQYKMxCKwArAGm3hoEGo0Alpip3ULYBE83Z4a39WftkajrO0GsPHiJ0KhEXu1zj9mDQDBMtbzZN5BraVl8uznspteycnJ5+efDLNgZzhOd6zBtqOnux/H1dufHCR3wdHPm8Tl7OBmdVOixi3ad51hkIv/3cJMyHQSCoT/9K3nQp0l1XryvIbNHB7Fycme7CgIBejeuxq/PdMbb3ZnH5uxh8a7w6ztqaK1569ejuDo68PbD5rn/VdiHQa39mDGyNccuJTJ89m4uJ996h5ptMFsgqLXOBqYAfwKhwDKt9TGl1HtKqf7Gw+YCPkqpM8BLwFTj81OA+sDbSqlDxq/8OSGGIYGgEHc0tnMAuVqzcFc4aZk5TP/rJC38vHm4eQ2LtaFpTW8eaVWTeTvOEXE1FTDkiXtq8X5WHrzEy/c15N8PBZr83jL/Sh78MKE9Lk4OPDZnd4HblkUnpDP9r5N0a1iFvs1Kn4NQWE79quVZ+UxnujaozL9/O8YbvxwhIzuH3w5Fsv3MZV574B6bTBwtLOuBptWZMyaIc5eTGTZzl0m2VyxrJKG0EDbumR8PsPVUHKM61OabzWEsndihwATA5hR5LY0e0zbTt5kv7w5owoQFwew7f4X3BjRlVIfaZq37TGwyw2ftxkHBskkdCci3zd/T3+9n44lY/n6xm8lT6AjLyMnV/O/vk8zYFEbrWhU4H5+KfyUPfnm6k1kWrgj7tC/8Ck/M34eXuzNLJ3Uw6ar4gtjK1LAQogyY0KUOSenZfLM5jN6B1SweBALUqODO+C51WHnwEgNn7ODAhat8MbyV2YNAMIwc/TChPVk5uYycvZuLVwyjkhtPxLDuaDTP9WogQeBdzNFB8WqfRswY2ZrQqCSupWXx4aBmEgQKk2obUIklEzvQtKYXPuWKntbqbiAjgkLYgUHf7OBwRAJ/vnAv9auWt0obEtOz6P7pZlIzs5n5eBuT7eFbVMciExg5ew9e7k4sHNeO0fP24ubsyNrnupplGzZheWFxycQkptOpnvn2cRbCEmwioXRZIoGgsHdhcclcuJJKDwsHX7c6HZOEUspqwejhi9d4fM4eMnJyyczOtco0uRBC3IlMDQshTKpelfJWDwIBGlTztFoQCNDCvwILnmiLs4NieFt/CQKFEHbPdjMkCiFEAdrUrsTuN3tRTpIMCyGEBIJCCPtT1vMFCiGEpcjUsBBCCCGEnZJAUAghhBDCTkkgKIQQQghhpyQQFEIIIYSwUxIICiGEEELYKQkEhRBCCCHslASCQgghhBB2SgJBIYQQQgg7JYGgEEIIIYSdkkBQCCGEEMJOKa21tdtgdkqpOOC8maupDFw2cx13E+mPG6Qvbib9cTPpjxukL24m/XEzW+mPolxHba11FUs0xi4CQUtQSgVrrYOs3Y6yQvrjBumLm0l/3Ez64wbpi5tJf9zMVvqjrF2HTA0LIYQQQtgpCQSFEEIIIeyUBIKmM8vaDShjpD9ukL64mfTHzaQ/bpC+uJn0x81spT/K1HXIPYJCCCGEEHZKRgSFEEIIIeyV1tomvwB/YBNwHDgGPG98vhLwN3Da+L2i8flGwC4gA3jllnM9Dxw1nueF29T5AHASOANMzfd8L+AAcAjYDtQvpHwb4Iix/JfcGLEdaqw7FwiS/uAd4JKx/CGgrx33RQtj244AqwEvO3lvfABcBJJvef4pY1/klW9sx33xGTf+j5wCrtn6ewPwANYAJ4z1fJTvtXuN5bOBIcXtCxvsj7FAXL73yAQ77osOwBUgHUgB3rbitfQ0XstRYCHgVEj5OsAeY/mlgEtJ3+fF/o9wt3wBvkBr42NPDB+EjYFP8jodmAp8bHxcFWiL4UP1lXznaWr8B/EAnID1hbzJHIEwoC7gAhzG+EvIWHeg8fFkYEEhbd5rfEMqYB3woPH5QOAeYDMlDwRtqT/eufU/nx33xT6gm/HxE8B/7KQ/OhjbfWvw45XvcX/gD3vti1uOeRaYZ+vvDeP5exgfuwDbuPF/JQBoDiyi5IGgLfXHWODrkvSDDfbFam4Ef/2ARGtcC4ZZ2otAQ+Nx7wHjC+n/ZcBw4+OZwNMlfZ/b7NSw1jpKa33A+DgJCAVqAgMwRNkYvw80HhOrtd4HZN1yqkBgj9Y6VWudDWwBBhVQZTvgjNb6rNY6E/jJWBeABryMj72ByFsLK6V8MfwS260N/5qL8rUtVGt9srh9kJ8t9Udp2VhfNAS2Gh//DQwuWi/ccLf1h7ENu7XWUQU8n5jvx3LG8xWZLfXFLUYAS+5wTEHnvqv6w3j+TcbHmRhGRvyMP4drrUMwzKyUiC31R2nZWF/UBeYbH68F3K10LT5Aptb6lPG4Aj/TlVIKw8jh8gLaVuz3uc0GgvkppQKAVhiGUavl+9CMBqrdofhRoKtSykcp5QH0xTAkfquaGCL5PBHG5wAmAGuVUhHAKOCjQspHFFLepGykP6YopUKUUvOUUhXv0OZC2UBfHOPGh+HQQuovsrukP+50Dc8opcIw/DX/XHHL5ztPAHd5XwAopWpjmEbaWJLy+c4TwF3UH0qpCsDDwIY7tK1EbKQ/Bhs/R5crpUr82WEDfXGYGwHbRAyjeaescC2XASelVF6y6SGFlPfBcKtH9i3lS8TmA0GlVHlgBYa5+vyjBRhHV247YqC1DgU+Bv4C/sBwD0JOMZvxIob72Pww/NXxv2KWNxkb6Y9vgXpASyAKmF7M8oDN9MUTwGSl1H4M0zOZxSx/nY30B1rrGVrresDrwFvFLQ+20xdGw4HlWuvi1n/d3dYfSiknDCOgX2qtzxaznjuykf5YDQRorZtjGHlaWFj527GRvngF6KaUOoxhOjYeSLD0tRjrGA58ppTaCyQVp3xJ2XQgqJRyxvAG/UFr/Yvx6RjjVFvelFvsnc6jtZ6rtW6jtb4XuAqcUkr5K6UOGb+ewrB4IX/k7gdcUkpVAVporfcYn18KdFJKOeYr/56xvN+t5Ut88QWwlf7QWsdorXO01rnAbAzD7PbaFye01vdrrdtg+HALK25f3IX9UVQ/UYLbCWywL4ZTgmnhPHdpf8wCTmutPy/pdRfGVvpDax2vtc4w/jgHw4K0YrGhvogEHsUw6vcZkK61vmbpazGW36W17qq1bofhtp9Txvr/NJafgyFQrWAMam8qXxJOdz7k7qSUUsBcIFRrnf+vg1XAGAxDx2OA34pwrqpa61ilVC0Mw8cdjG+SlvmOcQIaKKXqYPgHGQ6MxPBG8FZKNTTO+99nbFNO/vLGcyQqpTpgGF4fDXxVsqsv8Bpspj+UUr75husfwTAcb699kVe/A4bRr5nF6Yu7tT9uU38DrfVp44/9MKz2KzJb6gvj+RsBFTGscCy2u7E/lFLvY7hPbEJJrvkO12Az/XHL52h/DPf4FZmN9UVlDKOIoRhmVuZZ6Vryl3fFMKvxAYDWus8t9WzCMHX8U1HbVihdwhVDZf0L6IJhGDeEfGlGMMytb8DwC2I9UMl4fHUM8+yJwDXjYy/ja9swLJE/DPS6TZ19MUTvYcC/8j3/CIaUFocxrPytW0j5IAxBTRjwNTdShDxibE8GEAP8aef9sdhYPgTDf1RfO+6L543nPYXhw0rZyXvjE2O9ucbv7xif/wLDfZOHMKS2aGKvfWF87R3ypcmw9fcGhpERjeEX+k1pUTCs8ozAkB4kHjhm5/3xIYb/K4cx/F9pZMd98ZbxtQzje+OwFa/lU2MbT3L79DN1MWSTOAP8DLiW9H0uO4sIIYQQQtgpm75HUAghhBBCFE4CQSGEEEIIOyWBoBBCCCGEnZJAUAghhBDCTkkgKIQQQghhpyQQFEKIfJRSR5VSx43JWy8ppd6xdpuEEMJcJBAUQoh/elBr3RLDLgNCCGGzJBAUQoibOWNILHudUqq8UmqDUuqAUuqIUmqA8flPjSOH0cbRw0NKqfcKO14IIcoaSSgthBD5KKUigQZa6xSl1CtAeeB9wENrnWjcjmq38RhtLPMOkKy1nmb82el2xwshRFlhs3sNCyFEcSmlHAFPrXXKrS8B/1VK3YthK7eaQDUMm9QXeKpiHi+EEFYhgaAQQtxQF8P+n7d6DKgCtNFaZymlwgG325ynuMcLIYRVyD2CQghxwzBgVwHPewOxxqCuB1D7Ducp7vFCCGEVMiIohBCAUuppDPcCnldKdTE+XQVwBF4DgpRSR4Bg4MQdTvcDsLoYxwshhFXIYhEhhOD6go9wrfWCojwvhBC2QKaGhRBCCCHslIwICiEE11O+aK11TlGeF0IIWyCBoBBCCCGEnZKpYSGEEEIIOyWBoBBCCCGEnZJAUAghhBDCTkkgKIQQQghhpyQQFEIIIYSwU/8P8biqFlitpMkAAAAASUVORK5CYII=\n",
      "text/plain": [
       "<Figure size 720x360 with 1 Axes>"
      ]
     },
     "metadata": {
      "needs_background": "light"
     },
     "output_type": "display_data"
    }
   ],
   "source": [
    "#Построим график кумулятивной конверсии\n",
    "plt.figure(figsize=(10, 5))\n",
    "plt.title(\"Кумулятивная конверсия\");\n",
    "plt.xlabel('Дата');\n",
    "plt.ylabel('Конверсия');\n",
    "plt.plot(cumulativeBuyersA['date'], cumulativeBuyersA['buyers']/cumulativeBuyersA['visitors'], label='A')\n",
    "plt.plot(cumulativeBuyersB['date'], cumulativeBuyersB['buyers']/cumulativeBuyersB['visitors'], label='B')\n",
    "plt.show()"
   ]
  },
  {
   "cell_type": "markdown",
   "metadata": {},
   "source": [
    "По графику кумулятивной конверсии мы можем четко сказать, что группа В показывает результат лучше, чем группа А. С 1 по 4 число в обеих группах мы видим резкий скачок и падение, после чего конверсия по группе В растет и колеблется вокруг среднего уровня. Конверсия группы А падает и также колеблется вокруг среднего уровня."
   ]
  },
 

  {
   "cell_type": "code",
   "execution_count": 20,
   "metadata": {},
   "outputs": [
    {
     "data": {
      "image/png": "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\n",
      "text/plain": [
       "<Figure size 720x360 with 1 Axes>"
      ]
     },
     "metadata": {
      "needs_background": "light"
     },
     "output_type": "display_data"
    }
   ],
   "source": [
    "#Построим график относительного кумулятивного изменения конверсии\n",
    "plt.figure(figsize=(10, 5))\n",
    "plt.title(\"Относительное кумулятивное изменение конверсии\");\n",
    "plt.xlabel('Дата');\n",
    "plt.ylabel('Относительное изменение');\n",
    "mergedCumulativeBuyers = cumulativeBuyersA.merge(cumulativeBuyersB, left_on='date', right_on='date', how='left', suffixes=['A', 'B'])\n",
    "plt.plot(mergedCumulativeBuyers['date'], (mergedCumulativeBuyers['buyersB']/mergedCumulativeBuyers['visitorsB'])/(mergedCumulativeBuyers['buyersA']/mergedCumulativeBuyers['visitorsA'])-1)\n",
    "plt.axhline(y=0, color='black', linestyle='--')\n",
    "plt.show()"
   ]
  },
  {
   "cell_type": "markdown",
   "metadata": {},
   "source": [
    "На графике относительного кумулятивного изменения конверсии мы можем подтвердить выводы, сделанные выше о том, что конверсия группы В стабильно выше группы А."
   ]
  },
  {
   "cell_type": "markdown",
   "metadata": {},
   "source": [
    "### 3.3 Поиск аномалий"
   ]
  },
  {
   "cell_type": "code",
   "execution_count": 21,
   "metadata": {},
   "outputs": [
    {
     "name": "stdout",
     "output_type": "stream",
     "text": [
      "       visitorId  orders\n",
      "1023  4256040402      11\n",
      "591   2458001652      11\n",
      "569   2378935119       9\n",
      "487   2038680547       8\n",
      "44     199603092       5\n",
      "744   3062433592       5\n",
      "55     237748145       5\n",
      "917   3803269165       5\n",
      "299   1230306981       5\n",
      "897   3717692402       5\n"
     ]
    }
   ],
   "source": [
    "#Проанализируем количество заказов по пользователям\n",
    "ordersByUsers = orders.drop(['group', 'revenue', 'date'], axis=1).groupby('visitorId', as_index=False).agg({'transactionId' : pd.Series.nunique})\n",
    "ordersByUsers.columns = ['visitorId','orders']\n",
    "print(ordersByUsers.sort_values(by='orders',ascending=False).head(10)) \n"
   ]
  },
 
  
  {
   "cell_type": "code",
   "execution_count": 22,
   "metadata": {},
   "outputs": [
    {
     "data": {
      "image/png": "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\n",
      "text/plain": [
       "<Figure size 720x360 with 1 Axes>"
      ]
     },
     "metadata": {
      "needs_background": "light"
     },
     "output_type": "display_data"
    }
   ],
   "source": [
    "#Посмотрим распределение количества заказов по пользователям на графике\n",
    "plt.figure(figsize=(10, 5))\n",
    "plt.title(\"Количество заказов по пользователям\");\n",
    "plt.xlabel('Число пользователей');\n",
    "plt.ylabel('Количество заказов');\n",
    "x_values = pd.Series(range(0,len(ordersByUsers)))\n",
    "plt.scatter(x_values, ordersByUsers['orders']) \n",
    "plt.show()"
   ]
  },
  {
   "cell_type": "code",
   "execution_count": 23,
   "metadata": {},
   "outputs": [
    {
     "name": "stdout",
     "output_type": "stream",
     "text": [
      "[1. 2. 4.]\n"
     ]
    }
   ],
   "source": [
    "print(np.percentile(ordersByUsers['orders'], [90, 95, 99])) "
   ]
  },
  {
   "cell_type": "markdown",
   "metadata": {},
   "source": [
    "Из информации выше мы видим, что 99% пользователей из 1000 совершили не более четырех заказов за месяц. В дальнейшем при исключении аномальных значений, попробуем отбросить всех пользователей с числом заказов больше 4, таких пользователей всего 10, хоть их и небольшое число, но оно может повлиять на некорретное сравнение конверсий групп А и В."
   ]
  },
 

  {
   "cell_type": "code",
   "execution_count": 24,
   "metadata": {},
   "outputs": [
    {
     "data": {
      "image/png": "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\n",
      "text/plain": [
       "<Figure size 720x360 with 1 Axes>"
      ]
     },
     "metadata": {
      "needs_background": "light"
     },
     "output_type": "display_data"
    }
   ],
   "source": [
    "#Построим график распределения стоимости заказов\n",
    "plt.figure(figsize=(10, 5))\n",
    "plt.title(\"Распределение стоимости заказов\");\n",
    "plt.xlabel('Заказы');\n",
    "plt.ylabel('Стоимость');\n",
    "x_values = pd.Series(range(0,len(orders['revenue'])))\n",
    "plt.scatter(x_values, orders['revenue']) \n",
    "plt.show()"
   ]
  },
  {
   "cell_type": "code",
   "execution_count": 25,
   "metadata": {},
   "outputs": [
    {
     "name": "stdout",
     "output_type": "stream",
     "text": [
      "count       1197.0\n",
      "mean        8348.0\n",
      "std        39191.0\n",
      "min           50.0\n",
      "50%         2978.0\n",
      "90%        18168.0\n",
      "95%        28000.0\n",
      "99%        58233.0\n",
      "max      1294500.0\n",
      "Name: revenue, dtype: float64\n"
     ]
    }
   ],
   "source": [
    "print(orders['revenue'].describe(percentiles = [.90,.95,.99]).round()) "
   ]
  },
  {
   "cell_type": "markdown",
   "metadata": {},
   "source": [
    "На графике с заказами мы видим несколько аномальных значений. В дальнейшем анализе попробуем исключить верхние 5% по размеру чека (свыше 28 000 руб.), это поможет нам убрать влияние аномально больших заказов на размер среднего чека."
   ]
  },

  {
   "cell_type": "markdown",
   "metadata": {},
   "source": [
    "### 3.4 Проверка статистических гипотез на \"сырых\" данных"
   ]
  },
  {
   "cell_type": "markdown",
   "metadata": {},
   "source": [
    "Проверим статистическую значимость различий в конверсии между группами по «сырым» данным. Сформулируем следующие гипотезы:\n",
    "\n",
    "H0: Average conversion rate raw (A) == Average conversion rate raw (B)\n",
    "\n",
    "H1: Average conversion rate raw (A) != Average conversion rate raw (B)\n",
    "\n",
    "Пороговое значение альфа зададим как 0.05."
   ]
  },
  {
   "cell_type": "code",
   "execution_count": 26,
   "metadata": {},
   "outputs": [
    {
     "name": "stdout",
     "output_type": "stream",
     "text": [
      "0.008\n",
      "0.138\n"
     ]
    }
   ],
   "source": [
    "#Посчитаем статистическую значимость различий в конверсии между группами по сырым данным\n",
    "\n",
    "visitorsPerDateA = visitors[visitors['group']=='A']\n",
    "visitorsPerDateB =visitors[visitors['group']=='B']\n",
    "\n",
    "ordersByUsersA = orders[orders['group']=='A'].groupby('visitorId', as_index=False).agg({'transactionId' : pd.Series.nunique})\n",
    "ordersByUsersA.columns = ['visitorId', 'transactionId']\n",
    "\n",
    "ordersByUsersB = orders[orders['group']=='B'].groupby('visitorId', as_index=False).agg({'transactionId' : pd.Series.nunique})\n",
    "ordersByUsersB.columns = ['visitorId', 'transactionId']\n",
    "\n",
    "sampleA = pd.concat([ordersByUsersA['transactionId'],pd.Series(0, index=np.arange(visitorsPerDateA['visitors'].sum() - len(ordersByUsersA['transactionId'])), name='transactionId')],axis=0)\n",
    "\n",
    "sampleB = pd.concat([ordersByUsersB['transactionId'],pd.Series(0, index=np.arange(visitorsPerDateB['visitors'].sum() - len(ordersByUsersB['transactionId'])), name='transactionId')],axis=0)\n",
    "\n",
    "print(\"{0:.3f}\".format(stats.mannwhitneyu(sampleA, sampleB)[1]))\n",
    "\n",
    "print(\"{0:.3f}\".format(sampleB.mean()/sampleA.mean()-1))"
   ]
  },
  {
   "cell_type": "markdown",
   "metadata": {},
   "source": [
    "Значение p-value 0.008 <0.05. Т.е. по результатам теста, мы можем сделать вывод о наличии существенных отличий конверсий в группах в пользу группы В. В среднем, конверсия выше на 14%, что довольно существенный показатель. Попробуем далее сравнить результаты на очищенных данных."
   ]
  },

  {
   "cell_type": "markdown",
   "metadata": {},
   "source": [
    "Проверим статистическую значимость различий средних чеков между группами по «сырым» данным. Сформулируем следующие гипотезы:\n",
    "\n",
    "H0: Average order raw (A) == Average order raw (B)\n",
    "\n",
    "H1: Average order raw (A) != Average order raw (B)\n",
    "\n",
    "Пороговое значение альфа зададим как 0.05."
   ]
  },
  {
   "cell_type": "code",
   "execution_count": 27,
   "metadata": {},
   "outputs": [
    {
     "name": "stdout",
     "output_type": "stream",
     "text": [
      "0.365\n",
      "0.259\n"
     ]
    }
   ],
   "source": [
    "print(\"{0:.3f}\".format(stats.mannwhitneyu(orders[orders['group']=='A']['revenue'], orders[orders['group']=='B']['revenue'])[1]))\n",
    "print(\"{0:.3f}\".format(orders[orders['group']=='B']['revenue'].mean()/orders[orders['group']=='A']['revenue'].mean()-1)) "
   ]
  },
  {
   "cell_type": "markdown",
   "metadata": {},
   "source": [
    "Значение p-value>0.05. Т.е. по результатам теста мы не можем сделать вывод о том, что статистически значимых различий в конверсии между группами нет, но при этом средний чек группы В больше чем в группе А на 26%."
   ]
  },

  {
   "cell_type": "markdown",
   "metadata": {},
   "source": [
    "### 3.5 Проверка статистических гипотез на \"очищенных\" данных"
   ]
  },
  {
   "cell_type": "markdown",
   "metadata": {},
   "source": [
    "Примем за аномальные значения пользователей с количеством заказов больше четырех или заказ на сумму больше 28 000. Очистим данные и посмотрим, как изменятся результаты."
   ]
  },
  {
   "cell_type": "code",
   "execution_count": 28,
   "metadata": {},
   "outputs": [],
   "source": [
    "#Сформируем список аномальных пользователей/покупок\n",
    "usersWithManyOrders = pd.concat([ordersByUsersA[ordersByUsersA['transactionId'] > 4]['visitorId'], ordersByUsersB[ordersByUsersB['transactionId'] > 4]['visitorId']], axis = 0)\n",
    "usersWithExpensiveOrders = orders[orders['revenue'] > 28000]['visitorId']\n",
    "abnormalUsers = pd.concat([usersWithManyOrders, usersWithExpensiveOrders], axis = 0).drop_duplicates().sort_values()"
   ]
  },
  {
   "cell_type": "code",
   "execution_count": 29,
   "metadata": {},
   "outputs": [],
   "source": [
    "#очистим выборки\n",
    "sampleAFiltered = pd.concat([ordersByUsersA[np.logical_not(ordersByUsersA['visitorId'].isin(abnormalUsers))]['transactionId'],pd.Series(0, index=np.arange(visitorsPerDateA['visitors'].sum() - len(ordersByUsersA['transactionId'])),name='transactionId')],axis=0)\n",
    "sampleBFiltered = pd.concat([ordersByUsersB[np.logical_not(ordersByUsersB['visitorId'].isin(abnormalUsers))]['transactionId'],pd.Series(0, index=np.arange(visitorsPerDateB['visitors'].sum() - len(ordersByUsersB['transactionId'])),name='transactionId')],axis=0) "
   ]
  },
  {
   "cell_type": "markdown",
   "metadata": {},
   "source": [
    "Проверим статистическую значимость различий в конверсии между группами теперь по «очищенным» данным. Сформулируем аналогичные гипотезы:\n",
    "\n",
    "H0: Average conversion rate filtered (A) == Average conversion rate filtered (B)\n",
    "\n",
    "H1: Average conversion rate filtered (A) != Average conversion rate filtered (B)\n",
    "\n",
    "Пороговое значение альфа зададим как 0.05."
   ]
  },
  {
   "cell_type": "code",
   "execution_count": 30,
   "metadata": {},
   "outputs": [
    {
     "name": "stdout",
     "output_type": "stream",
     "text": [
      "0.009\n",
      "0.145\n"
     ]
    }
   ],
   "source": [
    "print(\"{0:.3f}\".format(stats.mannwhitneyu(sampleAFiltered, sampleBFiltered)[1]))\n",
    "print(\"{0:.3f}\".format(sampleBFiltered.mean()/sampleAFiltered.mean()-1)) "
   ]
  },
  {
   "cell_type": "markdown",
   "metadata": {},
   "source": [
    "Результаты теста на очищенных данных существенно не изменились: значение p-value 0.009 <0.05. Т.е. по результатам теста, мы можем сделать вывод о наличии существенных отличий конверсий в группах в пользу группы В. В среднем, конверсия выше на 14,5%, что довольно существенный показатель."
   ]
  },
  {
   "cell_type": "markdown",
   "metadata": {},
   "source": [
    "Проверим как изменилась статистическая значимость различий средних чеков между группами по «очищенных» данных. Сформулируем следующие гипотезы:\n",
    "\n",
    "H0: Average order filtered (A) == Average order filtered (B)\n",
    "\n",
    "H1: Average order filtered (A) != Average order filtered (B)\n",
    "\n",
    "Пороговое значение альфа зададим как 0.05."
   ]
  },
  {
   "cell_type": "code",
   "execution_count": 31,
   "metadata": {},
   "outputs": [
    {
     "name": "stdout",
     "output_type": "stream",
     "text": [
      "0.337\n",
      "0.013\n"
     ]
    }
   ],
   "source": [
    "print(\"{0:.3f}\".format(stats.mannwhitneyu(\n",
    "    orders[np.logical_and(\n",
    "        orders['group']=='A',\n",
    "        np.logical_not(orders['visitorId'].isin(abnormalUsers)))]['transactionId'],\n",
    "    orders[np.logical_and(\n",
    "        orders['group']=='B',\n",
    "        np.logical_not(orders['visitorId'].isin(abnormalUsers)))]['transactionId'])[1]))\n",
    "\n",
    "print(\"{0:.3f}\".format(\n",
    "    orders[np.logical_and(orders['group']=='B',np.logical_not(orders['visitorId'].isin(abnormalUsers)))]['transactionId'].mean()/\n",
    "    orders[np.logical_and(\n",
    "        orders['group']=='A',\n",
    "        np.logical_not(orders['visitorId'].isin(abnormalUsers)))]['transactionId'].mean() - 1)) "
   ]
  },
  {
   "cell_type": "markdown",
   "metadata": {},
   "source": [
    "При очистке данных от аномалий мы еще раз убедились, что статистически значимых различий в выборках по среднему чеку нет, но при этом общее отклонение средних чеков упало с 26% до 1%. Т.е. можно предположить, что проведение теста не выявило рост среднего чека."
   ]
  },

  {
   "cell_type": "markdown",
   "metadata": {},
   "source": [
    "## Шаг 4. Общие выводы\n",
    "\n",
    "По результатам месячного тестирования мы видим рост конверсии на 14% по группе В, изменений по среднему чеку нет.\n",
    "\n",
    "В идеале, для принятия решения мне не хватает информации по специфике бизнеса: в течение какого времени клиент обычно принимает решение, как регулярно делаются покупки в этом интернет-магазине, какая гипотеза тестировалась в этом тесте.\n",
    "\n",
    "Предварительно, не обладая большей информацией о бизнеса, можно принять решение об остановке теста, так как мы получили статистически значимые различия в группах А и В."
   ]
  },

  {
   "cell_type": "code",
   "execution_count": null,
   "metadata": {},
   "outputs": [],
   "source": []
  }
 ],
 "metadata": {
  "kernelspec": {
   "display_name": "Python 3",
   "language": "python",
   "name": "python3"
  },
  "language_info": {
   "codemirror_mode": {
    "name": "ipython",
    "version": 3
   },
   "file_extension": ".py",
   "mimetype": "text/x-python",
   "name": "python",
   "nbconvert_exporter": "python",
   "pygments_lexer": "ipython3",
   "version": "3.7.6"
  }
 },
 "nbformat": 4,
 "nbformat_minor": 2
}
