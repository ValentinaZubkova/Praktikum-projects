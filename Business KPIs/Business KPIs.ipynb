
  {
   "cell_type": "markdown",
   "metadata": {},
   "source": [
    "## Курс Анализ бизнес-показателей. Аналитика в Яндекс.Афише\n",
    "\n",
    "В этом проекте мы работаем в Яндекс.Афише. Нам предоставлены данные за период с июня 2017 по май 2018. Нужно проанализировать как люди пользуются продуктом, когда они начинают покупать, сколько денег приносит один клиент и когда его привлечение окупается, после чего нужно будет подготовить выводы и рекомендации для отдела маркетинга.\n",
    "\n",
    "В нашем распоряжении есть три файла: visits, orders, costs. В файле visits дана информация по Ид пользователя,дате и времени начала и конца сессии, устройству и рекламному источнику. В файле orders данные по ИД пользователя, дате и времени заказа, сумме заказа. В файле costs представлены данные по затратам на рекламу по источникам и дате.\n",
    "\n",
    "Работа по проекту будет построена следующим образом:\n",
    "1. ознакомление и подготовка данных к анализу;\n",
    "2. подготовка метрик по количеству уникальных пользователей в день/неделю/месяц;\n",
    "3. будут посчитаны средняя продолжительность сессии и среднее количество сессий в день;\n",
    "4. когортный анализ по показателю retention rate;\n",
    "5. далее будут посчитано, когда в среднем пользователь совершает покупку после первого посещения;\n",
    "6. будут посчитаны средний чек и количество покупок в среднем за период;\n",
    "7. когортный анализ по показателю LTV;\n",
    "8. в части маркетинговых расходов я проанализирую структуру расходов по времени и источникам;\n",
    "9. посчитаю сколько стоило привлечение покупателя по источникам и ROI;\n",
    "10. в конце будут представлены общие выводы и рекомендации по результатам исследования."
   ]
  },

  {
   "cell_type": "markdown",
   "metadata": {},
   "source": [
    "### Шаг 1. Загрузите данные и подготовьте их к анализу\n"
   ]
  },
  {
   "cell_type": "code",
   "execution_count": 1,
   "metadata": {},
   "outputs": [],
   "source": [
    "#Импортируем необходимые библиотеки\n",
    "import pandas as pd\n",
    "import matplotlib.pyplot as plt\n",
    "import numpy as np\n",
    "from scipy import stats as st\n",
    "import seaborn as sns\n",
    "from matplotlib import pyplot as plt"
   ]
  },
  {
   "cell_type": "code",
   "execution_count": 2,
   "metadata": {},
   "outputs": [
    {
     "name": "stdout",
     "output_type": "stream",
     "text": [
      "    Device               End Ts  Source Id             Start Ts  \\\n",
      "0    touch  2017-12-20 17:38:00          4  2017-12-20 17:20:00   \n",
      "1  desktop  2018-02-19 17:21:00          2  2018-02-19 16:53:00   \n",
      "2    touch  2017-07-01 01:54:00          5  2017-07-01 01:54:00   \n",
      "3  desktop  2018-05-20 11:23:00          9  2018-05-20 10:59:00   \n",
      "4  desktop  2017-12-27 14:06:00          3  2017-12-27 14:06:00   \n",
      "\n",
      "                    Uid  \n",
      "0  16879256277535980062  \n",
      "1    104060357244891740  \n",
      "2   7459035603376831527  \n",
      "3  16174680259334210214  \n",
      "4   9969694820036681168  \n",
      "<class 'pandas.core.frame.DataFrame'>\n",
      "RangeIndex: 359400 entries, 0 to 359399\n",
      "Data columns (total 5 columns):\n",
      "Device       359400 non-null object\n",
      "End Ts       359400 non-null object\n",
      "Source Id    359400 non-null int64\n",
      "Start Ts     359400 non-null object\n",
      "Uid          359400 non-null uint64\n",
      "dtypes: int64(1), object(3), uint64(1)\n",
      "memory usage: 13.7+ MB\n"
     ]
    }
   ],
   "source": [
    "visits=pd.read_csv('/datasets/visits_log.csv')\n",
    "print(visits.head(5))\n",
    "visits.info()"
   ]
  },
  {
   "cell_type": "markdown",
   "metadata": {},
   "source": [
    "В таблице visits 5 столбцов и 359400 строк. Пропусков данных и дубликатов нет. На мой взгляд, единственное, что нужно изменить в таблице на текущий момент: поменять формать столбцов Start Ts и End Ts, также добавим столбцы с номером недели и месяцем сессии для дальнейшего анализа, а также посчитаем продолжительность сессии."
   ]
  },
  {
   "cell_type": "code",
   "execution_count": 3,
   "metadata": {},
   "outputs": [
    {
     "name": "stdout",
     "output_type": "stream",
     "text": [
      "<class 'pandas.core.frame.DataFrame'>\n",
      "RangeIndex: 359400 entries, 0 to 359399\n",
      "Data columns (total 9 columns):\n",
      "Device       359400 non-null object\n",
      "End Ts       359400 non-null datetime64[ns]\n",
      "Source Id    359400 non-null int64\n",
      "Start Ts     359400 non-null datetime64[ns]\n",
      "Uid          359400 non-null uint64\n",
      "date         359400 non-null object\n",
      "week         359400 non-null int64\n",
      "month        359400 non-null int64\n",
      "duration     359400 non-null int64\n",
      "dtypes: datetime64[ns](2), int64(4), object(2), uint64(1)\n",
      "memory usage: 24.7+ MB\n"
     ]
    }
   ],
   "source": [
    "visits['End Ts']=pd.to_datetime(visits['End Ts'])\n",
    "visits['Start Ts']=pd.to_datetime(visits['Start Ts'])\n",
    "visits['date']=visits['Start Ts'].dt.date\n",
    "visits['week']=visits['Start Ts'].dt.week\n",
    "visits['month']=visits['Start Ts'].dt.month\n",
    "visits['duration']= (visits['End Ts']-visits['Start Ts']).dt.seconds\n",
    "visits.info()"
   ]
  },
  {
   "cell_type": "markdown",
   "metadata": {},
   "source": [
    "Таблица visits готова к дальнейшему анализу."
   ]
  },
  {
   "cell_type": "code",
   "execution_count": 4,
   "metadata": {},
   "outputs": [
    {
     "name": "stdout",
     "output_type": "stream",
     "text": [
      "                Buy Ts  Revenue                   Uid\n",
      "0  2017-06-01 00:10:00    17.00  10329302124590727494\n",
      "1  2017-06-01 00:25:00     0.55  11627257723692907447\n",
      "2  2017-06-01 00:27:00     0.37  17903680561304213844\n",
      "3  2017-06-01 00:29:00     0.55  16109239769442553005\n",
      "4  2017-06-01 07:58:00     0.37  14200605875248379450\n",
      "<class 'pandas.core.frame.DataFrame'>\n",
      "RangeIndex: 50415 entries, 0 to 50414\n",
      "Data columns (total 3 columns):\n",
      "Buy Ts     50415 non-null object\n",
      "Revenue    50415 non-null float64\n",
      "Uid        50415 non-null uint64\n",
      "dtypes: float64(1), object(1), uint64(1)\n",
      "memory usage: 1.2+ MB\n"
     ]
    }
   ],
   "source": [
    "orders=pd.read_csv('/datasets/orders_log.csv')\n",
    "print(orders.head(5))\n",
    "orders.info()"
   ]
  },
  {
   "cell_type": "markdown",
   "metadata": {},
   "source": [
    "В таблице 3 столбца и 50 415 строк, пропусков и дубликатов нет. Переведем столбец с датой заказа в формат даты."
   ]
  },
  {
   "cell_type": "code",
   "execution_count": 5,
   "metadata": {},
   "outputs": [
    {
     "name": "stdout",
     "output_type": "stream",
     "text": [
      "<class 'pandas.core.frame.DataFrame'>\n",
      "RangeIndex: 50415 entries, 0 to 50414\n",
      "Data columns (total 3 columns):\n",
      "Buy Ts     50415 non-null datetime64[ns]\n",
      "Revenue    50415 non-null float64\n",
      "Uid        50415 non-null uint64\n",
      "dtypes: datetime64[ns](1), float64(1), uint64(1)\n",
      "memory usage: 1.2 MB\n"
     ]
    }
   ],
   "source": [
    "orders['Buy Ts'] = pd.to_datetime(orders['Buy Ts'])\n",
    "orders.info()"
   ]
  },
  {
   "cell_type": "markdown",
   "metadata": {},
   "source": [
    "Таблица orders готова к дальнейшему анализу."
   ]
  },
  {
   "cell_type": "code",
   "execution_count": 6,
   "metadata": {},
   "outputs": [
    {
     "name": "stdout",
     "output_type": "stream",
     "text": [
      "   source_id          dt  costs\n",
      "0          1  2017-06-01  75.20\n",
      "1          1  2017-06-02  62.25\n",
      "2          1  2017-06-03  36.53\n",
      "3          1  2017-06-04  55.00\n",
      "4          1  2017-06-05  57.08\n",
      "<class 'pandas.core.frame.DataFrame'>\n",
      "RangeIndex: 2542 entries, 0 to 2541\n",
      "Data columns (total 3 columns):\n",
      "source_id    2542 non-null int64\n",
      "dt           2542 non-null object\n",
      "costs        2542 non-null float64\n",
      "dtypes: float64(1), int64(1), object(1)\n",
      "memory usage: 59.7+ KB\n"
     ]
    }
   ],
   "source": [
    "costs=pd.read_csv('/datasets/costs.csv')\n",
    "print(costs.head(5))\n",
    "costs.info()"
   ]
  },
  {
   "cell_type": "markdown",
   "metadata": {},
   "source": [
    "В таблице 3 столбца, 2542 строки, дубликатов и пропусков нет. Переведем формат столбца dt в дату."
   ]
  },
  {
   "cell_type": "code",
   "execution_count": 7,
   "metadata": {},
   "outputs": [
    {
     "name": "stdout",
     "output_type": "stream",
     "text": [
      "<class 'pandas.core.frame.DataFrame'>\n",
      "RangeIndex: 2542 entries, 0 to 2541\n",
      "Data columns (total 3 columns):\n",
      "source_id    2542 non-null int64\n",
      "dt           2542 non-null datetime64[ns]\n",
      "costs        2542 non-null float64\n",
      "dtypes: datetime64[ns](1), float64(1), int64(1)\n",
      "memory usage: 59.7 KB\n"
     ]
    }
   ],
   "source": [
    "costs['dt']=pd.to_datetime(costs['dt'])\n",
    "costs.info()"
   ]
  },
  {
   "cell_type": "markdown",
   "metadata": {},
   "source": [
    "Данные были загружены и подготовлены для дальнейшего анализа."
   ]
  },

  {
   "cell_type": "markdown",
   "metadata": {},
   "source": [
    "### Шаг 2.1. Постройте отчеты и посчитайте метрики. Продукт."
   ]
  },
  {
   "cell_type": "code",
   "execution_count": 8,
   "metadata": {},
   "outputs": [
    {
     "name": "stdout",
     "output_type": "stream",
     "text": [
      "Среднее количество уникальных пользователей в день: 907\n",
      "Среднее количество уникальных пользователей в неделю: 5825\n",
      "Среднее количество уникальных пользователей в месяц: 23228\n"
     ]
    }
   ],
   "source": [
    "dau_total = visits.groupby('date').agg({'Uid':'nunique'}).mean()\n",
    "wau_total = visits.groupby('week').agg({'Uid':'nunique'}).mean()\n",
    "mau_total = visits.groupby('month').agg({'Uid':'nunique'}).mean()\n",
    "\n",
    "print('Среднее количество уникальных пользователей в день:',int(dau_total));\n",
    "print(\"Среднее количество уникальных пользователей в неделю:\", int(wau_total));\n",
    "print(\"Среднее количество уникальных пользователей в месяц:\", int(mau_total));"
   ]
  },

  {
   "cell_type": "markdown",
   "metadata": {},
   "source": [
    "Среднее количество уникальных пользователей в день составляет 907, в неделю 5825,23 228 в месяц. Пока на основании этих данных трудно сделать какие-либо выводы, посмотрим другие показатели."
   ]
  },
  {
   "cell_type": "code",
   "execution_count": 9,
   "metadata": {},
   "outputs": [
    {
     "name": "stdout",
     "output_type": "stream",
     "text": [
      "Среднее количество сессий в день: 987\n",
      "Средняя продолжительность сессии: 643\n"
     ]
    },
    {
     "data": {
      "image/png": "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\n",
      "text/plain": [
       "<Figure size 432x288 with 1 Axes>"
      ]
     },
     "metadata": {
      "needs_background": "light"
     },
     "output_type": "display_data"
    }
   ],
   "source": [
    "session_q_daily =visits.groupby('date').agg({'Start Ts':'count'}).mean()\n",
    "\n",
    "print('Среднее количество сессий в день:',int(session_q_daily));\n",
    "print('Средняя продолжительность сессии:', int(visits['duration'].mean()));\n",
    "\n",
    "visits['duration'].hist(bins=30, range = [0,3000]);\n"
   ]
  },
  {
   "cell_type": "code",
   "execution_count": 10,
   "metadata": {},
   "outputs": [
    {
     "name": "stdout",
     "output_type": "stream",
     "text": [
      "Средняя продолжительность сессии: 60\n"
     ]
    }
   ],
   "source": [
    "print('Средняя продолжительность сессии:', int(visits['duration'].mode()));"
   ]
  },
  {
   "cell_type": "markdown",
   "metadata": {},
   "source": [
    "Среднее количество сессий в день составляет 987, это коррелирует с количеством уникальных пользователей в день. Можно предположить, что пользователи не посещают сайт несколько раз в день.\n",
    "Средняя продолжительность сессии составляет 643 секунды, при этом медиана составляет 300 секунд и большая часть наблюдений укладывается в промежуток до 500 секунд.\n",
    "Самая частая в выборке продолжительность сессии - 60 секунд. Этот показатель не очень релевантен для нашего анализа, т.к. у нас слишком маленький промежуток между наблюдениями."
   ]
  },
  {
   "cell_type": "markdown",
   "metadata": {},
   "source": [
    "<div class=\"alert alert-success\">\n",
    "<h2> Комментарий ревьюера</h2>\n",
    "\n",
    "Верно.\n",
    "    \n",
    "В том числе стоило посчитать моду. \n",
    "    \n",
    "</div>"
   ]
  },
  {
   "cell_type": "code",
   "execution_count": 11,
   "metadata": {},
   "outputs": [],
   "source": [
    "#разделим пользователей на когорты по месяцам\n",
    "first_visit_date_list = visits.groupby('Uid')['Start Ts'].min()\n",
    "first_visit_date_list.name = 'first_visit'\n",
    "cohorts_visits = visits.join(first_visit_date_list, on = 'Uid')\n",
    "cohorts_visits['first_visit_month'] = cohorts_visits['first_visit'].astype('datetime64[M]')\n",
    "cohorts_visits['visit_month'] = cohorts_visits['Start Ts'].astype('datetime64[M]')"
   ]
  },
  {
   "cell_type": "code",
   "execution_count": 12,
   "metadata": {},
   "outputs": [],
   "source": [
    "#Посчитаем lifetime по каждой когорте\n",
    "cohorts_visits['lifetime']=cohorts_visits['visit_month'] - cohorts_visits['first_visit_month']\n",
    "cohorts_visits['lifetime'] = cohorts_visits['lifetime']/np.timedelta64(1,'M')\n",
    "cohorts_visits['lifetime']=cohorts_visits['lifetime'].round().astype('int')"
   ]
  },
  {
   "cell_type": "code",
   "execution_count": 13,
   "metadata": {},
   "outputs": [],
   "source": [
    "#Сгруппируем таблицу\n",
    "cohorts_visits = cohorts_visits.groupby(['first_visit_month','lifetime']).agg({'Uid':'nunique'}).reset_index()"
   ]
  },
  {
   "cell_type": "code",
   "execution_count": 14,
   "metadata": {},
   "outputs": [],
   "source": [
    "#найдем количество пользователей в каждой когорте и добавим к рабочей таблице\n",
    "initial_user_visits_count = cohorts_visits[cohorts_visits['lifetime'] == 0][['first_visit_month','Uid']]\n",
    "initial_user_visits_count =initial_user_visits_count.rename(columns={'Uid':'cohort_visit_users'})\n",
    "cohorts_visits = cohorts_visits.merge(initial_user_visits_count, on='first_visit_month')"
   ]
  },
  {
   "cell_type": "code",
   "execution_count": 15,
   "metadata": {},
   "outputs": [],
   "source": [
    "#Посчитаем retention rate, сделаем сводную таблицу и выведем тепловую карту по когортам\n",
    "cohorts_visits['retention']=cohorts_visits['Uid']/cohorts_visits['cohort_visit_users']\n",
    "retention_visits = cohorts_visits.pivot_table(index ='first_visit_month', columns = 'lifetime', values = 'retention', aggfunc = 'sum')"
   ]
  },
  {
   "cell_type": "code",
   "execution_count": 16,
   "metadata": {},
   "outputs": [
    {
     "data": {
      "image/png": "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\n",
      "text/plain": [
       "<Figure size 1080x720 with 2 Axes>"
      ]
     },
     "metadata": {},
     "output_type": "display_data"
    }
   ],
   "source": [
    "sns.set(style='white')\n",
    "plt.figure(figsize=(15, 10))\n",
    "plt.title('Visits: User Retention')\n",
    "sns.heatmap(retention_visits, annot=True, fmt='.1%', linewidths=1, linecolor='gray');"
   ]
  },
  {
   "cell_type": "markdown",
   "metadata": {},
   "source": [
    "Посетители сайта были разделены на когорты по месяцу первого посещения сайта. Самый высокий уровень возврата у первой когорты, спустя год 4,5% пользователей все еще возвращаются на сайт. Для дальнейшего исследования можно было бы проверить билеты на какое событие начали продавать в июне 2017, возможно это какой-то ежегодный фестиваль, соревнование и т.д. или успешная рекламная компания.\n",
    "Для оценки хороший уровень возврата или нет, мне не хватает исторических данных или какого-то среднего уровня по отрасли."
   ]
  },

  {
   "cell_type": "markdown",
   "metadata": {},
   "source": [
    "### Шаг 2.2. Постройте отчеты и посчитайте метрики. Продажи."
   ]
  },
  {
   "cell_type": "code",
   "execution_count": 17,
   "metadata": {},
   "outputs": [
    {
     "name": "stdout",
     "output_type": "stream",
     "text": [
      "count    50415.000000\n",
      "mean       888.885080\n",
      "std       1694.661215\n",
      "min          0.000000\n",
      "25%          0.100000\n",
      "50%          3.433333\n",
      "75%        921.375000\n",
      "max       8744.483333\n",
      "Name: purchasing_period, dtype: float64\n",
      "Медиана распределения времени от первого визита до первой покупки: 3.433333333333333\n"
     ]
    }
   ],
   "source": [
    "#Добавим в таблицу orders данные по первому визиту и посчитаем сколько времени проходит с момента первого посещения до первой покупки\n",
    "orders_data = orders.join(first_visit_date_list, on = 'Uid')\n",
    "orders_data['purchasing_period']=orders_data['Buy Ts']-orders_data['first_visit']\n",
    "orders_data['purchasing_period'] = orders_data['purchasing_period'] /np.timedelta64(1,'h') \n",
    "print(orders_data['purchasing_period'].describe())\n",
    "print(\"Медиана распределения времени от первого визита до первой покупки:\", orders_data['purchasing_period'].median())"
   ]
  },
  {
   "cell_type": "code",
   "execution_count": 18,
   "metadata": {},
   "outputs": [
    {
     "data": {
      "image/png": "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\n",
      "text/plain": [
       "<Figure size 432x288 with 1 Axes>"
      ]
     },
     "metadata": {},
     "output_type": "display_data"
    }
   ],
   "source": [
    "orders_data['purchasing_period'].hist(bins=20, range = [0,5]);"
   ]
  },
  {
   "cell_type": "markdown",
   "metadata": {},
   "source": [
    "Больше половины покупок было совершено в течение 3,5 часов с момента первого посещения, остальные значения растянуты по времени и максимальное составляет ~365 дней.\n",
    "Я бы предположила, что модель поведения людей на сайте Афиша состоит в том, что пользователь заходит на сайт с целью купить билеты на какое-то конкретное событие, а не с целью найти подходящее для себя мероприятие."
   ]
  },
  {
   "cell_type": "code",
   "execution_count": 19,
   "metadata": {},
   "outputs": [
    {
     "data": {
      "text/html": [
       "<div>\n",
       "<style scoped>\n",
       "    .dataframe tbody tr th:only-of-type {\n",
       "        vertical-align: middle;\n",
       "    }\n",
       "\n",
       "    .dataframe tbody tr th {\n",
       "        vertical-align: top;\n",
       "    }\n",
       "\n",
       "    .dataframe thead th {\n",
       "        text-align: right;\n",
       "    }\n",
       "</style>\n",
       "<table border=\"1\" class=\"dataframe\">\n",
       "  <thead>\n",
       "    <tr style=\"text-align: right;\">\n",
       "      <th></th>\n",
       "      <th>Uid</th>\n",
       "    </tr>\n",
       "  </thead>\n",
       "  <tbody>\n",
       "    <tr>\n",
       "      <td>count</td>\n",
       "      <td>53.000000</td>\n",
       "    </tr>\n",
       "    <tr>\n",
       "      <td>mean</td>\n",
       "      <td>951.226415</td>\n",
       "    </tr>\n",
       "    <tr>\n",
       "      <td>std</td>\n",
       "      <td>405.229880</td>\n",
       "    </tr>\n",
       "    <tr>\n",
       "      <td>min</td>\n",
       "      <td>319.000000</td>\n",
       "    </tr>\n",
       "    <tr>\n",
       "      <td>25%</td>\n",
       "      <td>631.000000</td>\n",
       "    </tr>\n",
       "    <tr>\n",
       "      <td>50%</td>\n",
       "      <td>972.000000</td>\n",
       "    </tr>\n",
       "    <tr>\n",
       "      <td>75%</td>\n",
       "      <td>1214.000000</td>\n",
       "    </tr>\n",
       "    <tr>\n",
       "      <td>max</td>\n",
       "      <td>2120.000000</td>\n",
       "    </tr>\n",
       "  </tbody>\n",
       "</table>\n",
       "</div>"
      ],
      "text/plain": [
       "               Uid\n",
       "count    53.000000\n",
       "mean    951.226415\n",
       "std     405.229880\n",
       "min     319.000000\n",
       "25%     631.000000\n",
       "50%     972.000000\n",
       "75%    1214.000000\n",
       "max    2120.000000"
      ]
     },
     "execution_count": 19,
     "metadata": {},
     "output_type": "execute_result"
    }
   ],
   "source": [
    "#Посчитаем среднее количество покупок в неделю\n",
    "orders_data['purchasing_week'] = orders_data['Buy Ts'].astype('datetime64[W]')\n",
    "orders_data_periods = orders_data.pivot_table(index ='purchasing_week', values = 'Uid', aggfunc = 'count')\n",
    "orders_data_periods.describe()"
   ]
  },
  {
   "cell_type": "code",
   "execution_count": 20,
   "metadata": {},
   "outputs": [
    {
     "data": {
      "image/png": "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\n",
      "text/plain": [
       "<Figure size 432x288 with 1 Axes>"
      ]
     },
     "metadata": {},
     "output_type": "display_data"
    }
   ],
   "source": [
    "orders_data_periods.hist();"
   ]
  },
  {
   "cell_type": "markdown",
   "metadata": {},
   "source": [
    "В среднем, в неделю совершается около 1000 покупок. Есть несколько аномальных значений в районе 2000 покупок, возможно, эти отклонения относятся к началу продаж на какие-то крупные/ожидаемые мероприятия."
   ]
  },
  {
   "cell_type": "code",
   "execution_count": 21,
   "metadata": {},
   "outputs": [
    {
     "name": "stdout",
     "output_type": "stream",
     "text": [
      "Средний чек: 5.0\n"
     ]
    }
   ],
   "source": [
    "print(\"Средний чек:\", round(orders_data['Revenue'].mean(),3))"
   ]
  },
 
 
  {
   "cell_type": "code",
   "execution_count": 22,
   "metadata": {},
   "outputs": [
    {
     "data": {
      "text/plain": [
       "count    50415.000000\n",
       "mean         4.999647\n",
       "std         21.818359\n",
       "min          0.000000\n",
       "25%          1.220000\n",
       "50%          2.500000\n",
       "75%          4.890000\n",
       "max       2633.280000\n",
       "Name: Revenue, dtype: float64"
      ]
     },
     "execution_count": 22,
     "metadata": {},
     "output_type": "execute_result"
    }
   ],
   "source": [
    "orders_data['Revenue'].describe()"
   ]
  },
  {
   "cell_type": "markdown",
   "metadata": {},
   "source": [
    "Средний чек составляет 5 у.е, при этом медиана 2,5 у.е. Большая часть наблюдений находится в интервале до 10 у.е."
   ]
  },
  {
   "cell_type": "code",
   "execution_count": 23,
   "metadata": {},
   "outputs": [],
   "source": [
    "#получим первый месяц покупки\n",
    "orders['order_month'] = orders['Buy Ts'].astype('datetime64[M]')\n",
    "first_orders = orders.groupby('Uid').agg({'order_month': 'min'}).reset_index()\n",
    "first_orders.columns = ['Uid', 'first_order_month']"
   ]
  },
  {
   "cell_type": "code",
   "execution_count": 24,
   "metadata": {},
   "outputs": [],
   "source": [
    "#Посчитаем количество новых покупателей за каждый месяц\n",
    "cohort_orders_sizes = first_orders.groupby('first_order_month').agg({'Uid': 'nunique'}).reset_index()\n",
    "cohort_orders_sizes.columns = ['first_order_month', 'n_buyers']"
   ]
  },
  {
   "cell_type": "code",
   "execution_count": 25,
   "metadata": {},
   "outputs": [],
   "source": [
    "#Построим когорты и создадим таблицу заказов по месяцу первой покупки и месяцу каждого заказа и сложим выручку\n",
    "orders_new = pd.merge(orders,first_orders, on='Uid')\n",
    "cohorts_orders = orders_new.groupby(['first_order_month','order_month']).agg({'Revenue': 'sum'}).reset_index()\n",
    "report = pd.merge(cohort_orders_sizes, cohorts_orders, on='first_order_month')\n"
   ]
  },
  {
   "cell_type": "code",
   "execution_count": 26,
   "metadata": {},
   "outputs": [],
   "source": [
    "#Посчитаем срок жизни когорты\n",
    "report['age'] = (report['order_month'] - report['first_order_month']) / np.timedelta64(1, 'M')\n",
    "report['age'] = report['age'].round().astype('int')"
   ]
  },
  {
   "cell_type": "code",
   "execution_count": 27,
   "metadata": {},
   "outputs": [
    {
     "data": {
      "text/html": [
       "<div>\n",
       "<style scoped>\n",
       "    .dataframe tbody tr th:only-of-type {\n",
       "        vertical-align: middle;\n",
       "    }\n",
       "\n",
       "    .dataframe tbody tr th {\n",
       "        vertical-align: top;\n",
       "    }\n",
       "\n",
       "    .dataframe thead th {\n",
       "        text-align: right;\n",
       "    }\n",
       "</style>\n",
       "<table border=\"1\" class=\"dataframe\">\n",
       "  <thead>\n",
       "    <tr style=\"text-align: right;\">\n",
       "      <th>age</th>\n",
       "      <th>0</th>\n",
       "      <th>1</th>\n",
       "      <th>2</th>\n",
       "      <th>3</th>\n",
       "      <th>4</th>\n",
       "      <th>5</th>\n",
       "      <th>6</th>\n",
       "      <th>7</th>\n",
       "      <th>8</th>\n",
       "      <th>9</th>\n",
       "      <th>10</th>\n",
       "      <th>11</th>\n",
       "    </tr>\n",
       "    <tr>\n",
       "      <th>first_order_month</th>\n",
       "      <th></th>\n",
       "      <th></th>\n",
       "      <th></th>\n",
       "      <th></th>\n",
       "      <th></th>\n",
       "      <th></th>\n",
       "      <th></th>\n",
       "      <th></th>\n",
       "      <th></th>\n",
       "      <th></th>\n",
       "      <th></th>\n",
       "      <th></th>\n",
       "    </tr>\n",
       "  </thead>\n",
       "  <tbody>\n",
       "    <tr>\n",
       "      <td>2017-06-01</td>\n",
       "      <td>4.72</td>\n",
       "      <td>0.49</td>\n",
       "      <td>0.44</td>\n",
       "      <td>0.95</td>\n",
       "      <td>1.02</td>\n",
       "      <td>0.74</td>\n",
       "      <td>0.95</td>\n",
       "      <td>0.58</td>\n",
       "      <td>0.55</td>\n",
       "      <td>0.61</td>\n",
       "      <td>0.57</td>\n",
       "      <td>0.26</td>\n",
       "    </tr>\n",
       "    <tr>\n",
       "      <td>2017-07-01</td>\n",
       "      <td>6.01</td>\n",
       "      <td>0.34</td>\n",
       "      <td>0.62</td>\n",
       "      <td>0.36</td>\n",
       "      <td>0.18</td>\n",
       "      <td>0.16</td>\n",
       "      <td>0.12</td>\n",
       "      <td>0.14</td>\n",
       "      <td>0.16</td>\n",
       "      <td>0.15</td>\n",
       "      <td>0.16</td>\n",
       "      <td></td>\n",
       "    </tr>\n",
       "    <tr>\n",
       "      <td>2017-08-01</td>\n",
       "      <td>5.28</td>\n",
       "      <td>0.47</td>\n",
       "      <td>0.46</td>\n",
       "      <td>0.39</td>\n",
       "      <td>0.49</td>\n",
       "      <td>0.28</td>\n",
       "      <td>0.21</td>\n",
       "      <td>0.41</td>\n",
       "      <td>0.29</td>\n",
       "      <td>0.19</td>\n",
       "      <td></td>\n",
       "      <td></td>\n",
       "    </tr>\n",
       "    <tr>\n",
       "      <td>2017-09-01</td>\n",
       "      <td>5.64</td>\n",
       "      <td>1.12</td>\n",
       "      <td>0.52</td>\n",
       "      <td>3.98</td>\n",
       "      <td>0.4</td>\n",
       "      <td>0.65</td>\n",
       "      <td>0.7</td>\n",
       "      <td>0.24</td>\n",
       "      <td>0.18</td>\n",
       "      <td></td>\n",
       "      <td></td>\n",
       "      <td></td>\n",
       "    </tr>\n",
       "    <tr>\n",
       "      <td>2017-10-01</td>\n",
       "      <td>5.00</td>\n",
       "      <td>0.54</td>\n",
       "      <td>0.19</td>\n",
       "      <td>0.16</td>\n",
       "      <td>0.15</td>\n",
       "      <td>0.12</td>\n",
       "      <td>0.08</td>\n",
       "      <td>0.12</td>\n",
       "      <td></td>\n",
       "      <td></td>\n",
       "      <td></td>\n",
       "      <td></td>\n",
       "    </tr>\n",
       "    <tr>\n",
       "      <td>2017-11-01</td>\n",
       "      <td>5.15</td>\n",
       "      <td>0.4</td>\n",
       "      <td>0.2</td>\n",
       "      <td>0.32</td>\n",
       "      <td>0.15</td>\n",
       "      <td>0.05</td>\n",
       "      <td>0.11</td>\n",
       "      <td></td>\n",
       "      <td></td>\n",
       "      <td></td>\n",
       "      <td></td>\n",
       "      <td></td>\n",
       "    </tr>\n",
       "    <tr>\n",
       "      <td>2017-12-01</td>\n",
       "      <td>4.74</td>\n",
       "      <td>0.26</td>\n",
       "      <td>0.93</td>\n",
       "      <td>1.07</td>\n",
       "      <td>0.31</td>\n",
       "      <td>0.34</td>\n",
       "      <td></td>\n",
       "      <td></td>\n",
       "      <td></td>\n",
       "      <td></td>\n",
       "      <td></td>\n",
       "      <td></td>\n",
       "    </tr>\n",
       "    <tr>\n",
       "      <td>2018-01-01</td>\n",
       "      <td>4.14</td>\n",
       "      <td>0.29</td>\n",
       "      <td>0.3</td>\n",
       "      <td>0.14</td>\n",
       "      <td>0.06</td>\n",
       "      <td></td>\n",
       "      <td></td>\n",
       "      <td></td>\n",
       "      <td></td>\n",
       "      <td></td>\n",
       "      <td></td>\n",
       "      <td></td>\n",
       "    </tr>\n",
       "    <tr>\n",
       "      <td>2018-02-01</td>\n",
       "      <td>4.16</td>\n",
       "      <td>0.28</td>\n",
       "      <td>0.08</td>\n",
       "      <td>0.07</td>\n",
       "      <td></td>\n",
       "      <td></td>\n",
       "      <td></td>\n",
       "      <td></td>\n",
       "      <td></td>\n",
       "      <td></td>\n",
       "      <td></td>\n",
       "      <td></td>\n",
       "    </tr>\n",
       "    <tr>\n",
       "      <td>2018-03-01</td>\n",
       "      <td>4.84</td>\n",
       "      <td>0.3</td>\n",
       "      <td>0.32</td>\n",
       "      <td></td>\n",
       "      <td></td>\n",
       "      <td></td>\n",
       "      <td></td>\n",
       "      <td></td>\n",
       "      <td></td>\n",
       "      <td></td>\n",
       "      <td></td>\n",
       "      <td></td>\n",
       "    </tr>\n",
       "    <tr>\n",
       "      <td>2018-04-01</td>\n",
       "      <td>4.66</td>\n",
       "      <td>0.53</td>\n",
       "      <td></td>\n",
       "      <td></td>\n",
       "      <td></td>\n",
       "      <td></td>\n",
       "      <td></td>\n",
       "      <td></td>\n",
       "      <td></td>\n",
       "      <td></td>\n",
       "      <td></td>\n",
       "      <td></td>\n",
       "    </tr>\n",
       "    <tr>\n",
       "      <td>2018-05-01</td>\n",
       "      <td>4.66</td>\n",
       "      <td></td>\n",
       "      <td></td>\n",
       "      <td></td>\n",
       "      <td></td>\n",
       "      <td></td>\n",
       "      <td></td>\n",
       "      <td></td>\n",
       "      <td></td>\n",
       "      <td></td>\n",
       "      <td></td>\n",
       "      <td></td>\n",
       "    </tr>\n",
       "    <tr>\n",
       "      <td>2018-06-01</td>\n",
       "      <td>3.42</td>\n",
       "      <td></td>\n",
       "      <td></td>\n",
       "      <td></td>\n",
       "      <td></td>\n",
       "      <td></td>\n",
       "      <td></td>\n",
       "      <td></td>\n",
       "      <td></td>\n",
       "      <td></td>\n",
       "      <td></td>\n",
       "      <td></td>\n",
       "    </tr>\n",
       "  </tbody>\n",
       "</table>\n",
       "</div>"
      ],
      "text/plain": [
       "age                  0     1     2     3     4     5     6     7     8     9   \\\n",
       "first_order_month                                                               \n",
       "2017-06-01         4.72  0.49  0.44  0.95  1.02  0.74  0.95  0.58  0.55  0.61   \n",
       "2017-07-01         6.01  0.34  0.62  0.36  0.18  0.16  0.12  0.14  0.16  0.15   \n",
       "2017-08-01         5.28  0.47  0.46  0.39  0.49  0.28  0.21  0.41  0.29  0.19   \n",
       "2017-09-01         5.64  1.12  0.52  3.98   0.4  0.65   0.7  0.24  0.18         \n",
       "2017-10-01         5.00  0.54  0.19  0.16  0.15  0.12  0.08  0.12               \n",
       "2017-11-01         5.15   0.4   0.2  0.32  0.15  0.05  0.11                     \n",
       "2017-12-01         4.74  0.26  0.93  1.07  0.31  0.34                           \n",
       "2018-01-01         4.14  0.29   0.3  0.14  0.06                                 \n",
       "2018-02-01         4.16  0.28  0.08  0.07                                       \n",
       "2018-03-01         4.84   0.3  0.32                                             \n",
       "2018-04-01         4.66  0.53                                                   \n",
       "2018-05-01         4.66                                                         \n",
       "2018-06-01         3.42                                                         \n",
       "\n",
       "age                  10    11  \n",
       "first_order_month              \n",
       "2017-06-01         0.57  0.26  \n",
       "2017-07-01         0.16        \n",
       "2017-08-01                     \n",
       "2017-09-01                     \n",
       "2017-10-01                     \n",
       "2017-11-01                     \n",
       "2017-12-01                     \n",
       "2018-01-01                     \n",
       "2018-02-01                     \n",
       "2018-03-01                     \n",
       "2018-04-01                     \n",
       "2018-05-01                     \n",
       "2018-06-01                     "
      ]
     },
     "execution_count": 27,
     "metadata": {},
     "output_type": "execute_result"
    }
   ],
   "source": [
    "#Посчитаем средний чек по месяцам по каждой когорте\n",
    "report['ltv'] = report['Revenue'] / report['n_buyers']\n",
    "    \n",
    "output = report.pivot_table(\n",
    "        index='first_order_month', \n",
    "        columns='age', \n",
    "        values='ltv', \n",
    "        aggfunc='mean').round(2)\n",
    "    \n",
    "output.fillna('') \n"
   ]
  },
  {
   "cell_type": "code",
   "execution_count": 28,
   "metadata": {},
   "outputs": [
    {
     "name": "stdout",
     "output_type": "stream",
     "text": [
      "first_order_month\n",
      "2017-06-01    11.88\n",
      "2017-07-01     8.40\n",
      "2017-08-01     8.47\n",
      "2017-09-01    13.43\n",
      "2017-10-01     6.36\n",
      "2017-11-01     6.38\n",
      "2017-12-01     7.65\n",
      "2018-01-01     4.93\n",
      "2018-02-01     4.59\n",
      "2018-03-01     5.46\n",
      "2018-04-01     5.19\n",
      "2018-05-01     4.66\n",
      "2018-06-01     3.42\n",
      "dtype: float64\n"
     ]
    }
   ],
   "source": [
    "#Посчитаем сумму LTV по каждой когорте\n",
    "output_sum=output.sum(axis=1)\n",
    "print(output_sum)"
   ]
  },
  {
   "cell_type": "code",
   "execution_count": 29,
   "metadata": {},
   "outputs": [
    {
     "name": "stdout",
     "output_type": "stream",
     "text": [
      "age\n",
      "0     4.80\n",
      "1     0.46\n",
      "2     0.41\n",
      "3     0.83\n",
      "4     0.34\n",
      "5     0.33\n",
      "6     0.36\n",
      "7     0.30\n",
      "8     0.30\n",
      "9     0.32\n",
      "10    0.36\n",
      "11    0.26\n",
      "dtype: float64\n",
      "LTV на 6-й месяц: 7.17\n"
     ]
    }
   ],
   "source": [
    "#Посчитаем сумму LTV по каждой когорте\n",
    "output_mean=output.mean(axis=0)\n",
    "print(round(output_mean,2))\n",
    "\n",
    "ltv_6 = output_mean.loc[0:5].sum()\n",
    "print(\"LTV на 6-й месяц:\", round(ltv_6,2))"
   ]
  },
  {
   "cell_type": "markdown",
   "metadata": {},
   "source": [
    "Самый большой LTV у когорты 2017-06-01 и 2017-09-01. При этом мы видим, что в первый месяц идет наибольший объем выручки, который в последующие месяцы гораздо ниже. Возможно предположить 2 варианта, почему средний объем дохода по когорте снижается: уменьшается средний чек покупки или покупка совершается не каждый месяц и соответственно покупки пользователей определенной когорты распределяются по последующим месяцам.\n",
    "\n",
    "В среднем, за полгода пользователь приносит 7 у.е. дохода. Интересно также было бы углубиться в анализ когорты 2017-09-01, так как ее динамика нетипична."
   ]
  },
 
  {
   "cell_type": "markdown",
   "metadata": {},
   "source": [
    "### Шаг 2.3. Постройте отчеты и посчитайте метрики. Маркетинг."
   ]
  },
  {
   "cell_type": "code",
   "execution_count": 30,
   "metadata": {
    "scrolled": false
   },
   "outputs": [
    {
     "name": "stdout",
     "output_type": "stream",
     "text": [
      "               costs\n",
      "source_id           \n",
      "1           20833.27\n",
      "2           42806.04\n",
      "3          141321.63\n",
      "4           61073.60\n",
      "5           51757.10\n",
      "9            5517.49\n",
      "10           5822.49\n",
      "Всего траты на привлечение клиентов: costs    329131.62\n",
      "dtype: float64\n"
     ]
    },
    {
     "name": "stderr",
     "output_type": "stream",
     "text": [
      "/opt/conda/lib/python3.7/site-packages/ipykernel_launcher.py:13: MatplotlibDeprecationWarning: Non-1D inputs to pie() are currently squeeze()d, but this behavior is deprecated since 3.1 and will be removed in 3.3; pass a 1D array instead.\n",
      "  del sys.path[0]\n"
     ]
    },
    {
     "data": {
      "image/png": "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\n",
      "text/plain": [
       "<Figure size 1440x720 with 1 Axes>"
      ]
     },
     "metadata": {},
     "output_type": "display_data"
    }
   ],
   "source": [
    "costs['month'] = costs['dt'].astype('datetime64[M]')\n",
    "costs_source_pivot = costs.pivot_table(index = 'source_id', values = 'costs', aggfunc = 'sum')\n",
    "print(costs_source_pivot)\n",
    "print('Всего траты на привлечение клиентов:',costs_source_pivot.sum())\n",
    "\n",
    "source_labels = costs_source_pivot.index\n",
    "source_counts = costs_source_pivot\n",
    "\n",
    "\n",
    "plt.figure(1, figsize=(20,10))\n",
    "cmap = plt.get_cmap('Spectral')\n",
    "colors = [cmap(i) for i in np.linspace(0, 1, 8)]\n",
    "source_pie = plt.pie(source_counts, labels=source_labels, autopct='%1.1f%%', shadow=True, colors=colors)\n",
    "plt.suptitle('Структура трат по источникам', fontsize=16)\n",
    "plt.show();"
   ]
  },
 
  {
   "cell_type": "code",
   "execution_count": 31,
   "metadata": {},
   "outputs": [
    {
     "data": {
      "text/html": [
       "<div>\n",
       "<style scoped>\n",
       "    .dataframe tbody tr th:only-of-type {\n",
       "        vertical-align: middle;\n",
       "    }\n",
       "\n",
       "    .dataframe tbody tr th {\n",
       "        vertical-align: top;\n",
       "    }\n",
       "\n",
       "    .dataframe thead th {\n",
       "        text-align: right;\n",
       "    }\n",
       "</style>\n",
       "<table border=\"1\" class=\"dataframe\">\n",
       "  <thead>\n",
       "    <tr style=\"text-align: right;\">\n",
       "      <th>month</th>\n",
       "      <th>2017-06-01</th>\n",
       "      <th>2017-07-01</th>\n",
       "      <th>2017-08-01</th>\n",
       "      <th>2017-09-01</th>\n",
       "      <th>2017-10-01</th>\n",
       "      <th>2017-11-01</th>\n",
       "      <th>2017-12-01</th>\n",
       "      <th>2018-01-01</th>\n",
       "      <th>2018-02-01</th>\n",
       "      <th>2018-03-01</th>\n",
       "      <th>2018-04-01</th>\n",
       "      <th>2018-05-01</th>\n",
       "    </tr>\n",
       "    <tr>\n",
       "      <th>source_id</th>\n",
       "      <th></th>\n",
       "      <th></th>\n",
       "      <th></th>\n",
       "      <th></th>\n",
       "      <th></th>\n",
       "      <th></th>\n",
       "      <th></th>\n",
       "      <th></th>\n",
       "      <th></th>\n",
       "      <th></th>\n",
       "      <th></th>\n",
       "      <th></th>\n",
       "    </tr>\n",
       "  </thead>\n",
       "  <tbody>\n",
       "    <tr>\n",
       "      <td>1</td>\n",
       "      <td>1125.61</td>\n",
       "      <td>1072.88</td>\n",
       "      <td>951.81</td>\n",
       "      <td>1502.01</td>\n",
       "      <td>2315.75</td>\n",
       "      <td>2445.16</td>\n",
       "      <td>2341.20</td>\n",
       "      <td>2186.18</td>\n",
       "      <td>2204.48</td>\n",
       "      <td>1893.09</td>\n",
       "      <td>1327.49</td>\n",
       "      <td>1467.61</td>\n",
       "    </tr>\n",
       "    <tr>\n",
       "      <td>2</td>\n",
       "      <td>2427.38</td>\n",
       "      <td>2333.11</td>\n",
       "      <td>1811.05</td>\n",
       "      <td>2985.66</td>\n",
       "      <td>4845.00</td>\n",
       "      <td>5247.68</td>\n",
       "      <td>4897.80</td>\n",
       "      <td>4157.74</td>\n",
       "      <td>4474.34</td>\n",
       "      <td>3943.14</td>\n",
       "      <td>2993.70</td>\n",
       "      <td>2689.44</td>\n",
       "    </tr>\n",
       "    <tr>\n",
       "      <td>3</td>\n",
       "      <td>7731.65</td>\n",
       "      <td>7674.37</td>\n",
       "      <td>6143.54</td>\n",
       "      <td>9963.55</td>\n",
       "      <td>15737.24</td>\n",
       "      <td>17025.34</td>\n",
       "      <td>16219.52</td>\n",
       "      <td>14808.78</td>\n",
       "      <td>14228.56</td>\n",
       "      <td>13080.85</td>\n",
       "      <td>9296.81</td>\n",
       "      <td>9411.42</td>\n",
       "    </tr>\n",
       "    <tr>\n",
       "      <td>4</td>\n",
       "      <td>3514.80</td>\n",
       "      <td>3529.73</td>\n",
       "      <td>3217.36</td>\n",
       "      <td>5192.26</td>\n",
       "      <td>6420.84</td>\n",
       "      <td>5388.82</td>\n",
       "      <td>7680.47</td>\n",
       "      <td>5832.79</td>\n",
       "      <td>5711.96</td>\n",
       "      <td>5961.87</td>\n",
       "      <td>4408.49</td>\n",
       "      <td>4214.21</td>\n",
       "    </tr>\n",
       "    <tr>\n",
       "      <td>5</td>\n",
       "      <td>2616.12</td>\n",
       "      <td>2998.14</td>\n",
       "      <td>2185.28</td>\n",
       "      <td>3849.14</td>\n",
       "      <td>5767.40</td>\n",
       "      <td>6325.34</td>\n",
       "      <td>5872.52</td>\n",
       "      <td>5371.52</td>\n",
       "      <td>5071.31</td>\n",
       "      <td>4529.62</td>\n",
       "      <td>3501.15</td>\n",
       "      <td>3669.56</td>\n",
       "    </tr>\n",
       "    <tr>\n",
       "      <td>9</td>\n",
       "      <td>285.22</td>\n",
       "      <td>302.54</td>\n",
       "      <td>248.93</td>\n",
       "      <td>415.62</td>\n",
       "      <td>609.41</td>\n",
       "      <td>683.18</td>\n",
       "      <td>657.98</td>\n",
       "      <td>547.16</td>\n",
       "      <td>551.50</td>\n",
       "      <td>480.29</td>\n",
       "      <td>373.49</td>\n",
       "      <td>362.17</td>\n",
       "    </tr>\n",
       "    <tr>\n",
       "      <td>10</td>\n",
       "      <td>314.22</td>\n",
       "      <td>329.82</td>\n",
       "      <td>232.57</td>\n",
       "      <td>460.67</td>\n",
       "      <td>627.24</td>\n",
       "      <td>792.36</td>\n",
       "      <td>645.86</td>\n",
       "      <td>614.35</td>\n",
       "      <td>480.88</td>\n",
       "      <td>526.41</td>\n",
       "      <td>388.25</td>\n",
       "      <td>409.86</td>\n",
       "    </tr>\n",
       "  </tbody>\n",
       "</table>\n",
       "</div>"
      ],
      "text/plain": [
       "month      2017-06-01  2017-07-01  2017-08-01  2017-09-01  2017-10-01  \\\n",
       "source_id                                                               \n",
       "1             1125.61     1072.88      951.81     1502.01     2315.75   \n",
       "2             2427.38     2333.11     1811.05     2985.66     4845.00   \n",
       "3             7731.65     7674.37     6143.54     9963.55    15737.24   \n",
       "4             3514.80     3529.73     3217.36     5192.26     6420.84   \n",
       "5             2616.12     2998.14     2185.28     3849.14     5767.40   \n",
       "9              285.22      302.54      248.93      415.62      609.41   \n",
       "10             314.22      329.82      232.57      460.67      627.24   \n",
       "\n",
       "month      2017-11-01  2017-12-01  2018-01-01  2018-02-01  2018-03-01  \\\n",
       "source_id                                                               \n",
       "1             2445.16     2341.20     2186.18     2204.48     1893.09   \n",
       "2             5247.68     4897.80     4157.74     4474.34     3943.14   \n",
       "3            17025.34    16219.52    14808.78    14228.56    13080.85   \n",
       "4             5388.82     7680.47     5832.79     5711.96     5961.87   \n",
       "5             6325.34     5872.52     5371.52     5071.31     4529.62   \n",
       "9              683.18      657.98      547.16      551.50      480.29   \n",
       "10             792.36      645.86      614.35      480.88      526.41   \n",
       "\n",
       "month      2018-04-01  2018-05-01  \n",
       "source_id                          \n",
       "1             1327.49     1467.61  \n",
       "2             2993.70     2689.44  \n",
       "3             9296.81     9411.42  \n",
       "4             4408.49     4214.21  \n",
       "5             3501.15     3669.56  \n",
       "9              373.49      362.17  \n",
       "10             388.25      409.86  "
      ]
     },
     "execution_count": 31,
     "metadata": {},
     "output_type": "execute_result"
    }
   ],
   "source": [
    "output = costs.pivot_table(\n",
    "        index='source_id', \n",
    "        columns='month', \n",
    "        values='costs', \n",
    "        aggfunc='sum')\n",
    "output.fillna('') "
   ]
  },
  {
   "cell_type": "markdown",
   "metadata": {},
   "source": [
    "Всего было потрачено 329 тыс. у.е., из них самые существенные траты были на источник 3, порядка 43% от итоговой суммы.Также, в целом на основные источники (3,4,5) затраты имеют схожий тренд по росту и снижению. Было бы интересно посмотреть на расшифровку этих источников, чтобы лучше понять картину."
   ]
  },
  {
   "cell_type": "code",
   "execution_count": 32,
   "metadata": {},
   "outputs": [
    {
     "name": "stdout",
     "output_type": "stream",
     "text": [
      "               costs\n",
      "month               \n",
      "2017-06-01  18015.00\n",
      "2017-07-01  18240.59\n",
      "2017-08-01  14790.54\n",
      "2017-09-01  24368.91\n",
      "2017-10-01  36322.88\n",
      "2017-11-01  37907.88\n",
      "2017-12-01  38315.35\n",
      "2018-01-01  33518.52\n",
      "2018-02-01  32723.03\n",
      "2018-03-01  30415.27\n",
      "2018-04-01  22289.38\n",
      "2018-05-01  22224.27\n",
      "Средние траты в месяц: costs    27427.635\n",
      "dtype: float64\n"
     ]
    }
   ],
   "source": [
    "costs_monthly = costs.pivot_table(index = 'month', values = 'costs', aggfunc = 'sum')\n",
    "print(costs_monthly)\n",
    "\n",
    "print(\"Средние траты в месяц:\", costs_monthly.mean())"
   ]
  },
  {
   "cell_type": "markdown",
   "metadata": {},
   "source": [
    "Минимальные траты были в первом месяце выборки (июнь 2017), максимальные в декабре 2017. Среднее в месяц 27 428 у.е. \n",
    "Интересно было бы узнать, с чем связаны эти изменения: сезонные отклонения или особые рекламные компании."
   ]
  },
  {
   "cell_type": "code",
   "execution_count": 33,
   "metadata": {},
   "outputs": [
    {
     "name": "stdout",
     "output_type": "stream",
     "text": [
      "                         cac\n",
      "first_order_month           \n",
      "2017-06-01          8.905091\n",
      "2017-07-01          9.485486\n",
      "2017-08-01         10.796015\n",
      "2017-09-01          9.441654\n",
      "2017-10-01          8.369327\n",
      "2017-11-01          9.288870\n",
      "2017-12-01          8.741809\n",
      "2018-01-01          9.937302\n",
      "2018-02-01          8.962758\n",
      "2018-03-01          8.608907\n",
      "2018-04-01          9.793225\n",
      "2018-05-01          7.437841\n"
     ]
    }
   ],
   "source": [
    "report_new = pd.merge(report, costs_monthly, left_on='first_order_month', right_on='month')\n",
    "report_new['cac'] = report_new['costs'] / report_new['n_buyers']\n",
    "\n",
    "print(report_new.pivot_table(index = 'first_order_month', values = 'cac', aggfunc = 'mean'))"
   ]
  },
  {
   "cell_type": "markdown",
   "metadata": {},
   "source": [
    "Самая большая стоимость привлечения клиента была у когорты августа, при этом минимальная - у когорты мая. При этом общие затраты на маркетинг имеют другую динамику. Возможно, стоит углубиться и посмотреть как меняется в течение времени структура трат по источникам или детальнеее проанализировать как ведут себя те или иные группы пользователей."
   ]
  },
 
  {
   "cell_type": "code",
   "execution_count": 34,
   "metadata": {},
   "outputs": [
    {
     "data": {
      "text/html": [
       "<div>\n",
       "<style scoped>\n",
       "    .dataframe tbody tr th:only-of-type {\n",
       "        vertical-align: middle;\n",
       "    }\n",
       "\n",
       "    .dataframe tbody tr th {\n",
       "        vertical-align: top;\n",
       "    }\n",
       "\n",
       "    .dataframe thead th {\n",
       "        text-align: right;\n",
       "    }\n",
       "</style>\n",
       "<table border=\"1\" class=\"dataframe\">\n",
       "  <thead>\n",
       "    <tr style=\"text-align: right;\">\n",
       "      <th>age</th>\n",
       "      <th>0</th>\n",
       "      <th>1</th>\n",
       "      <th>2</th>\n",
       "      <th>3</th>\n",
       "      <th>4</th>\n",
       "      <th>5</th>\n",
       "      <th>6</th>\n",
       "      <th>7</th>\n",
       "      <th>8</th>\n",
       "      <th>9</th>\n",
       "      <th>10</th>\n",
       "      <th>11</th>\n",
       "    </tr>\n",
       "    <tr>\n",
       "      <th>first_order_month</th>\n",
       "      <th></th>\n",
       "      <th></th>\n",
       "      <th></th>\n",
       "      <th></th>\n",
       "      <th></th>\n",
       "      <th></th>\n",
       "      <th></th>\n",
       "      <th></th>\n",
       "      <th></th>\n",
       "      <th></th>\n",
       "      <th></th>\n",
       "      <th></th>\n",
       "    </tr>\n",
       "  </thead>\n",
       "  <tbody>\n",
       "    <tr>\n",
       "      <td>2017-06-01</td>\n",
       "      <td>0.53</td>\n",
       "      <td>0.59</td>\n",
       "      <td>0.63</td>\n",
       "      <td>0.74</td>\n",
       "      <td>0.86</td>\n",
       "      <td>0.94</td>\n",
       "      <td>1.05</td>\n",
       "      <td>1.11</td>\n",
       "      <td>1.17</td>\n",
       "      <td>1.24</td>\n",
       "      <td>1.31</td>\n",
       "      <td>1.33</td>\n",
       "    </tr>\n",
       "    <tr>\n",
       "      <td>2017-07-01</td>\n",
       "      <td>0.63</td>\n",
       "      <td>0.67</td>\n",
       "      <td>0.73</td>\n",
       "      <td>0.77</td>\n",
       "      <td>0.79</td>\n",
       "      <td>0.81</td>\n",
       "      <td>0.82</td>\n",
       "      <td>0.84</td>\n",
       "      <td>0.85</td>\n",
       "      <td>0.87</td>\n",
       "      <td>0.88</td>\n",
       "      <td>NaN</td>\n",
       "    </tr>\n",
       "    <tr>\n",
       "      <td>2017-08-01</td>\n",
       "      <td>0.49</td>\n",
       "      <td>0.53</td>\n",
       "      <td>0.57</td>\n",
       "      <td>0.61</td>\n",
       "      <td>0.66</td>\n",
       "      <td>0.68</td>\n",
       "      <td>0.70</td>\n",
       "      <td>0.74</td>\n",
       "      <td>0.77</td>\n",
       "      <td>0.78</td>\n",
       "      <td>NaN</td>\n",
       "      <td>NaN</td>\n",
       "    </tr>\n",
       "    <tr>\n",
       "      <td>2017-09-01</td>\n",
       "      <td>0.60</td>\n",
       "      <td>0.72</td>\n",
       "      <td>0.77</td>\n",
       "      <td>1.19</td>\n",
       "      <td>1.23</td>\n",
       "      <td>1.30</td>\n",
       "      <td>1.38</td>\n",
       "      <td>1.40</td>\n",
       "      <td>1.42</td>\n",
       "      <td>NaN</td>\n",
       "      <td>NaN</td>\n",
       "      <td>NaN</td>\n",
       "    </tr>\n",
       "    <tr>\n",
       "      <td>2017-10-01</td>\n",
       "      <td>0.60</td>\n",
       "      <td>0.66</td>\n",
       "      <td>0.68</td>\n",
       "      <td>0.70</td>\n",
       "      <td>0.72</td>\n",
       "      <td>0.74</td>\n",
       "      <td>0.75</td>\n",
       "      <td>0.76</td>\n",
       "      <td>NaN</td>\n",
       "      <td>NaN</td>\n",
       "      <td>NaN</td>\n",
       "      <td>NaN</td>\n",
       "    </tr>\n",
       "    <tr>\n",
       "      <td>2017-11-01</td>\n",
       "      <td>0.55</td>\n",
       "      <td>0.60</td>\n",
       "      <td>0.62</td>\n",
       "      <td>0.65</td>\n",
       "      <td>0.67</td>\n",
       "      <td>0.68</td>\n",
       "      <td>0.69</td>\n",
       "      <td>NaN</td>\n",
       "      <td>NaN</td>\n",
       "      <td>NaN</td>\n",
       "      <td>NaN</td>\n",
       "      <td>NaN</td>\n",
       "    </tr>\n",
       "    <tr>\n",
       "      <td>2017-12-01</td>\n",
       "      <td>0.54</td>\n",
       "      <td>0.57</td>\n",
       "      <td>0.68</td>\n",
       "      <td>0.80</td>\n",
       "      <td>0.84</td>\n",
       "      <td>0.87</td>\n",
       "      <td>NaN</td>\n",
       "      <td>NaN</td>\n",
       "      <td>NaN</td>\n",
       "      <td>NaN</td>\n",
       "      <td>NaN</td>\n",
       "      <td>NaN</td>\n",
       "    </tr>\n",
       "    <tr>\n",
       "      <td>2018-01-01</td>\n",
       "      <td>0.42</td>\n",
       "      <td>0.45</td>\n",
       "      <td>0.48</td>\n",
       "      <td>0.49</td>\n",
       "      <td>0.50</td>\n",
       "      <td>NaN</td>\n",
       "      <td>NaN</td>\n",
       "      <td>NaN</td>\n",
       "      <td>NaN</td>\n",
       "      <td>NaN</td>\n",
       "      <td>NaN</td>\n",
       "      <td>NaN</td>\n",
       "    </tr>\n",
       "    <tr>\n",
       "      <td>2018-02-01</td>\n",
       "      <td>0.46</td>\n",
       "      <td>0.49</td>\n",
       "      <td>0.50</td>\n",
       "      <td>0.51</td>\n",
       "      <td>NaN</td>\n",
       "      <td>NaN</td>\n",
       "      <td>NaN</td>\n",
       "      <td>NaN</td>\n",
       "      <td>NaN</td>\n",
       "      <td>NaN</td>\n",
       "      <td>NaN</td>\n",
       "      <td>NaN</td>\n",
       "    </tr>\n",
       "    <tr>\n",
       "      <td>2018-03-01</td>\n",
       "      <td>0.56</td>\n",
       "      <td>0.60</td>\n",
       "      <td>0.63</td>\n",
       "      <td>NaN</td>\n",
       "      <td>NaN</td>\n",
       "      <td>NaN</td>\n",
       "      <td>NaN</td>\n",
       "      <td>NaN</td>\n",
       "      <td>NaN</td>\n",
       "      <td>NaN</td>\n",
       "      <td>NaN</td>\n",
       "      <td>NaN</td>\n",
       "    </tr>\n",
       "    <tr>\n",
       "      <td>2018-04-01</td>\n",
       "      <td>0.48</td>\n",
       "      <td>0.53</td>\n",
       "      <td>NaN</td>\n",
       "      <td>NaN</td>\n",
       "      <td>NaN</td>\n",
       "      <td>NaN</td>\n",
       "      <td>NaN</td>\n",
       "      <td>NaN</td>\n",
       "      <td>NaN</td>\n",
       "      <td>NaN</td>\n",
       "      <td>NaN</td>\n",
       "      <td>NaN</td>\n",
       "    </tr>\n",
       "    <tr>\n",
       "      <td>2018-05-01</td>\n",
       "      <td>0.63</td>\n",
       "      <td>NaN</td>\n",
       "      <td>NaN</td>\n",
       "      <td>NaN</td>\n",
       "      <td>NaN</td>\n",
       "      <td>NaN</td>\n",
       "      <td>NaN</td>\n",
       "      <td>NaN</td>\n",
       "      <td>NaN</td>\n",
       "      <td>NaN</td>\n",
       "      <td>NaN</td>\n",
       "      <td>NaN</td>\n",
       "    </tr>\n",
       "  </tbody>\n",
       "</table>\n",
       "</div>"
      ],
      "text/plain": [
       "age                  0     1     2     3     4     5     6     7     8     9   \\\n",
       "first_order_month                                                               \n",
       "2017-06-01         0.53  0.59  0.63  0.74  0.86  0.94  1.05  1.11  1.17  1.24   \n",
       "2017-07-01         0.63  0.67  0.73  0.77  0.79  0.81  0.82  0.84  0.85  0.87   \n",
       "2017-08-01         0.49  0.53  0.57  0.61  0.66  0.68  0.70  0.74  0.77  0.78   \n",
       "2017-09-01         0.60  0.72  0.77  1.19  1.23  1.30  1.38  1.40  1.42   NaN   \n",
       "2017-10-01         0.60  0.66  0.68  0.70  0.72  0.74  0.75  0.76   NaN   NaN   \n",
       "2017-11-01         0.55  0.60  0.62  0.65  0.67  0.68  0.69   NaN   NaN   NaN   \n",
       "2017-12-01         0.54  0.57  0.68  0.80  0.84  0.87   NaN   NaN   NaN   NaN   \n",
       "2018-01-01         0.42  0.45  0.48  0.49  0.50   NaN   NaN   NaN   NaN   NaN   \n",
       "2018-02-01         0.46  0.49  0.50  0.51   NaN   NaN   NaN   NaN   NaN   NaN   \n",
       "2018-03-01         0.56  0.60  0.63   NaN   NaN   NaN   NaN   NaN   NaN   NaN   \n",
       "2018-04-01         0.48  0.53   NaN   NaN   NaN   NaN   NaN   NaN   NaN   NaN   \n",
       "2018-05-01         0.63   NaN   NaN   NaN   NaN   NaN   NaN   NaN   NaN   NaN   \n",
       "\n",
       "age                  10    11  \n",
       "first_order_month              \n",
       "2017-06-01         1.31  1.33  \n",
       "2017-07-01         0.88   NaN  \n",
       "2017-08-01          NaN   NaN  \n",
       "2017-09-01          NaN   NaN  \n",
       "2017-10-01          NaN   NaN  \n",
       "2017-11-01          NaN   NaN  \n",
       "2017-12-01          NaN   NaN  \n",
       "2018-01-01          NaN   NaN  \n",
       "2018-02-01          NaN   NaN  \n",
       "2018-03-01          NaN   NaN  \n",
       "2018-04-01          NaN   NaN  \n",
       "2018-05-01          NaN   NaN  "
      ]
     },
     "execution_count": 34,
     "metadata": {},
     "output_type": "execute_result"
    }
   ],
   "source": [
    "report_new['romi'] = report_new['ltv'] / report_new['cac']\n",
    "output = report_new.pivot_table(\n",
    "        index='first_order_month', \n",
    "        columns='age', \n",
    "        values='romi', \n",
    "        aggfunc='mean')\n",
    "\n",
    "output.cumsum(axis=1).round(2) "
   ]
  },
  {
   "cell_type": "code",
   "execution_count": 35,
   "metadata": {},
   "outputs": [
    {
     "data": {
      "text/plain": [
       "age\n",
       "0     0.540816\n",
       "1     0.581985\n",
       "2     0.631069\n",
       "3     0.719740\n",
       "4     0.782946\n",
       "5     0.859876\n",
       "6     0.896819\n",
       "7     0.969951\n",
       "8     1.053871\n",
       "9     0.964488\n",
       "10    1.094658\n",
       "11    1.333982\n",
       "dtype: float64"
      ]
     },
     "execution_count": 35,
     "metadata": {},
     "output_type": "execute_result"
    }
   ],
   "source": [
    "output.cumsum(axis=1).mean(axis=0) "
   ]
  },
  {
   "cell_type": "markdown",
   "metadata": {},
   "source": [
    "В среднем, когорты окупаются за 9 месяцев. При этом у нас есть аномальная 4-я когорта от сентября 2017, окупаемость по которой сильно отличается за счет всплеска дохода, при этом стоимость привлечения пользователей этой когорты не выделяется на общем фоне."
   ]
  },
  
  {
   "cell_type": "markdown",
   "metadata": {},
   "source": [
    "### Шаг 3. Напишите вывод: порекомендуйте маркетологам, куда и сколько им стоит вкладывать денег?"
   ]
  },
  {
   "cell_type": "markdown",
   "metadata": {},
   "source": [
    "По результатам анализа выше я пока не готова давать рекомендации отделу маркетинга. Для начала я бы встретилась с кем-нибудь из отдела и обсудила бы следующие вопросы:\n",
    "1. за счет чего компания получает выручку (% с продаж, фиксированная коммиссия и др.)? как модель выручки могла поменяться за исследуемый год?\n",
    "2. запросила бы данные по старту продаж на самые популярные события года (ожидаемые концерты, спортивные события и т.д.) и посмотрела бы как они распределяются по месяцам;\n",
    "3. не очень понятно как оперировать и строить гипотезы по источникам без их текстовой расшифровки. тогда станет понятно, почему на источники 3,4 и 5 мы тратим больше денег.\n",
    "4. детально изучила данные по когорте от сентября 2017г. и посмотрела детальнее: в каких категориях были совершены покупки, детали по пользователям - возможно, есть 1-2 аномальных пользователя.\n",
    "\n",
    "Возможно, есть еще какие-то вещи, на которые я сейчас не обратила внимания, но по которым понятно, в какую сторону нужно углубиться."
   ]
  },
  
  {
   "cell_type": "code",
   "execution_count": null,
   "metadata": {},
   "outputs": [],
   "source": []
  }
 ],
 "metadata": {
  "kernelspec": {
   "display_name": "Python 3",
   "language": "python",
   "name": "python3"
  },
  "language_info": {
   "codemirror_mode": {
    "name": "ipython",
    "version": 3
   },
   "file_extension": ".py",
   "mimetype": "text/x-python",
   "name": "python",
   "nbconvert_exporter": "python",
   "pygments_lexer": "ipython3",
   "version": "3.7.6"
  }
 },
 "nbformat": 4,
 "nbformat_minor": 2
}
