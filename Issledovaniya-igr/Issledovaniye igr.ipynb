{
 "cells": [
  {
   "cell_type": "markdown",
   "metadata": {},
   "source": [
    "### Сборный проект. Поиск закономерностей для определения успешности игры\n",
    "\n",
    "В этом проекте мы работаем в интернет-магазине «Стримчик», который продаёт компьютерные игры. Нам предоставлена выборка об исторических продажах игр из открытых источников. В рамках проекта нужно найти закономерности для определения успешности игр для планирования бюджета рекламной компании на 2017г.\n",
    "\n"
   ]
  },
  {
   "cell_type": "markdown",
   "metadata": {},
   "source": [
    "### Шаг 1. Откройте файл с данными и изучите общую информацию. "
   ]
  },
  {
   "cell_type": "code",
   "execution_count": 1,
   "metadata": {},
   "outputs": [],
   "source": [
    "#Импортируем необходимые библиотеки\n",
    "import pandas as pd\n",
    "import matplotlib.pyplot as plt\n",
    "import numpy as np\n",
    "from scipy import stats as st\n",
    "import seaborn as sns"
   ]
  },
  {
   "cell_type": "code",
   "execution_count": 2,
   "metadata": {},
   "outputs": [
    {
     "name": "stdout",
     "output_type": "stream",
     "text": [
      "                       Name Platform  Year_of_Release         Genre  NA_sales  \\\n",
      "0                Wii Sports      Wii           2006.0        Sports     41.36   \n",
      "1         Super Mario Bros.      NES           1985.0      Platform     29.08   \n",
      "2            Mario Kart Wii      Wii           2008.0        Racing     15.68   \n",
      "3         Wii Sports Resort      Wii           2009.0        Sports     15.61   \n",
      "4  Pokemon Red/Pokemon Blue       GB           1996.0  Role-Playing     11.27   \n",
      "\n",
      "   EU_sales  JP_sales  Other_sales  Critic_Score User_Score Rating  \n",
      "0     28.96      3.77         8.45          76.0          8      E  \n",
      "1      3.58      6.81         0.77           NaN        NaN    NaN  \n",
      "2     12.76      3.79         3.29          82.0        8.3      E  \n",
      "3     10.93      3.28         2.95          80.0          8      E  \n",
      "4      8.89     10.22         1.00           NaN        NaN    NaN  \n",
      "<class 'pandas.core.frame.DataFrame'>\n",
      "RangeIndex: 16715 entries, 0 to 16714\n",
      "Data columns (total 11 columns):\n",
      "Name               16713 non-null object\n",
      "Platform           16715 non-null object\n",
      "Year_of_Release    16446 non-null float64\n",
      "Genre              16713 non-null object\n",
      "NA_sales           16715 non-null float64\n",
      "EU_sales           16715 non-null float64\n",
      "JP_sales           16715 non-null float64\n",
      "Other_sales        16715 non-null float64\n",
      "Critic_Score       8137 non-null float64\n",
      "User_Score         10014 non-null object\n",
      "Rating             9949 non-null object\n",
      "dtypes: float64(6), object(5)\n",
      "memory usage: 1.4+ MB\n"
     ]
    }
   ],
   "source": [
    "games = pd.read_csv('/datasets/games.csv')\n",
    "print(games.head(5))\n",
    "games.info()"
   ]
  },
  {
   "cell_type": "markdown",
   "metadata": {},
   "source": [
    "Нам были предоставлены исторические данные  о выпущенных играх. Данные содержат 11 столбцов и 16 715 строк. дубликатов на данном этапе не обнаружено.\n",
    "\n",
    "В колонке Name представлены названия игр, некоторые из них относятся к одной игре, но разным выпускам по годам, тематике и т.д.\n",
    "Формат переменных корректный, но в 2 строках пропущены значения по названию и жанру, в дальнейшем предлагаю эти строки удалить, т.к. эти данные мы не можем установить, а они критичны для исследования.\n",
    "\n",
    "В колонке платформа представлены названия платформ, на которых были выпущены игры, формат переменной корректный, пропусков нет. В дальнейшем, возможно, нужно будет провести категоризацию, т.к. названия могут относится к одной платформе, но разным версиям (Playstation 2, Playstation 3 как пример).\n",
    "\n",
    "В столбце Year_of_release представлены данные по году выпуска. В дальнейшем их нужно будет привести к целочисленному формату, т.к. для переменной, измеряющейся в года он подоходит больше. В 269 строках пропущен год, что составляет 1.6% от выборки. Нужно будет просмотреть их подробнее и решить, что делать с пропусками: удалять или заполнять.\n",
    "\n",
    "В столбце genre указаны жанры игр. Формат данных корректен, есть 2 пропуска, которые будут удалены далее.\n",
    "\n",
    "В колонках NA_sales, EU_sales, JP_sales и Other_sales приведены данные по продажам в млн.долларов, пропусков нет, тип данных float. Возможно их стоит перевести в целочисленный формат или, например, до 1 знака после запятой.\n",
    "\n",
    "В столбце Critic_score указан рейтинг критиков, он не заполнен в примерно в 50% записей. Предлагаю далее эту колонку не трогать,так как, как мне кажется, эти пропуски довольно логичны: критики оценивают не все игры и это субъективная оценка, поэтому я не вижу смысла заполнять этот столбец в части пропусков.\n",
    "\n",
    "В столбце User_score указан рейтинг пользователей, он также не заполнен в 40% записей. Здесь мне непонятен механизм появления пропусков и в реальной жизни я бы уточнила причину этих пропусков. Как я вижу, это может быть из-за следующих причин: какие-то платформы не раскрывают эти сведения, не во всех платформах есть такой функционал, данные берутся с какого-то конкретного публичного сайта, где представлено не все и т.д. \n",
    "\n",
    "В столбце rating в половине строк отсутствует рейтинг, формат столбца корректен. Возможно, причины пропуска: в открытых данных рейтинг не публикуется, игра продается в странах, где не нужно получать этот рейтинг. Оставим этот столбец далее без изменений."
   ]
  },
  {
   "cell_type": "markdown",
   "metadata": {},
   "source": [
    "### Шаг 2. Подготовьте данные."
   ]
  },
  {
   "cell_type": "code",
   "execution_count": 3,
   "metadata": {},
   "outputs": [],
   "source": [
    "games_clear = games\n",
    "games_clear.columns = [str(i).lower() for i in games.columns]\n",
    "games_clear.dropna( subset = ['name'], inplace = True)\n",
    "games_clear.dropna( subset = ['year_of_release'], inplace = True)\n",
    "games_clear['year_of_release'] = games['year_of_release'].astype('int')\n",
    "\n",
    "games_clear['total_sales'] = games['na_sales']+ games['eu_sales'] + games['jp_sales'] + games['other_sales']"
   ]
  },
  {
   "cell_type": "markdown",
   "metadata": {},
   "source": [
    "Были проведены следующие изменения:\n",
    "1. Названия столбцов были переведены к нижнему регистру;\n",
    "2. Были удалены строки с пустыми значениями по году и названию игры/жанру, количество удаленных записей составило ~1.6% от общей выборки.\n",
    "Данные были удалены по следующим причинам:\n",
    "а) Строки с отсутствующими данными о названии игры и жанре похожи на какие-то ошибки: записи всего две при общей выборке в 16 тысяч, возможно, это были какие-то тестовые строки в настройках выгрузки.\n",
    "б) В пропусках в части года выпуска данных не прослеживается какая-то закономерность. По единичным записям, где в названии указан предположительно год, можно попробовать восстановить его, но это также может быть некорректным способом , т.к. могут выпускать игры с маркировкой 2014 в 2013 году или цифра в названии может не иметь отношению к фактическому году выпуска.\n",
    "Так как общее количество строк с пропущенным названием или годом составило 270 строк из 16 714  и нам не у кого уточнить возможность возникновения пропусков, для дальнейшего исследования я удалила строки.\n",
    "3. столбец с годом выпуска был переформатирован в целочисленный формат.\n",
    "4. Добавлена колонка с суммой всех продаж.\n",
    "\n",
    "\n",
    "Пропуски в колонках critic_score, user_score, rating не заполнялись. Так как:\n",
    "1. Пропуски носят системный характер в случае с critic_score - критики оценивают не все игры, user_score - данные могут не публиковаться по каким- то платформам или исторически они собирались не всем играм, rating - получение рейтинга необязательно для продаж не в США.\n",
    "2. Оценки пользователей и критиков носят субъективный характер и впечатления от игр нельзя как-то оцифровать и привести к стандартным критериям, поэтому я не стала заполнять пустые данные в этих столбцах.\n",
    "3. Столбец с рейтингом я также не стала заполнять, так как эти рейтинги уже относятся к формальным законодательным требованиям и в формате таблицы нет возможности оценить какие игры подходят для детей, а какие только для взрослых."
   ]
  },
  {
   "cell_type": "code",
   "execution_count": 4,
   "metadata": {},
   "outputs": [
    {
     "name": "stdout",
     "output_type": "stream",
     "text": [
      "                 total_sales\n",
      "year_of_release             \n",
      "1997                       1\n",
      "1999                       8\n",
      "2000                      43\n",
      "2001                      82\n",
      "2002                     192\n",
      "2003                      95\n",
      "2004                     107\n",
      "2005                     121\n",
      "2006                     124\n",
      "2007                     192\n",
      "2008                     326\n",
      "2009                     405\n",
      "2010                     331\n",
      "2011                     217\n",
      "2012                      24\n",
      "2013                      15\n",
      "2014                      21\n",
      "2015                      38\n",
      "2016                      34\n",
      "<class 'pandas.core.frame.DataFrame'>\n",
      "Int64Index: 16444 entries, 0 to 16714\n",
      "Data columns (total 12 columns):\n",
      "name               16444 non-null object\n",
      "platform           16444 non-null object\n",
      "year_of_release    16444 non-null int64\n",
      "genre              16444 non-null object\n",
      "na_sales           16444 non-null float64\n",
      "eu_sales           16444 non-null float64\n",
      "jp_sales           16444 non-null float64\n",
      "other_sales        16444 non-null float64\n",
      "critic_score       7983 non-null float64\n",
      "user_score         8610 non-null float64\n",
      "rating             9768 non-null object\n",
      "total_sales        16444 non-null float64\n",
      "dtypes: float64(7), int64(1), object(4)\n",
      "memory usage: 1.6+ MB\n",
      "None\n"
     ]
    }
   ],
   "source": [
    "print(games_clear.query('user_score ==\"tbd\"').pivot_table(index = 'year_of_release', values = 'total_sales', aggfunc = 'count'))\n",
    "\n",
    "games_clear['user_score'] = games_clear['user_score'].replace(\"tbd\", )\n",
    "\n",
    "games_clear['user_score'] = games_clear['user_score'].astype('float')\n",
    "print(games_clear.info())"
   ]
  },
  {
   "cell_type": "markdown",
   "metadata": {},
   "source": [
    "Примерно в 1400 строках в столбце user_score была проставлена аббревиатура tbd, что означает \"Будет определен позднее\". Такой комментарий стоит по многим играм и предположение о том, что данные относятся к новым играм, не подтвердилось. Так как мы не можем ничего сказать о рейтинге игр с комментарием tbd среди пользователей, по факту, эти данные получается также не заполнены как и игры с отсутствующим рейтингом, поэтому эту аббревиатуру я заменила на пустые значения и далее столбец был переведен в формат float."
   ]
  },
  {
   "cell_type": "markdown",
   "metadata": {},
   "source": [
    "### Шаг 3. Проведите исследовательский анализ данных."
   ]
  },
  {
   "cell_type": "code",
   "execution_count": 5,
   "metadata": {},
   "outputs": [
    {
     "data": {
      "image/png": "[encoded data removed]",
      "text/plain": [
       "<Figure size 432x288 with 1 Axes>"
      ]
     },
     "metadata": {
      "needs_background": "light"
     },
     "output_type": "display_data"
    }
   ],
   "source": [
    "games_clear.pivot_table(index = 'year_of_release', values = 'name', aggfunc = 'count').plot();\n",
    "plt.title(\"Количество выпущенных игр в год\");\n",
    "plt.xlabel('Год выпуска');\n",
    "plt.ylabel('Количество игр');"
   ]
  },
  {
   "cell_type": "markdown",
   "metadata": {},
   "source": [
    "На данном графике и в сводной таблице мы видим большой скачок в выпуске новых игр с 2000 по 2009 год, после чего идет падение в количестве выпущенных игр. \n",
    "Определенно мы можем использовать не все периоды, так как игры могут устаревать и очевидно, что сейчас люди не покупают и не играют в игры, выпущенные, например, до 2000года. НО пока по этому графику нельзя однозначно сказать игры какого периода мы можем использовать, а какого нет. Проанализируем далее продажи на разных платформах.\n"
   ]
  },
  {
   "cell_type": "code",
   "execution_count": 6,
   "metadata": {},
   "outputs": [
    {
     "name": "stdout",
     "output_type": "stream",
     "text": [
      "          total_sales\n",
      "platform             \n",
      "PS2           1233.56\n",
      "X360           961.24\n",
      "PS3            931.34\n",
      "Wii            891.18\n",
      "DS             802.78\n",
      "PS             727.58\n",
      "PS4            314.14\n",
      "GBA            312.88\n",
      "PSP            289.53\n",
      "3DS            257.81\n",
      "PC             255.76\n",
      "GB             254.43\n",
      "XB             251.57\n",
      "NES            251.05\n",
      "N64            218.01\n",
      "SNES           200.04\n",
      "GC             196.73\n",
      "XOne           159.32\n",
      "2600            86.48\n",
      "WiiU            82.19\n",
      "PSV             53.81\n",
      "SAT             33.59\n",
      "GEN             28.35\n",
      "DC              15.95\n",
      "SCD              1.86\n",
      "NG               1.44\n",
      "WS               1.42\n",
      "TG16             0.16\n",
      "3DO              0.10\n",
      "GG               0.04\n",
      "PCFX             0.03\n"
     ]
    }
   ],
   "source": [
    "print(games_clear.pivot_table(index = 'platform', values = 'total_sales', aggfunc = 'sum').sort_values(by = 'total_sales', ascending = False))\n"
   ]
  },
  {
   "cell_type": "code",
   "execution_count": 7,
   "metadata": {},
   "outputs": [
    {
     "data": {
      "image/png": "[encoded data removed]",
      "text/plain": [
       "<Figure size 432x288 with 1 Axes>"
      ]
     },
     "metadata": {
      "needs_background": "light"
     },
     "output_type": "display_data"
    },
    {
     "data": {
      "image/png": "[encoded data removed]",
      "text/plain": [
       "<Figure size 432x288 with 1 Axes>"
      ]
     },
     "metadata": {
      "needs_background": "light"
     },
     "output_type": "display_data"
    },
    {
     "data": {
      "image/png": "[encoded data removed]",
      "text/plain": [
       "<Figure size 432x288 with 1 Axes>"
      ]
     },
     "metadata": {
      "needs_background": "light"
     },
     "output_type": "display_data"
    },
    {
     "data": {
      "image/png": "[encoded data removed]",
      "text/plain": [
       "<Figure size 432x288 with 1 Axes>"
      ]
     },
     "metadata": {
      "needs_background": "light"
     },
     "output_type": "display_data"
    },
    {
     "data": {
      "image/png": "[encoded data removed]",
      "text/plain": [
       "<Figure size 432x288 with 1 Axes>"
      ]
     },
     "metadata": {
      "needs_background": "light"
     },
     "output_type": "display_data"
    }
   ],
   "source": [
    "top_platform_games = games_clear.query('platform == \"PS2\" or platform == \"X360\" or platform == \"PS3\" or platform == \"Wii\" or platform == \"DS\"')\n",
    "\n",
    "top_platform_games.groupby('platform').hist(column = 'year_of_release');\n",
    "plt.title(\"Объем продаж игр\");\n",
    "plt.xlabel('Год выпуска');\n",
    "plt.ylabel('Сумма продаж');\n"
   ]
  },
  {
   "cell_type": "markdown",
   "metadata": {},
   "source": [
    "Я подготовила гистограммы распределения продаж по платформам, продажи на которых суммарно составили свыше 500 млн.долл.\n",
    "\n",
    "Из этих графиков мы видим, что цикл \"жизни\" одной платформы составляет 10-11 лет, причем через 5 лет после запуска начинается спад продаж на платформе. Поэтому для дальнейшего анализа мы можем отобрать игры с годом выпуска не ранее 2013 года выпуска."
   ]
  },
  {
   "cell_type": "code",
   "execution_count": 8,
   "metadata": {},
   "outputs": [
    {
     "name": "stdout",
     "output_type": "stream",
     "text": [
      "<class 'pandas.core.frame.DataFrame'>\n",
      "Int64Index: 2135 entries, 16 to 16714\n",
      "Data columns (total 12 columns):\n",
      "name               2135 non-null object\n",
      "platform           2135 non-null object\n",
      "year_of_release    2135 non-null int64\n",
      "genre              2135 non-null object\n",
      "na_sales           2135 non-null float64\n",
      "eu_sales           2135 non-null float64\n",
      "jp_sales           2135 non-null float64\n",
      "other_sales        2135 non-null float64\n",
      "critic_score       990 non-null float64\n",
      "user_score         1219 non-null float64\n",
      "rating             1228 non-null object\n",
      "total_sales        2135 non-null float64\n",
      "dtypes: float64(7), int64(1), object(4)\n",
      "memory usage: 216.8+ KB\n"
     ]
    }
   ],
   "source": [
    "games_actual = games_clear.query('year_of_release >=2013 and platform !=\"DS\" and platform!=\"PSP\" and platform !=\"Wii\"')\n",
    "games_actual.info()"
   ]
  },
  {
   "cell_type": "markdown",
   "metadata": {},
   "source": [
    "Мы отфильтровали для дальнейшего анализа игры с выпуском не ранее 2013 года, также я убрала платформы PSP и Wii, так как хоть по ним и были продажи в 2013 году, к 2016 году релизов на эти платформы не было, соответственно для планирования на 2017 год эти данные не актуальны."
   ]
  },
  {
   "cell_type": "code",
   "execution_count": 9,
   "metadata": {},
   "outputs": [
    {
     "name": "stdout",
     "output_type": "stream",
     "text": [
      "          total_sales\n",
      "platform             \n",
      "PS4            314.14\n",
      "PS3            181.43\n",
      "XOne           159.32\n",
      "3DS            143.25\n",
      "X360           136.80\n",
      "WiiU            64.63\n",
      "PC              39.43\n",
      "PSV             32.99\n",
      "year_of_release    2013    2014    2015   2016\n",
      "platform                                      \n",
      "3DS               56.57   43.76   27.78  15.14\n",
      "PC                12.38   13.28    8.52   5.25\n",
      "PS3              113.25   47.76   16.82   3.60\n",
      "PS4               25.99  100.00  118.90  69.25\n",
      "PSV               10.59   11.90    6.25   4.25\n",
      "WiiU              21.65   22.03   16.35   4.60\n",
      "X360              88.58   34.74   11.96   1.52\n",
      "XOne              18.96   54.07   60.14  26.15\n"
     ]
    }
   ],
   "source": [
    "print(games_actual.pivot_table(index = 'platform', values = 'total_sales', aggfunc = 'sum').sort_values(by = 'total_sales', ascending = False))\n",
    "print(games_actual.pivot_table(index = 'platform',columns = 'year_of_release', values = 'total_sales', aggfunc = 'sum'))"
   ]
  },
  {
   "cell_type": "markdown",
   "metadata": {},
   "source": [
    "Из сводных таблиц выше мы можем сделать следующие выводы:\n",
    "1. Самые популярные платформы, на которые приходится ~87% всех продаж: PS4, PS3, XOne,3DS, X360;\n",
    "2. Продажи по платформам 3DS, X360б PSV, WiiU идут на спад, но  по ней еще можно ожидать продажи в 2017г.;\n",
    "3. Игры на PC не укладываются в теорию о сроке жизни платформы 10-11 лет и это можно объяснить логически: PC - персональные компьютеры, где гораздо большая вариативность техники и другая концепция его использования, много разных производителей и разные цели его использования (работа, учеба, игры и т.д.);\n",
    "4. На смену PS3 была выпущена PS4, но по играм на PS3 еще можно ожидать продажи в 2017 году. Также можно предположить, что поведение пользователей этих платформ похоже, т.к. по сути это разные версии одной платформы."
   ]
  },
  {
   "cell_type": "code",
   "execution_count": 10,
   "metadata": {},
   "outputs": [
    {
     "data": {
      "image/png": "[encoded data removed]",
      "text/plain": [
       "<Figure size 432x288 with 1 Axes>"
      ]
     },
     "metadata": {
      "needs_background": "light"
     },
     "output_type": "display_data"
    }
   ],
   "source": [
    "games_actual.pivot_table(index='name', columns='platform', values='total_sales', aggfunc='sum').boxplot()\n",
    "plt.ylim(0, 2.0)\n",
    "plt.title(\"Объем продаж игр по платформам\");"
   ]
  },
  {
   "cell_type": "markdown",
   "metadata": {},
   "source": [
    "На графике мы видим, что самые популярные платформы делятся на две большие группы: Playstation и Xbox, которые периодически выпускают новые версии, но общий объем продаж в сравнении с остальными платформами существеннен.\n",
    "\n",
    "Также мы видим, что среди платформ больше пользуются успехом приставки к телевизору (формат игр на PC и PSV имеет гораздо меньший объем продаж в целом)."
   ]
  },
  {
   "cell_type": "code",
   "execution_count": 19,
   "metadata": {},
   "outputs": [
    {
     "name": "stdout",
     "output_type": "stream",
     "text": [
      "Коэффициент корреляции между общими продажими и оценками критиков: 0.406567902061781\n"
     ]
    },
    {
     "data": {
      "image/png": "[encoded data removed]",
      "text/plain": [
       "<Figure size 432x288 with 1 Axes>"
      ]
     },
     "metadata": {
      "needs_background": "light"
     },
     "output_type": "display_data"
    }
   ],
   "source": [
    "games_actual_ps4 = games_actual.query('platform == \"PS4\"')\n",
    "\n",
    "games_actual_ps4.plot(x = 'critic_score', y ='total_sales',kind='scatter')\n",
    "plt.title(\"Распределение продаж и оценок критиков\");\n",
    "print(\"Коэффициент корреляции между общими продажими и оценками критиков:\",games_actual_ps4['total_sales'].corr(games_actual_ps4['critic_score']))"
   ]
  },
  {
   "cell_type": "markdown",
   "metadata": {},
   "source": [
    "Была выявлена слабая прямая связь между объемом продаж и оценками критиков, если мы возьмем весь массив игр на ps4. То есть мы не можем сказать, что высокие оценки критиков способствуют росту продаж на PS4."
   ]
  },
  {
   "cell_type": "code",
   "execution_count": 20,
   "metadata": {},
   "outputs": [
    {
     "name": "stdout",
     "output_type": "stream",
     "text": [
      "Коэффициент корреляции между общими продажими и оценками пользователей: -0.027427851974847168\n"
     ]
    },
    {
     "data": {
      "image/png": "[encoded data removed]",
      "text/plain": [
       "<Figure size 432x288 with 1 Axes>"
      ]
     },
     "metadata": {
      "needs_background": "light"
     },
     "output_type": "display_data"
    }
   ],
   "source": [
    "games_actual_ps4.plot(x = 'user_score', y ='total_sales',kind='scatter')\n",
    "plt.title(\"Распределение продаж и оценок пользователей\");\n",
    "print(\"Коэффициент корреляции между общими продажими и оценками пользователей:\",games_actual_ps4['total_sales'].corr(games_actual_ps4['user_score']))"
   ]
  },
  {
   "cell_type": "markdown",
   "metadata": {},
   "source": [
    "Связи между оценками пользователей и объемом продаж нет. Возможно, это связано с тем, что у нас неполные данные по столбцу user_score."
   ]
  },
  {
   "cell_type": "code",
   "execution_count": 13,
   "metadata": {},
   "outputs": [
    {
     "name": "stdout",
     "output_type": "stream",
     "text": [
      "              total_sales\n",
      "genre                    \n",
      "Action             317.69\n",
      "Shooter            232.98\n",
      "Sports             148.98\n",
      "Role-Playing       144.86\n",
      "Misc                55.51\n",
      "Racing              39.89\n",
      "Platform            39.69\n",
      "Fighting            35.29\n",
      "Adventure           22.72\n",
      "Simulation          21.41\n",
      "Strategy             9.80\n",
      "Puzzle               3.17\n"
     ]
    }
   ],
   "source": [
    "print(games_actual.pivot_table(index='genre', values='total_sales', aggfunc='sum').sort_values(by = 'total_sales', ascending = False))"
   ]
  },
  {
   "cell_type": "markdown",
   "metadata": {},
   "source": [
    "К самым популярным жанрам мы можем отнести следующие: Action, Shooterk, Sports и Role_Playing. Наименее популярные - Strategy  и Puzzle. То есть можно сказать, что пользователи выбирают игры с высокой активностью, зачастую с соревновательным элементом."
   ]
  },
  {
   "cell_type": "markdown",
   "metadata": {},
   "source": [
    "### Шаг 4. Составьте портрет пользователя каждого региона."
   ]
  },
  {
   "cell_type": "code",
   "execution_count": 21,
   "metadata": {},
   "outputs": [
    {
     "name": "stdout",
     "output_type": "stream",
     "text": [
      "              na_sales\n",
      "genre                 \n",
      "Action          124.35\n",
      "Shooter         109.74\n",
      "Sports           65.12\n",
      "Role-Playing     46.40\n",
      "Misc             24.00\n",
      "Platform         16.72\n",
      "Fighting         15.55\n",
      "Racing           12.96\n",
      "Adventure         7.10\n",
      "Simulation        4.68\n",
      "Strategy          3.13\n",
      "Puzzle            0.83\n",
      "          na_sales\n",
      "platform          \n",
      "PS4         108.74\n",
      "XOne         93.12\n",
      "X360         81.66\n",
      "PS3          63.50\n",
      "3DS          38.20\n",
      "WiiU         29.21\n",
      "PC           11.11\n",
      "PSV           5.04\n",
      "rating            E   E10+      M      T\n",
      "genre                                   \n",
      "Action         5.49  19.21  71.27  11.04\n",
      "Adventure      0.31   0.88   2.90   0.21\n",
      "Fighting        NaN   0.61   2.54   5.26\n",
      "Misc           2.39   4.83   0.72   2.31\n",
      "Platform       8.70   5.64    NaN   0.21\n",
      "Puzzle         0.59   0.18    NaN    NaN\n",
      "Racing         8.17   3.03   0.06   0.66\n",
      "Role-Playing   0.68   0.86  16.67   6.03\n",
      "Shooter         NaN   3.61  70.99  15.58\n",
      "Simulation     1.05   0.53    NaN   1.18\n",
      "Sports        50.38   7.93    NaN   5.76\n",
      "Strategy       0.70   0.66   0.06   1.55\n"
     ]
    },
    {
     "data": {
      "image/png": "[encoded data removed]",
      "text/plain": [
       "<Figure size 432x288 with 1 Axes>"
      ]
     },
     "metadata": {
      "needs_background": "light"
     },
     "output_type": "display_data"
    }
   ],
   "source": [
    "print(games_actual.pivot_table(index='genre', values='na_sales', aggfunc='sum').sort_values(by = 'na_sales', ascending = False))\n",
    "print(games_actual.pivot_table(index='platform', values='na_sales', aggfunc='sum').sort_values(by = 'na_sales', ascending = False))\n",
    "games_actual.pivot_table(index='name', columns='rating', values='na_sales', aggfunc='sum').boxplot()\n",
    "plt.ylim(0, 3.0)\n",
    "plt.title(\"Распределение продаж по рейтингам ESRB в Америке\");\n",
    "print(games_actual.pivot_table(index='genre', columns='rating', values='na_sales', aggfunc='sum'))"
   ]
  },
  {
   "cell_type": "markdown",
   "metadata": {},
   "source": [
    "Пользователи Северной Америки предпочитают игры с маркировкой 18+, топ-5 жанров повторяют топ по всей выборке.\n",
    "Объем продаж наибольший на платформе PS4 также как и во всей выборке.\n",
    "Также мы видим, что большей популярностью пользуются игры с маркировкой 17+ (рейтинг M). Нельзя сказать, что рейтинг напрямую влияет на уровень продаж, скорее я бы сформулировала утверждение так: \"игра, подходящая под критерии рейтинга M, будет пользоваться большей популярностью\". Эти данные можно также соотнести с популярностью жанров, где у самых популярных жанров (Action и Shooter) большая часть продаж приходится на игры с рейтингом M."
   ]
  },
  {
   "cell_type": "code",
   "execution_count": 22,
   "metadata": {},
   "outputs": [
    {
     "name": "stdout",
     "output_type": "stream",
     "text": [
      "              eu_sales\n",
      "genre                 \n",
      "Action          116.76\n",
      "Shooter          87.86\n",
      "Sports           59.60\n",
      "Role-Playing     36.97\n",
      "Racing           20.19\n",
      "Misc             17.04\n",
      "Platform         14.31\n",
      "Simulation       10.78\n",
      "Fighting          8.55\n",
      "Adventure         8.09\n",
      "Strategy          4.13\n",
      "Puzzle            1.00\n",
      "          eu_sales\n",
      "platform          \n",
      "PS4         141.09\n",
      "PS3          67.81\n",
      "XOne         51.59\n",
      "X360         42.52\n",
      "3DS          30.96\n",
      "PC           25.36\n",
      "WiiU         19.85\n",
      "PSV           6.10\n"
     ]
    },
    {
     "data": {
      "image/png": "[encoded data removed]",
      "text/plain": [
       "<Figure size 432x288 with 1 Axes>"
      ]
     },
     "metadata": {
      "needs_background": "light"
     },
     "output_type": "display_data"
    }
   ],
   "source": [
    "print(games_actual.pivot_table(index='genre', values='eu_sales', aggfunc='sum').sort_values(by = 'eu_sales', ascending = False))\n",
    "print(games_actual.pivot_table(index='platform', values='eu_sales', aggfunc='sum').sort_values(by = 'eu_sales', ascending = False))\n",
    "games_actual.pivot_table(index='name', columns='rating', values='eu_sales', aggfunc='sum').boxplot()\n",
    "plt.ylim(0, 3.0)\n",
    "plt.title(\"Распределение продаж по рейтингам ESRB в Европе\");"
   ]
  },
  {
   "cell_type": "markdown",
   "metadata": {},
   "source": [
    "Для пользователей Европы общая картина схожа с пользователями Северной Америки:\n",
    "1. Самая популярная платформа - PS4,\n",
    "2. топ-3 жанров совпадают;\n",
    "3. Игры с рейтингом M имеют наибольший объем продаж, что также объяснимо жанровыми предпочтениями в регионе."
   ]
  },
  {
   "cell_type": "code",
   "execution_count": 23,
   "metadata": {},
   "outputs": [
    {
     "name": "stdout",
     "output_type": "stream",
     "text": [
      "              jp_sales\n",
      "genre                 \n",
      "Role-Playing     50.01\n",
      "Action           39.65\n",
      "Misc              8.98\n",
      "Fighting          7.63\n",
      "Shooter           6.61\n",
      "Adventure         5.11\n",
      "Sports            4.91\n",
      "Platform          4.79\n",
      "Simulation        4.52\n",
      "Racing            2.30\n",
      "Strategy          1.75\n",
      "Puzzle            1.18\n",
      "          jp_sales\n",
      "platform          \n",
      "3DS          67.81\n",
      "PS3          23.35\n",
      "PSV          18.59\n",
      "PS4          15.96\n",
      "WiiU         10.88\n",
      "X360          0.51\n",
      "XOne          0.34\n",
      "PC            0.00\n",
      "rating           E  E10+     M      T\n",
      "genre                                \n",
      "Action        3.07  1.08  7.54   5.25\n",
      "Adventure     0.53  0.00  0.42   0.03\n",
      "Fighting       NaN  0.17  0.02   2.53\n",
      "Misc          1.97  0.10  0.18   0.87\n",
      "Platform      3.43  0.71   NaN   0.03\n",
      "Puzzle        0.26  0.25   NaN    NaN\n",
      "Racing        1.89  0.14  0.00   0.03\n",
      "Role-Playing  0.39  1.08  2.51  10.67\n",
      "Shooter        NaN  1.55  3.44   0.81\n",
      "Simulation    1.42  0.43   NaN   0.18\n",
      "Sports        2.04  0.09   NaN   0.01\n",
      "Strategy      0.00  0.29  0.00   0.03\n"
     ]
    },
    {
     "data": {
      "image/png": "[encoded data removed]",
      "text/plain": [
       "<Figure size 432x288 with 1 Axes>"
      ]
     },
     "metadata": {
      "needs_background": "light"
     },
     "output_type": "display_data"
    }
   ],
   "source": [
    "print(games_actual.pivot_table(index='genre', values='jp_sales', aggfunc='sum').sort_values(by = 'jp_sales', ascending = False))\n",
    "print(games_actual.pivot_table(index='platform', values='jp_sales', aggfunc='sum').sort_values(by = 'jp_sales', ascending = False))\n",
    "games_actual.pivot_table(index='name', columns='rating', values='jp_sales', aggfunc='sum').boxplot()\n",
    "plt.ylim(0, 1.0)\n",
    "print(games_actual.pivot_table(index='genre', columns='rating', values='jp_sales', aggfunc='sum'))\n",
    "plt.title(\"Распределение продаж по рейтингам ESRB в Японии\");"
   ]
  },
  {
   "cell_type": "markdown",
   "metadata": {},
   "source": [
    "Портрет среднего пользователя Японии сильно отличается от пользователей Северной Америки и Европы.\n",
    "1. Самая популярная платформа 3DS, продажи по которой в два раза больше, чем в Северной Америке или Европе;\n",
    "2. 2 самых популярных жанра Role playing (в Европе и Америке на 4-ом месте) и action (самый популярный в других странах).\n",
    "3. Фактор влияния рейтинга нельзя определить, т.к. по меньшая часть проданных игр имеет маркировку. Можно предположить, что большая часть продаваемых игр в Японии, выпускается под местные требования и маркировки рейтинга по стандартам ESRB не требуется."
   ]
  },
  {
   "cell_type": "markdown",
   "metadata": {},
   "source": [
    "На основе данных выше, мы можем сделать вывод, что поведение пользователей в Северной Америке и Европе очень похоже, поведение пользователей в Японии имеет свою специфику, при этом объем рынка в несколько раз ниже чем в Северной Америке и Европе.\n"
   ]
  },
  {
   "cell_type": "markdown",
   "metadata": {},
   "source": [
    "### Шаг 5. Проверьте гипотезы"
   ]
  },
  {
   "cell_type": "code",
   "execution_count": 61,
   "metadata": {},
   "outputs": [
    {
     "data": {
      "text/plain": [
       "count    185.000000\n",
       "mean       6.524865\n",
       "std        1.372925\n",
       "min        1.600000\n",
       "25%        5.800000\n",
       "50%        6.800000\n",
       "75%        7.500000\n",
       "max        9.200000\n",
       "Name: user_score, dtype: float64"
      ]
     },
     "execution_count": 61,
     "metadata": {},
     "output_type": "execute_result"
    },
    {
     "data": {
      "image/png": "[encoded data removed]",
      "text/plain": [
       "<Figure size 432x288 with 1 Axes>"
      ]
     },
     "metadata": {
      "needs_background": "light"
     },
     "output_type": "display_data"
    }
   ],
   "source": [
    "games_actual_xbox = games_actual.query('platform ==\"XOne\"')\n",
    "\n",
    "\n",
    "games_actual_xbox['user_score'].hist(bins = 10);\n",
    "plt.title(\"Распределение оценок пользователей\");\n",
    "games_actual_xbox['user_score'].describe()"
   ]
  },
  {
   "cell_type": "code",
   "execution_count": 62,
   "metadata": {},
   "outputs": [
    {
     "data": {
      "text/plain": [
       "count    156.000000\n",
       "mean       6.282692\n",
       "std        1.744343\n",
       "min        1.400000\n",
       "25%        5.300000\n",
       "50%        6.800000\n",
       "75%        7.600000\n",
       "max        9.300000\n",
       "Name: user_score, dtype: float64"
      ]
     },
     "execution_count": 62,
     "metadata": {},
     "output_type": "execute_result"
    },
    {
     "data": {
      "image/png": "[encoded data removed]",
      "text/plain": [
       "<Figure size 432x288 with 1 Axes>"
      ]
     },
     "metadata": {
      "needs_background": "light"
     },
     "output_type": "display_data"
    }
   ],
   "source": [
    "games_actual_pc = games_actual.query('platform ==\"PC\"')\n",
    "games_actual_pc['user_score'].hist(bins = 10)\n",
    "plt.title(\"Распределение оценок пользователей\");\n",
    "games_actual_pc['user_score'].describe()"
   ]
  },
  {
   "cell_type": "code",
   "execution_count": 51,
   "metadata": {},
   "outputs": [
    {
     "name": "stdout",
     "output_type": "stream",
     "text": [
      "Не получилось отвергнуть нулевую гипотезу\n",
      "          user_score\n",
      "platform            \n",
      "3DS         6.746237\n",
      "PC          6.282692\n",
      "PS3         6.378571\n",
      "PS4         6.737452\n",
      "PSV         7.490099\n",
      "WiiU        7.020988\n",
      "X360        6.001351\n",
      "XOne        6.524865\n"
     ]
    }
   ],
   "source": [
    "alpha = .05\n",
    "\n",
    "results = st.ttest_ind(games_actual_xbox['user_score'], games_actual_pc['user_score'])\n",
    "\n",
    "\n",
    "if (results.pvalue < alpha):\n",
    "    print(\"Отвергаем нулевую гипотезу\")\n",
    "else:\n",
    "    print(\"Не получилось отвергнуть нулевую гипотезу\")\n"
   ]
  },
  {
   "cell_type": "markdown",
   "metadata": {},
   "source": [
    "Распределения величин достаточно похожи, выборки по большей части находятся в одном диапазоне, при этом, стандартное отклонение у рейтинга игр на PC больше, чем у XOne, как и дисперсия. Эту тенденцию мы также видим на гистограммах, где у XOne распределение достаточно приближено к нормальному распределению за исключением небольших выбросов слева, в то время как у PC более ломанные линии на гистограмме и сильное смещение вправо. За счет сильных отклонений в распределении в крайних диапазонах возьмем альфа-критерий 5%.\n",
    "\n",
    "<font color=black>По заданию нам необходимо проверить гипотезу, что средний пользовательский рейтинг платформ Xbox One и PC одинаков.\n",
    "Сформулируем следующие гипотезы:\n",
    "\n",
    "H0: Average user score(PC) == Average user score(XOne)\n",
    "\n",
    "H1: Average user score(PC) != Average user score(XOne)\n",
    "\n",
    "С точки зрения определения метода:\n",
    "    \n",
    "1. Мы проверяем разницу наших средних между двумя платформами\n",
    "2. Количество объектов в наших выборках больше 100\n",
    "\n",
    "\n",
    "Гипотеза о равенстве среднего пользовательского рейтинга с 95% подтверждена и мы можем сделать вывод что в целом распределение рейтингов на этих платформах существенно не отличается."
   ]
  },
  {
   "cell_type": "code",
   "execution_count": 47,
   "metadata": {},
   "outputs": [
    {
     "data": {
      "text/plain": [
       "count    403.000000\n",
       "mean       6.810422\n",
       "std        1.377896\n",
       "min        2.000000\n",
       "25%        6.300000\n",
       "50%        7.100000\n",
       "75%        7.800000\n",
       "max        9.100000\n",
       "Name: user_score, dtype: float64"
      ]
     },
     "execution_count": 47,
     "metadata": {},
     "output_type": "execute_result"
    },
    {
     "data": {
      "image/png": "[encoded data removed]",
      "text/plain": [
       "<Figure size 432x288 with 1 Axes>"
      ]
     },
     "metadata": {
      "needs_background": "light"
     },
     "output_type": "display_data"
    }
   ],
   "source": [
    "games_actual_action = games_actual.query('genre ==\"Action\"')\n",
    "games_actual_action['user_score'].hist();\n",
    "plt.title(\"Распределение оценок пользователей\");\n",
    "games_actual_action['user_score'].describe()\n"
   ]
  },
  {
   "cell_type": "code",
   "execution_count": 48,
   "metadata": {},
   "outputs": [
    {
     "data": {
      "text/plain": [
       "count    161.000000\n",
       "mean       5.314907\n",
       "std        1.819279\n",
       "min        0.200000\n",
       "25%        4.100000\n",
       "50%        5.600000\n",
       "75%        6.600000\n",
       "max        9.300000\n",
       "Name: user_score, dtype: float64"
      ]
     },
     "execution_count": 48,
     "metadata": {},
     "output_type": "execute_result"
    },
    {
     "data": {
      "image/png": "[encoded data removed]",
      "text/plain": [
       "<Figure size 432x288 with 1 Axes>"
      ]
     },
     "metadata": {
      "needs_background": "light"
     },
     "output_type": "display_data"
    }
   ],
   "source": [
    "games_actual_sports = games_actual.query('genre ==\"Sports\"')\n",
    "games_actual_sports['user_score'].hist();\n",
    "plt.title(\"Распределение оценок пользователей\");\n",
    "games_actual_sports['user_score'].describe()"
   ]
  },
  {
   "cell_type": "code",
   "execution_count": 66,
   "metadata": {},
   "outputs": [
    {
     "name": "stdout",
     "output_type": "stream",
     "text": [
      "Не получилось отвергнуть нулевую гипотезу\n",
      "              user_score\n",
      "genre                   \n",
      "Action          6.810422\n",
      "Adventure       7.313846\n",
      "Fighting        7.018367\n",
      "Misc            6.970370\n",
      "Platform        6.653448\n",
      "Puzzle          7.471429\n",
      "Racing          6.144776\n",
      "Role-Playing    7.369630\n",
      "Shooter         6.312579\n",
      "Simulation      6.125000\n",
      "Sports          5.314907\n",
      "Strategy        6.300000\n"
     ]
    }
   ],
   "source": [
    "alpha = .05\n",
    "\n",
    "results = st.ttest_ind(games_actual_action['user_score'], games_actual_sports['user_score'])\n",
    "\n",
    "if (results.pvalue < alpha):\n",
    "    print(\"Отвергаем нулевую гипотезу\")\n",
    "else:\n",
    "    print(\"Не получилось отвергнуть нулевую гипотезу\")\n",
    "\n",
    "print(games_actual.pivot_table(index = 'genre', values = 'user_score', aggfunc = 'mean'))  "
   ]
  },
  {
   "cell_type": "markdown",
   "metadata": {},
   "source": [
    "Здесь уже достаточно разная картина по распределениям, объяснить это можно тем, что наблюдений в выборке по жанру Action в 2.5 раза больше, соотвественно и диапазон, и распределение из-за этого сильно отличаются. Оба распределения смещены вправо, но из-за большего числа наблюдений у жанра Action левый хвост длиннее, чем у Sports. Возьмем также уровень альфа-критерий 5%, т.к.  уровень выше нас не устроит, а для 1% у нас достаточно разнородные выборки.<font color=blue/>\n",
    "\n",
    "<font color=black>По заданию нам необходимо проверить гипотезу, что средний пользовательский рейтинг жанров Action и Sports одинаков.\n",
    "Сформулируем следующие гипотезы:\n",
    "\n",
    "H0: Average user score(Action) == Average user score(Sports)\n",
    "\n",
    "H1: Average user score(Action) != Average user score(Sports)\n",
    "\n",
    "с 95% вероятностью гипотеза о том, что средние пользовательские равны подтверждена, соответственно мы не можем сказать, что рейтинги жанров Action и Sports отличаются."
   ]
  },
  {
   "cell_type": "markdown",
   "metadata": {},
   "source": [
    "### Шаг 6. Общий вывод"
   ]
  },
  {
   "cell_type": "markdown",
   "metadata": {},
   "source": [
    "На основании анализа выше мы можем сделать следующие выводы:\n",
    "1. в 2017 году стоит концентрироваться на релизах для PS4, XOne и 3DS, по ним можно ожидать наибольшие продажи.\n",
    "2. Приоритетные жанры для рекламной компании: Action, Shooter, Sport, Role-play, особое внимание следует обратить на жанры с маркировкой М;\n",
    "3. Для Японии рейтинг ESRB не является маркером больших продаж, т.к. предположительно, он там не используется.\n",
    "4. Рейтинги пользователей и критиков не несут существенного влияния на объем продаж, но какие-то смежные с ними показатели (количество материалов об игре, просмотров трейлеров/пресс-релизов) могут дать больше информации о влиянии.\n",
    "\n",
    "Для улучшения анализа в дальнейшем, было бы неплохо узнать почему есть данные пользовательского рейтинга и оценки критиков не по всем играм: возможно, это техническая ошибка сбора данных (данные не подкачиваются из каких-то источников) или мы собираем данные не по всем публично открытым источникам."
   ]
  }
 ],
 "metadata": {
  "kernelspec": {
   "display_name": "Python 3",
   "language": "python",
   "name": "python3"
  },
  "language_info": {
   "codemirror_mode": {
    "name": "ipython",
    "version": 3
   },
   "file_extension": ".py",
   "mimetype": "text/x-python",
   "name": "python",
   "nbconvert_exporter": "python",
   "pygments_lexer": "ipython3",
   "version": "3.7.6"
  }
 },
 "nbformat": 4,
 "nbformat_minor": 2
}
