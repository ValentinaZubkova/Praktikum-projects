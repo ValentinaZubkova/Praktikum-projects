{
 "cells": [
  {
   "cell_type": "markdown",
   "metadata": {},
   "source": [
    "### Определение перспективного тарифа для телеком компании\n",
    "\n",
    "\n",
    "Проект посвящен анализу двух тарифных планов \"Смарт\" и \"Ультра\" в компании «Мегалайн» — федерального оператора сотовой связи. Чтобы скорректировать рекламный бюджет, коммерческий департамент хочет понять, какой тариф приносит больше денег.\n",
    "В проекте будет проведен предварительный анализ тарифов на небольшой выборке клиентов. В распоряжении данные 500 пользователей «Мегалайна»: кто они, откуда, каким тарифом пользуются, сколько звонков и сообщений каждый отправил за 2018 год. Нужно проанализировать поведение клиентов и сделать вывод — какой тариф лучше."
   ]
  },
  {
   "cell_type": "markdown",
   "metadata": {},
   "source": [
    "### Шаг 1. Откройте файл с данными и изучите общую информацию. "
   ]
  },
  {
   "cell_type": "code",
   "execution_count": 1,
   "metadata": {
    "scrolled": false
   },
   "outputs": [
    {
     "name": "stdout",
     "output_type": "stream",
     "text": [
      "<class 'pandas.core.frame.DataFrame'>\n",
      "RangeIndex: 500 entries, 0 to 499\n",
      "Data columns (total 8 columns):\n",
      "user_id       500 non-null int64\n",
      "age           500 non-null int64\n",
      "churn_date    38 non-null object\n",
      "city          500 non-null object\n",
      "first_name    500 non-null object\n",
      "last_name     500 non-null object\n",
      "reg_date      500 non-null object\n",
      "tariff        500 non-null object\n",
      "dtypes: int64(2), object(6)\n",
      "memory usage: 31.4+ KB\n",
      "<class 'pandas.core.frame.DataFrame'>\n",
      "RangeIndex: 202607 entries, 0 to 202606\n",
      "Data columns (total 4 columns):\n",
      "id           202607 non-null object\n",
      "call_date    202607 non-null object\n",
      "duration     202607 non-null float64\n",
      "user_id      202607 non-null int64\n",
      "dtypes: float64(1), int64(1), object(2)\n",
      "memory usage: 6.2+ MB\n",
      "<class 'pandas.core.frame.DataFrame'>\n",
      "RangeIndex: 149396 entries, 0 to 149395\n",
      "Data columns (total 5 columns):\n",
      "Unnamed: 0      149396 non-null int64\n",
      "id              149396 non-null object\n",
      "mb_used         149396 non-null float64\n",
      "session_date    149396 non-null object\n",
      "user_id         149396 non-null int64\n",
      "dtypes: float64(1), int64(2), object(2)\n",
      "memory usage: 5.7+ MB\n",
      "<class 'pandas.core.frame.DataFrame'>\n",
      "RangeIndex: 123036 entries, 0 to 123035\n",
      "Data columns (total 3 columns):\n",
      "id              123036 non-null object\n",
      "message_date    123036 non-null object\n",
      "user_id         123036 non-null int64\n",
      "dtypes: int64(1), object(2)\n",
      "memory usage: 2.8+ MB\n",
      "   messages_included  mb_per_month_included  minutes_included  \\\n",
      "0                 50                  15360               500   \n",
      "1               1000                  30720              3000   \n",
      "\n",
      "   rub_monthly_fee  rub_per_gb  rub_per_message  rub_per_minute tariff_name  \n",
      "0              550         200                3               3       smart  \n",
      "1             1950         150                1               1       ultra  \n"
     ]
    }
   ],
   "source": [
    "import pandas as pd\n",
    "users = pd.read_csv('/datasets/users.csv')\n",
    "calls = pd.read_csv('/datasets/calls.csv')\n",
    "internet = pd.read_csv('/datasets/internet.csv')\n",
    "messages = pd.read_csv('/datasets/messages.csv')\n",
    "tariffs = pd.read_csv('/datasets/tariffs.csv')\n",
    "users.info()\n",
    "calls.info()\n",
    "internet.info()\n",
    "messages.info()\n",
    "print(tariffs)\n"
   ]
  },
  {
   "cell_type": "markdown",
   "metadata": {},
   "source": [
    "В качестве данных нам предоставлено 5 файлов, 4 из которых в качестве связующего элемента имеют данные о user_id, пятый файл tarrifs представляет собой таблицу-словарь из 2 строк по вводным каждого тарифа.\n",
    "В таблице users даются данные о 500 уникальных пользователях, каких-то аномальных, на первый взгляд, данных не обнаружено, дубликатов также нет. Есть пропуски в колонке churn_date у тех пользователей, которые по описанию задания продолжают пользоваться тарифом. В колонке \"тариф\" проставлены только те тарифы, которые нас интересуют по заданию.\n",
    "В таблицах calls, internet, messages приведены данные по каждому типу действий в тарифах (звонки, использование интернета, сообщения), пропущенных значений, дубликатов нет, каких-то аномальных данных, на первый взгляд, не обнаружено."
   ]
  },
  {
   "cell_type": "markdown",
   "metadata": {},
   "source": [
    "### Шаг 2. Подготовьте данные"
   ]
  },
  {
   "cell_type": "code",
   "execution_count": 2,
   "metadata": {},
   "outputs": [
    {
     "name": "stdout",
     "output_type": "stream",
     "text": [
      "<class 'pandas.core.frame.DataFrame'>\n",
      "RangeIndex: 202607 entries, 0 to 202606\n",
      "Data columns (total 4 columns):\n",
      "id           202607 non-null object\n",
      "call_date    202607 non-null object\n",
      "duration     202607 non-null float64\n",
      "user_id      202607 non-null int64\n",
      "dtypes: float64(1), int64(1), object(2)\n",
      "memory usage: 6.2+ MB\n"
     ]
    },
    {
     "data": {
      "text/plain": [
       "count    202607.000000\n",
       "mean          6.755887\n",
       "std           5.843365\n",
       "min           0.000000\n",
       "25%           1.300000\n",
       "50%           6.000000\n",
       "75%          10.700000\n",
       "max          38.000000\n",
       "Name: duration, dtype: float64"
      ]
     },
     "execution_count": 2,
     "metadata": {},
     "output_type": "execute_result"
    },
    {
     "data": {
      "image/png": "[encoded data removed]",
      "text/plain": [
       "<Figure size 432x288 with 1 Axes>"
      ]
     },
     "metadata": {
      "needs_background": "light"
     },
     "output_type": "display_data"
    }
   ],
   "source": [
    "import matplotlib.pyplot as plt\n",
    "calls.info()\n",
    "calls.boxplot(column = 'duration')\n",
    "calls['duration'].describe()\n"
   ]
  },
  {
   "cell_type": "code",
   "execution_count": 3,
   "metadata": {},
   "outputs": [
    {
     "name": "stdout",
     "output_type": "stream",
     "text": [
      "   user_id  month  duration\n",
      "0     1000      5       149\n",
      "1     1000      6       159\n",
      "2     1000      7       319\n",
      "3     1000      8       391\n",
      "4     1000      9       439\n"
     ]
    }
   ],
   "source": [
    "calls['duration'] = calls['duration'].round()\n",
    "calls['duration'] = calls['duration'].round()\n",
    "calls['duration'] = calls['duration'].astype('int')\n",
    "calls['call_date'] = pd.to_datetime(calls['call_date'], format='%Y-%m-%d') \n",
    "calls['month'] = pd.DatetimeIndex(calls['call_date']).month\n",
    "calls_pivot = calls.pivot_table(index = ['user_id','month'], values = 'duration', aggfunc = 'sum').reset_index()\n",
    "print(calls_pivot.head(5))"
   ]
  },
  {
   "cell_type": "markdown",
   "metadata": {},
   "source": [
    "По таблице calls можно прокомментировать следующее:\n",
    "1. Дубликатов в колонке с идентификатором звонка не обнаружено;   \n",
    "2. колонка duration была переведена в целочисленный формат, так как в тарифах всегда идет округление секунд до целых минут и для упрощения дальнейших расчетов;\n",
    "3. колонка call_date была переведена в формат даты и с ее использованием далее был добавлен столбец с месяцем звонка;\n",
    "4. Всего звонков 202 607 в выборке, но есть звонки с продолжительностью 0, что предположительно означает пропущенный звонок, так как в дальнейшем мы будем использовать этот столбец для вычислений выручки, нулевые значения не должны отразиться на общей картине по выборке. Оставим эти данные как есть.\n",
    "\n",
    "Далее была собрана сводная таблица по номеру пользователя, месяцам и продолжительности звонков.\n",
    "\n",
    "* было проведено округление значений звонков до целого в соответствии с условием задачи и комментарием ревьюера."
   ]
  },
  {
   "cell_type": "code",
   "execution_count": 4,
   "metadata": {},
   "outputs": [
    {
     "name": "stdout",
     "output_type": "stream",
     "text": [
      "<class 'pandas.core.frame.DataFrame'>\n",
      "RangeIndex: 149396 entries, 0 to 149395\n",
      "Data columns (total 5 columns):\n",
      "Unnamed: 0      149396 non-null int64\n",
      "id              149396 non-null object\n",
      "mb_used         149396 non-null float64\n",
      "session_date    149396 non-null object\n",
      "user_id         149396 non-null int64\n",
      "dtypes: float64(1), int64(2), object(2)\n",
      "memory usage: 5.7+ MB\n"
     ]
    },
    {
     "data": {
      "text/plain": [
       "count    149396.000000\n",
       "mean        370.192426\n",
       "std         278.300951\n",
       "min           0.000000\n",
       "25%         138.187500\n",
       "50%         348.015000\n",
       "75%         559.552500\n",
       "max        1724.830000\n",
       "Name: mb_used, dtype: float64"
      ]
     },
     "execution_count": 4,
     "metadata": {},
     "output_type": "execute_result"
    },
    {
     "data": {
      "image/png": "[encoded data removed]",
      "text/plain": [
       "<Figure size 432x288 with 1 Axes>"
      ]
     },
     "metadata": {
      "needs_background": "light"
     },
     "output_type": "display_data"
    }
   ],
   "source": [
    "internet.info()\n",
    "internet.boxplot(column = 'mb_used')\n",
    "internet['mb_used'].describe()"
   ]
  },
  {
   "cell_type": "code",
   "execution_count": 5,
   "metadata": {},
   "outputs": [
    {
     "name": "stdout",
     "output_type": "stream",
     "text": [
      "   user_id  month  mb_used\n",
      "0     1000      5     2252\n",
      "1     1000      6    23213\n",
      "2     1000      7    13988\n",
      "3     1000      8    14043\n",
      "4     1000      9    14556\n"
     ]
    }
   ],
   "source": [
    "internet['mb_used'] = internet['mb_used'].astype('int')\n",
    "internet['session_date'] = pd.to_datetime(internet['session_date'], format='%Y.%m.%dT%H:%M:%S') \n",
    "internet['month'] = pd.DatetimeIndex(internet['session_date']).month\n",
    "internet_pivot = internet.pivot_table(index = ['user_id','month'], values = 'mb_used', aggfunc = 'sum').reset_index()\n",
    "print(internet_pivot.head(5))"
   ]
  },
  {
   "cell_type": "markdown",
   "metadata": {},
   "source": [
    "По таблице internet можно прокомментировать следующее:\n",
    "1. Дубликатов в колонке с уникальным идентификатором не обнаружено;   \n",
    "2. колонка mb_used была переведена в целочисленный формат;\n",
    "3. колонка session_date была переведена в формат даты и с ее использованием далее был добавлен столбец с месяцем;\n",
    "4. Есть ряд сессий, трафик по которым составил 0МБ, так как в дальнейшем мы будем использовать этот столбец для вычислений выручки, нулевые значения не должны отразиться на общей картине по выборке, также эти данные помогут понять реальную картину по использованию тарифа. Если мы их выкинем, то получим искаженную выборку, где все пользователи пользуются всеми возможностями тарифа. Оставим эти данные как есть.\n",
    "\n",
    "Далее была собрана сводная таблица по номеру пользователя, месяцам и объему трафика."
   ]
  },
  {
   "cell_type": "code",
   "execution_count": 6,
   "metadata": {},
   "outputs": [
    {
     "name": "stdout",
     "output_type": "stream",
     "text": [
      "<class 'pandas.core.frame.DataFrame'>\n",
      "RangeIndex: 123036 entries, 0 to 123035\n",
      "Data columns (total 3 columns):\n",
      "id              123036 non-null object\n",
      "message_date    123036 non-null object\n",
      "user_id         123036 non-null int64\n",
      "dtypes: int64(1), object(2)\n",
      "memory usage: 2.8+ MB\n"
     ]
    },
    {
     "data": {
      "text/plain": [
       "<matplotlib.axes._subplots.AxesSubplot at 0x7f3818381c10>"
      ]
     },
     "execution_count": 6,
     "metadata": {},
     "output_type": "execute_result"
    },
    {
     "data": {
      "image/png": "[encoded data removed]",
      "text/plain": [
       "<Figure size 432x288 with 1 Axes>"
      ]
     },
     "metadata": {
      "needs_background": "light"
     },
     "output_type": "display_data"
    }
   ],
   "source": [
    "messages.info()\n",
    "messages.boxplot()"
   ]
  },
  {
   "cell_type": "code",
   "execution_count": 7,
   "metadata": {},
   "outputs": [
    {
     "name": "stdout",
     "output_type": "stream",
     "text": [
      "   user_id  month  q_messages\n",
      "0     1000      5          22\n",
      "1     1000      6          60\n",
      "2     1000      7          75\n",
      "3     1000      8          81\n",
      "4     1000      9          57\n"
     ]
    }
   ],
   "source": [
    "messages['message_date'] = pd.to_datetime(messages['message_date'], format='%Y-%m-%d') \n",
    "messages['month'] = pd.DatetimeIndex(messages['message_date']).month\n",
    "new_columns = ['user_id','month','q_messages']\n",
    "\n",
    "messages_pivot =messages.pivot_table(index = ['user_id','month'], values = 'id', aggfunc = 'count').reset_index()\n",
    "messages_pivot.set_axis(new_columns, axis='columns',inplace = True)\n",
    "print(messages_pivot.head(5))"
   ]
  },
  {
   "cell_type": "markdown",
   "metadata": {},
   "source": [
    "По таблице messages можно прокомментировать следующее:\n",
    "1. Дубликатов в колонке с уникальным идентификатором не обнаружено;   \n",
    "2. колонка message_date была переведена в формат даты и с ее использованием далее был добавлен столбец с месяцем.\n",
    "Далее была собрана сводная таблица по номеру пользователя, месяцу и количеству сообщений."
   ]
  },
  {
   "cell_type": "code",
   "execution_count": 8,
   "metadata": {},
   "outputs": [
    {
     "name": "stdout",
     "output_type": "stream",
     "text": [
      "   user_id tariff  active_months         city\n",
      "0     1000  ultra            8.0    Краснодар\n",
      "1     1001  smart            2.0       Москва\n",
      "2     1002  smart            7.0  Стерлитамак\n",
      "3     1003  ultra            5.0       Москва\n",
      "4     1004  ultra            8.0  Новокузнецк\n"
     ]
    }
   ],
   "source": [
    "users['reg_date'] = pd.to_datetime(users['reg_date'], format='%Y-%m-%d') \n",
    "users['churn_date'] = pd.to_datetime(users['churn_date'], format='%Y-%m-%d')\n",
    "users['reg_month']= pd.DatetimeIndex(users['reg_date']).month\n",
    "users['churn_month'] = pd.DatetimeIndex(users['churn_date']).month\n",
    "users['last_month']=users['churn_month']\n",
    "users['last_month'] = users['last_month'].fillna(12)\n",
    "users['active_months'] = users['last_month']-users['reg_month']+1\n",
    "users_short = users.loc[:,['user_id','tariff','active_months','city']]\n",
    "print(users_short.head(5))"
   ]
  },
  {
   "cell_type": "markdown",
   "metadata": {},
   "source": [
    "В таблице users были переведены в формат даты колонки churn_date и reg_date, созданы столбцы с месяцами регистрации и расторжения.\n",
    "Дополнительно был посчитан столбец с количеством активных месяцев пользования."
   ]
  },
  {
   "cell_type": "code",
   "execution_count": 9,
   "metadata": {},
   "outputs": [
    {
     "name": "stdout",
     "output_type": "stream",
     "text": [
      "<class 'pandas.core.frame.DataFrame'>\n",
      "Int64Index: 3214 entries, 0 to 3213\n",
      "Data columns (total 8 columns):\n",
      "user_id          3214 non-null int64\n",
      "month            3214 non-null int64\n",
      "duration         3214 non-null int64\n",
      "mb_used          3214 non-null int64\n",
      "q_messages       3214 non-null int64\n",
      "tariff           3214 non-null object\n",
      "active_months    3214 non-null float64\n",
      "city             3214 non-null object\n",
      "dtypes: float64(1), int64(5), object(2)\n",
      "memory usage: 226.0+ KB\n",
      "None\n",
      "   user_id  month  duration  mb_used  q_messages tariff  active_months  \\\n",
      "0     1000      5       149     2252          22  ultra            8.0   \n",
      "1     1000      6       159    23213          60  ultra            8.0   \n",
      "2     1000      7       319    13988          75  ultra            8.0   \n",
      "3     1000      8       391    14043          81  ultra            8.0   \n",
      "4     1000      9       439    14556          57  ultra            8.0   \n",
      "\n",
      "        city  \n",
      "0  Краснодар  \n",
      "1  Краснодар  \n",
      "2  Краснодар  \n",
      "3  Краснодар  \n",
      "4  Краснодар  \n"
     ]
    }
   ],
   "source": [
    "final_data = calls_pivot.merge(internet_pivot,on = ['user_id','month'],how = 'outer')\n",
    "final_data = final_data.merge(messages_pivot, on = ['user_id', 'month'], how = 'outer')\n",
    "final_data = final_data.merge(users_short, on = ['user_id'])\n",
    "final_data['duration'] = final_data['duration'].fillna(0)\n",
    "final_data['mb_used'] = final_data['mb_used'].fillna(0)\n",
    "final_data['q_messages'] = final_data['q_messages'].fillna(0)\n",
    "final_data['duration'] = final_data['duration'].astype('int')\n",
    "final_data['mb_used'] = final_data['mb_used'].astype('int')\n",
    "final_data['q_messages'] = final_data['q_messages'].astype('int')\n",
    "print(final_data.info())\n",
    "print(final_data.head(5))"
   ]
  },
  {
   "cell_type": "markdown",
   "metadata": {},
   "source": [
    "Было создана отдельная таблица, в которой были объединены данные по номеру пользователя, тарифу и количеству активных месяцев из таблицы users_short, данные по каждому пользователю помесячно по продолжительности звонков, количеству сообщений и использования интернета из таблиц calls_pivot, messages_pivot и internet_pivot).\n",
    "Далее в столбцах duration, q_messages и mb_used в пропущенных значениях были проставлены 0, затем столбцы были переведены в формат int.\n",
    "\n"
   ]
  },
  {
   "cell_type": "code",
   "execution_count": 10,
   "metadata": {},
   "outputs": [
    {
     "name": "stdout",
     "output_type": "stream",
     "text": [
      "<class 'pandas.core.frame.DataFrame'>\n",
      "Int64Index: 3214 entries, 0 to 3213\n",
      "Data columns (total 13 columns):\n",
      "user_id                        3214 non-null int64\n",
      "month                          3214 non-null int64\n",
      "duration                       3214 non-null int64\n",
      "mb_used                        3214 non-null int64\n",
      "q_messages                     3214 non-null int64\n",
      "tariff                         3214 non-null object\n",
      "active_months                  3214 non-null float64\n",
      "city                           3214 non-null object\n",
      "base_revenue                   3214 non-null int64\n",
      "additional_revenue_calls       3214 non-null int64\n",
      "additional_revenue_internet    3214 non-null float64\n",
      "additional_revenue_sms         3214 non-null int64\n",
      "total_revenue                  3214 non-null int64\n",
      "dtypes: float64(2), int64(9), object(2)\n",
      "memory usage: 351.5+ KB\n"
     ]
    }
   ],
   "source": [
    "def base_revenue(tariff):\n",
    "    if tariff['tariff'] == 'smart':\n",
    "        return 550\n",
    "    else:\n",
    "        return 1950\n",
    "final_data['base_revenue'] = final_data.apply(base_revenue, axis = 1)\n",
    "\n",
    "def additional_revenue_calls(x):\n",
    "    if x['tariff'] == 'smart':\n",
    "        if x['duration'] <= 500:\n",
    "            return 0\n",
    "        else:\n",
    "            additional_revenue_smart = (x['duration'] - 500) * 3\n",
    "            return additional_revenue_smart\n",
    "    else:\n",
    "        if x['duration'] <= 3000:\n",
    "            return 0\n",
    "        else:\n",
    "            additional_revenue_ultra = (x['duration'] - 3000) \n",
    "            return additional_revenue_ultra\n",
    "\n",
    "\n",
    "final_data['additional_revenue_calls'] = final_data.apply(additional_revenue_calls, axis = 1)\n",
    "\n",
    "def additional_revenue_internet(x):\n",
    "    if x['tariff'] == 'smart':\n",
    "        if x['mb_used'] <= 15360:\n",
    "            return 0\n",
    "        else:\n",
    "            additional_revenue_smart_int = (x['mb_used'] - 15360) * 200 / 1024\n",
    "            return additional_revenue_smart_int\n",
    "    else:\n",
    "        if x['mb_used'] <= 30720:\n",
    "            return 0\n",
    "        else:\n",
    "            additional_revenue_ultra_int = (x['mb_used'] - 30720) * 150/1024\n",
    "            return additional_revenue_ultra_int\n",
    "\n",
    "\n",
    "final_data['additional_revenue_internet'] = final_data.apply(additional_revenue_internet, axis = 1)\n",
    "\n",
    "def additional_revenue_sms(x):\n",
    "    if x['tariff'] == 'smart':\n",
    "        if x['q_messages'] <= 50:\n",
    "            return 0\n",
    "        else:\n",
    "            additional_revenue_smart_sms = (x['q_messages'] - 50) * 3\n",
    "            return additional_revenue_smart_sms\n",
    "    else:\n",
    "        if x['q_messages'] <= 1000:\n",
    "            return 0\n",
    "        else:\n",
    "            additional_revenue_ultra_sms = (x['q_messages'] - 1000) \n",
    "            return additional_revenue_ultra_sms\n",
    "\n",
    "\n",
    "final_data['additional_revenue_sms'] = final_data.apply(additional_revenue_sms, axis = 1)\n",
    "\n",
    "final_data['total_revenue'] = final_data['base_revenue'] + final_data['additional_revenue_calls'] + final_data['additional_revenue_internet'] + final_data['additional_revenue_sms']\n",
    "final_data['total_revenue'] = final_data['total_revenue'].astype('int')\n",
    "final_data.info()"
   ]
  },
  {
   "cell_type": "markdown",
   "metadata": {},
   "source": [
    "В датасете были посчитаны следующие столбцы:\n",
    "1. выручка от ежемесячной абонентской платы;\n",
    "2. дополнительная выручка от звонков сверх лимита по тарифу;\n",
    "3. дополнительная выручка от интернета сверх тарифа;\n",
    "4. дополнительная выручка от текстовых сообщений;\n",
    "5. столбец с итоговой выручкой за месяц как сумма столбцов из п1.-4. Далее этот столбец был переведен в формат int для дальнейшего удобства."
   ]
  },
  {
   "cell_type": "markdown",
   "metadata": {},
   "source": [
    "### Шаг 3. Проанализируйте данные."
   ]
  },
  {
   "cell_type": "code",
   "execution_count": 11,
   "metadata": {},
   "outputs": [
    {
     "name": "stdout",
     "output_type": "stream",
     "text": [
      "         duration       mb_used  q_messages\n",
      "tariff                                     \n",
      "smart   394.26873  16187.578735   33.384029\n",
      "ultra   496.88934  19450.643655   49.363452\n"
     ]
    }
   ],
   "source": [
    "print(final_data.pivot_table(index = 'tariff', values = ['duration', 'mb_used', 'q_messages'], aggfunc = 'mean'))"
   ]
  },
  {
   "cell_type": "markdown",
   "metadata": {},
   "source": [
    "Из этой сводной таблицы мы видим следующее:\n",
    "1. в среднем на тарифе \"Ультра\" разговаривают на 25% больше, чем на тарифе \"Смарт\";\n",
    "2. пользуются интернетом на 20% больше на тарифе \"Ультра\";\n",
    "3. Отправляют на 50% больше сообщений на тарифе \"Ультра\".\n",
    "При этом, пользователи тарифа \"Ультра\" по звонкам и количеству сообщений не выходят за лимиты более дешевого тарифа \"Смарт\", а интернет превышает лимит тарифа \"Смарт\" на 4ГБ в месяц."
   ]
  },
  {
   "cell_type": "code",
   "execution_count": 12,
   "metadata": {},
   "outputs": [
    {
     "data": {
      "text/plain": [
       "<matplotlib.axes._subplots.AxesSubplot at 0x7f3815a65390>"
      ]
     },
     "execution_count": 12,
     "metadata": {},
     "output_type": "execute_result"
    },
    {
     "data": {
      "image/png": "[encoded data removed]",
      "text/plain": [
       "<Figure size 432x288 with 1 Axes>"
      ]
     },
     "metadata": {
      "needs_background": "light"
     },
     "output_type": "display_data"
    }
   ],
   "source": [
    "import numpy as np\n",
    "import matplotlib.pyplot as plt\n",
    "final_data_smart = final_data.query('tariff == \"smart\"')\n",
    "final_data_ultra = final_data.query('tariff == \"ultra\"')\n",
    "final_data_smart['duration'].hist()\n",
    "final_data_ultra['duration'].hist()\n",
    "\n"
   ]
  },
  {
   "cell_type": "code",
   "execution_count": 13,
   "metadata": {},
   "outputs": [
    {
     "name": "stdout",
     "output_type": "stream",
     "text": [
      "count    2229.000000\n",
      "mean      394.268730\n",
      "std       179.891988\n",
      "min         0.000000\n",
      "25%       267.000000\n",
      "50%       398.000000\n",
      "75%       515.000000\n",
      "max      1355.000000\n",
      "Name: duration, dtype: float64\n",
      "Дисперсия по продолжительности телефонных разговоров на тарифе Смарт: 32361.127482274216\n",
      "Стандартное отклонение по продолжительности телефонных разговоров на тарифе Смарт: 179.89198837712095\n"
     ]
    }
   ],
   "source": [
    "print(final_data_smart['duration'].describe())\n",
    "print(\"Дисперсия по продолжительности телефонных разговоров на тарифе Смарт:\",np.var(final_data_smart['duration'],ddof=1))\n",
    "print(\"Стандартное отклонение по продолжительности телефонных разговоров на тарифе Смарт:\",np.std(final_data_smart['duration'],ddof=1))"
   ]
  },
  {
   "cell_type": "code",
   "execution_count": 14,
   "metadata": {},
   "outputs": [
    {
     "name": "stdout",
     "output_type": "stream",
     "text": [
      "count     985.000000\n",
      "mean      496.889340\n",
      "std       299.704816\n",
      "min         0.000000\n",
      "25%       269.000000\n",
      "50%       489.000000\n",
      "75%       709.000000\n",
      "max      1577.000000\n",
      "Name: duration, dtype: float64\n",
      "Дисперсия по продолжительности телефонных разговоров на тарифе Ультра: 89822.97656308036\n",
      "Стандартное отклонение по продолжительности телефонных разговоров на тарифе Ультра: 299.7048157155309\n"
     ]
    }
   ],
   "source": [
    "print(final_data_ultra['duration'].describe())\n",
    "print(\"Дисперсия по продолжительности телефонных разговоров на тарифе Ультра:\",np.var(final_data_ultra['duration'],ddof=1))\n",
    "print(\"Стандартное отклонение по продолжительности телефонных разговоров на тарифе Ультра:\",np.std(final_data_ultra['duration'],ddof=1))"
   ]
  },
  {
   "cell_type": "markdown",
   "metadata": {},
   "source": [
    "Мы можем выявить следующие различия по тарифам:\n",
    "1. На тарифе Смарт большая часть абонентов (~70%) ежемесячно укладывается в лимит связи 500 минут, по остальным 30% идет превышение лимита и как следствие дополнительная выручка по звонкам. Средняя продолжительность звонков в месяц составляет 394м, при медиане 398, в целом данные распределены нормально.\n",
    "2. На тарифе \"Ультра\" больше половины абонентов укладываются в лимит тарифа \"Смарт\", что впоследствии может сказаться на том, что часть людей перейдет на более дешевый тариф \"Смарт\". В целом на этом тарифе разговаривают по телефону больше, что также можно увидеть по показателям по срезу тарифа \"Ультра\". Также, интересно, что максимальное значение разговоров в месяц в два раза меньше установленного лимита бесплатных звонков."
   ]
  },
  {
   "cell_type": "code",
   "execution_count": 15,
   "metadata": {},
   "outputs": [
    {
     "data": {
      "text/plain": [
       "<matplotlib.axes._subplots.AxesSubplot at 0x7f38192e4610>"
      ]
     },
     "execution_count": 15,
     "metadata": {},
     "output_type": "execute_result"
    },
    {
     "data": {
      "image/png": "[encoded data removed]",
      "text/plain": [
       "<Figure size 432x288 with 1 Axes>"
      ]
     },
     "metadata": {
      "needs_background": "light"
     },
     "output_type": "display_data"
    }
   ],
   "source": [
    "final_data_smart['mb_used'].hist()\n",
    "final_data_ultra['mb_used'].hist()"
   ]
  },
  {
   "cell_type": "code",
   "execution_count": 16,
   "metadata": {},
   "outputs": [
    {
     "name": "stdout",
     "output_type": "stream",
     "text": [
      "count     2229.000000\n",
      "mean     16187.578735\n",
      "std       5863.430302\n",
      "min          0.000000\n",
      "25%      12625.000000\n",
      "50%      16482.000000\n",
      "75%      20017.000000\n",
      "max      38510.000000\n",
      "Name: mb_used, dtype: float64\n",
      "Дисперсия по использованию интернета на тарифе Смарт: 34379814.908183135\n",
      "Стандартное отклонение по использованию интернета на тарифе Смарт: 5863.430302151049\n"
     ]
    }
   ],
   "source": [
    "print(final_data_smart['mb_used'].describe())\n",
    "print(\"Дисперсия по использованию интернета на тарифе Смарт:\",np.var(final_data_smart['mb_used'],ddof=1))\n",
    "print(\"Стандартное отклонение по использованию интернета на тарифе Смарт:\",np.std(final_data_smart['mb_used'],ddof=1))"
   ]
  },
  {
   "cell_type": "code",
   "execution_count": 17,
   "metadata": {},
   "outputs": [
    {
     "name": "stdout",
     "output_type": "stream",
     "text": [
      "count      985.000000\n",
      "mean     19450.643655\n",
      "std      10077.999744\n",
      "min          0.000000\n",
      "25%      11762.000000\n",
      "50%      19289.000000\n",
      "75%      26810.000000\n",
      "max      49701.000000\n",
      "Name: mb_used, dtype: float64\n",
      "Дисперсия по использованию интернета на тарифе Ультра: 101566078.84341753\n",
      "Стандартное отклонение по использованию интернета на тарифе Ультра: 10077.999744166375\n"
     ]
    }
   ],
   "source": [
    "print(final_data_ultra['mb_used'].describe())\n",
    "print(\"Дисперсия по использованию интернета на тарифе Ультра:\",np.var(final_data_ultra['mb_used'],ddof=1))\n",
    "print(\"Стандартное отклонение по использованию интернета на тарифе Ультра:\",np.std(final_data_ultra['mb_used'],ddof=1))"
   ]
  },
  {
   "cell_type": "markdown",
   "metadata": {},
   "source": [
    "Судя по графикам и описательным статистикам, использование интернета является ключевой услугой, приносящей дополнительную выручку.\n",
    "1. на тарифе Смарт ~55-60% пользователей превышают лимит и доплачивают за дополнительный трафик.\n",
    "2. на тарифе Ультра ~ 80% используют бесплатный трафик в пакете в полном объеме, что может говорить о том, что потребители выбирают этот тариф за включенный в него интернет,т.к. по минутам и сообщениям большая часть абонентов не использует свой лимит."
   ]
  },
  {
   "cell_type": "code",
   "execution_count": 18,
   "metadata": {},
   "outputs": [
    {
     "data": {
      "text/plain": [
       "<matplotlib.axes._subplots.AxesSubplot at 0x7f3816924f50>"
      ]
     },
     "execution_count": 18,
     "metadata": {},
     "output_type": "execute_result"
    },
    {
     "data": {
      "image/png": "[encoded data removed]",
      "text/plain": [
       "<Figure size 432x288 with 1 Axes>"
      ]
     },
     "metadata": {
      "needs_background": "light"
     },
     "output_type": "display_data"
    }
   ],
   "source": [
    "final_data_smart['q_messages'].hist()\n",
    "final_data_ultra['q_messages'].hist()"
   ]
  },
  {
   "cell_type": "code",
   "execution_count": 19,
   "metadata": {},
   "outputs": [
    {
     "name": "stdout",
     "output_type": "stream",
     "text": [
      "count    2229.000000\n",
      "mean       33.384029\n",
      "std        28.227876\n",
      "min         0.000000\n",
      "25%        10.000000\n",
      "50%        28.000000\n",
      "75%        51.000000\n",
      "max       143.000000\n",
      "Name: q_messages, dtype: float64\n",
      "Дисперсия по количеству сообщений на тарифе Смарт: 796.8129584480083\n",
      "Стандартное отклонение по количеству сообщений на тарифе Смарт: 28.22787555676141\n"
     ]
    }
   ],
   "source": [
    "print(final_data_smart['q_messages'].describe())\n",
    "print(\"Дисперсия по количеству сообщений на тарифе Смарт:\",np.var(final_data_smart['q_messages'],ddof=1))\n",
    "print(\"Стандартное отклонение по количеству сообщений на тарифе Смарт:\",np.std(final_data_smart['q_messages'],ddof=1))"
   ]
  },
  {
   "cell_type": "code",
   "execution_count": 20,
   "metadata": {},
   "outputs": [
    {
     "name": "stdout",
     "output_type": "stream",
     "text": [
      "count    985.000000\n",
      "mean      49.363452\n",
      "std       47.804457\n",
      "min        0.000000\n",
      "25%        6.000000\n",
      "50%       38.000000\n",
      "75%       79.000000\n",
      "max      224.000000\n",
      "Name: q_messages, dtype: float64\n",
      "Дисперсия по количеству сообщений на тарифе Ультра: 2285.2661425446736\n",
      "Стандартное отклонение по количеству сообщений на тарифе Ультра: 47.804457350174715\n"
     ]
    }
   ],
   "source": [
    "print(final_data_ultra['q_messages'].describe())\n",
    "print(\"Дисперсия по количеству сообщений на тарифе Ультра:\",np.var(final_data_ultra['q_messages'],ddof=1))\n",
    "print(\"Стандартное отклонение по количеству сообщений на тарифе Ультра:\",np.std(final_data_ultra['q_messages'],ddof=1))"
   ]
  },
  {
   "cell_type": "markdown",
   "metadata": {},
   "source": [
    "На обоих тарифах мы видим сильно смещенное влево распределение. Больше половины пользователей обоих тарифов отправляют в месяц не более 50 сообщений.\n",
    "На тарифе \"Смарт\" похожая картина как и со звонками: ~25% пользователей выходят за ежемесячный лимит, при этом на тарифе \"Ультра\" большая часть выборки укладывается в 100 сообщений в месяц, что составляет 10% от лимита.\n",
    "Можно сказать о том, что услуга смс-сообщений не является ключевой для пользователей и часто используемой. "
   ]
  },
  {
   "cell_type": "markdown",
   "metadata": {},
   "source": [
    "### Шаг 4. Проверьте гипотезы."
   ]
  },
  {
   "cell_type": "code",
   "execution_count": 21,
   "metadata": {},
   "outputs": [
    {
     "name": "stdout",
     "output_type": "stream",
     "text": [
      "p-значение:  1.226189997907554e-215\n",
      "Отвергаем нулевую гипотезу\n",
      "        total_revenue\n",
      "tariff               \n",
      "smart     1194.241812\n",
      "ultra     2059.143147\n"
     ]
    }
   ],
   "source": [
    "from scipy import stats as st\n",
    "import numpy as np\n",
    "\n",
    "alpha = .01\n",
    "\n",
    "results = st.ttest_ind(final_data_smart['total_revenue'], final_data_ultra['total_revenue'])\n",
    "\n",
    "print('p-значение: ', results.pvalue)\n",
    "\n",
    "if (results.pvalue < alpha):\n",
    "    print(\"Отвергаем нулевую гипотезу\")\n",
    "else:\n",
    "    print(\"Не получилось отвергнуть нулевую гипотезу\")\n",
    "    \n",
    "print(final_data.pivot_table(index = 'tariff', values = 'total_revenue', aggfunc = 'mean'))"
   ]
  },
  {
   "cell_type": "markdown",
   "metadata": {},
   "source": [
    "По заданию нам необходимо проверить гипотезу, что средние выручки по тарифам Ультра и Смарт различаются.\n",
    "Сформулируем следующие гипотезы:\n",
    "\n",
    "H0: Average Rev(ultra) == Average Rev(smart)\n",
    "\n",
    "H1: Average Rev(ultra) != Average Rev(smart)\n",
    "\n",
    "Так как мы берем 2 разные выборки: пользователи тарифа Смарт и пользователи тарифа Ультра, которые не являются зависимыми друг от друга, был для расчета был принят метод st.ttest_ind.\n",
    "\n",
    "Мы проверили гипотезу о равенстве средних ежемесячных выручек по тарифам Ультра и Смарт. С вероятностью 99% эта гипотеза неверна и мы можем признать, что размер средней выручки по тарифам Ультра и Смарт неравен.\n",
    "Дополнительно я собрала сводную таблицу, по которой мы видим, что средняя выручка выше на 75% по тарифу Ультра. Раннее мы проанализировали использование пакетов для тарифов и вывели, что на тарифе Смарт, в основном, доплачивают за дополнительный интернет, но это не компенсирует разницу в базовом ежемесячном платеже."
   ]
  },
  {
   "cell_type": "code",
   "execution_count": 23,
   "metadata": {},
   "outputs": [
    {
     "name": "stdout",
     "output_type": "stream",
     "text": [
      "p-значение:  0.4081228281984126\n",
      "Не получилось отвергнуть нулевую гипотезу\n",
      "           total_revenue\n",
      "city_type               \n",
      "Москва       1482.710311\n",
      "другой       1453.816750\n"
     ]
    }
   ],
   "source": [
    "def city_type(x):\n",
    "    if x['city'] == \"Москва\":\n",
    "        return 'Москва'\n",
    "    else:\n",
    "        return 'другой'\n",
    "final_data['city_type'] = final_data.apply(city_type, axis = 1)\n",
    "\n",
    "final_data_moscow = final_data.query('city_type == \"Москва\"')\n",
    "final_data_other = final_data.query('city_type == \"другой\"')\n",
    "\n",
    "alpha = .05\n",
    "\n",
    "results = st.ttest_ind(final_data_moscow['total_revenue'], final_data_other['total_revenue'])\n",
    "\n",
    "print('p-значение: ', results.pvalue)\n",
    "\n",
    "if (results.pvalue < alpha):\n",
    "    print(\"Отвергаем нулевую гипотезу\")\n",
    "else:\n",
    "    print(\"Не получилось отвергнуть нулевую гипотезу\")\n",
    "    \n",
    "print(final_data.pivot_table(index = 'city_type', values = 'total_revenue', aggfunc = 'mean'))\n"
   ]
  },
  {
   "cell_type": "markdown",
   "metadata": {},
   "source": [
    "По заданию нам необходимо проверить гипотезу, что средняя выручка у абонентов в Москве отличается от абонентов в других регионах.\n",
    "Сформулируем следующие гипотезы:\n",
    "\n",
    "H0: Average Rev(Moscow) == Average Rev(Other)\n",
    "\n",
    "H1: Average Rev(Moscow) != Average Rev(Other)\n",
    "\n",
    "Мы берем 2 разных выборки по жителям Москвы и жителям других регионов, данные между собой не связаны, поэтому для расчета был принят метод st.ttest_ind.\n",
    "\n",
    "Гипотеза о равенстве средней выручке между Москвой и регионами с 95% подтверждена и мы можем сделать вывод что средний размер выручки не зависит от разделения абонентов по принципу \"Москва/другой регион\", также мы можем это наглядно увидеть по сводной таблице, где разница в средней выручке составила 30 рублей, т.е. отклонение в пределах 2%."
   ]
  },
  {
   "cell_type": "markdown",
   "metadata": {},
   "source": [
    "### Шаг 5. Общие выводы."
   ]
  },
  {
   "cell_type": "markdown",
   "metadata": {},
   "source": [
    "На основании исследования проведенного выше мы можем ответить Коммерческом департаменту следующее:\n",
    "\n",
    "1. С вероятностью 99% мы можем сказать, что средняя выручка по тарифу Ультра отличается от средней выручки по тарифу Смарт. \n",
    "Также мы выявили, что несмотря на то, что дополнительные услуги на тарифе Смарт  стоят дороже, это не компенсирует разницу в ежемесячных платежах на разных  тарифах: средняя ежемесячная выручка на тарифе Ультра на 75% выше, чем на тарифе Смарт.\n",
    "Для проведения рекламной компании Коммерческий отдел в качестве преимущества тарифа Ультра может использовать информацию о включенном пакете интернета на основании следующих фактов:\n",
    "а) на тарифе Смарт ~55-60% абонентов выходят за лимиты стандартного пакета и докупают дополнительный трафик;\n",
    "б) Тариф Ультра, как можно предположить, пользователи выбирают за объем включенного пакета интернета, ~80% абонентов укладываются в лимит, ~20% доплачивают за дополнительный трафик, при этом если мы посмотрим использование включенного лимита смс и звонков в тариф Ультра, то никто из пользователей не выбирает полный пакет звонков и смс на этом тарифе и ~50% абонентов было бы достаточно пакета в тарифе с низким ежемесячным платежом Смарт.\n",
    "\n",
    "2. С вероятностью 95% мы можем сказать, что размер средней выручки не зависит от того, является ли абонент жителем Москвы или нет.\n",
    "\n",
    "Можно сказать, что в выборку попали регионы с похожим типом потребления услуг. Возможно, если бы в выборку попали регионы с другой доступностью интернета (Норильск, Чукотка и т.д.) распределение тарифов и выручки было бы другим.\n",
    "\n",
    "\n",
    "Таким образом, можно посоветовать Коммерческому департаменту мы можем сказать, что тариф Ультра приносит больше выручки, факторов влияния по регионам Москва/другие регионы не обнаружено. Далее можно было бы увеличить выборку и проверить является ли интернет основной используемой услугой и как меняется его потребление при выборке по большему количеству абонентов. "
   ]
  }
 ],
 "metadata": {
  "kernelspec": {
   "display_name": "Python 3",
   "language": "python",
   "name": "python3"
  },
  "language_info": {
   "codemirror_mode": {
    "name": "ipython",
    "version": 3
   },
   "file_extension": ".py",
   "mimetype": "text/x-python",
   "name": "python",
   "nbconvert_exporter": "python",
   "pygments_lexer": "ipython3",
   "version": "3.7.6"
  }
 },
 "nbformat": 4,
 "nbformat_minor": 2
}
